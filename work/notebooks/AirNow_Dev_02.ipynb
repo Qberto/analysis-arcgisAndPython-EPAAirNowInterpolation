{
 "cells": [
  {
   "cell_type": "markdown",
   "metadata": {},
   "source": [
    "# Interpolation: Air Quality Sensors\n",
    "\n",
    ">* 👟 Ready To Run!\n",
    "* 🖥️ Requires ArcPy\n",
    "* 🖥️ Requires GeoEnrichment Portal Configuration\n",
    "* 🔬 Data Science\n",
    "* 🚀 Data Exploration and Cleaning\n",
    "* 📈 Graphing and Visualization\n",
    "\n",
    "![smokestacks](https://datasciencedemo.esri.com/dsx/notebooks/aabd3c6c47dd4720ab27da895d7a9c2f/files/home/anieto/AbandonedBaggyCoyote.gif)\n",
    "\n",
    "The U.S. EPA AirNow program (www.AirNow.gov) protects public health by providing forecast and real-time observed air quality information across the United States, Canada, and Mexico. AirNow receives real-time air quality observations from over 2,000 monitoring stations and collects forecasts for more than 300 cities. \n",
    "\n",
    "In this notebook we will be exploring air quality monitoring station data to provide reports on air quality metrics for the nation. The purpose of this notebook is to provide an example of how to work with station point data, evaluate interpolation methods to produce a continuous air quality surface for use in maps and applications, and provide an information product to the public informing on the quality of the air for their area of interest. \n",
    "\n",
    "This notebook is produced by Esri in collaboration with the EPA's Office of Air Quality and Standards. "
   ]
  },
  {
   "cell_type": "markdown",
   "metadata": {},
   "source": [
    "**Outline of Steps**\n",
    "\n",
    " 1. Connect to the [AirNow API](https://www.airnowapi.org) to retrieve current station data\n",
    " 2. Explore and Clean the Data\n",
    "    * Explore the data through tables and charts\n",
    "    * Explore the data spatially\n",
    " 3. Perform a spatial analysis of the data\n",
    "    * Basic Interpolate Points\n",
    "    * IDW Smooth\n",
    "    * IDW Smooth Optimized\n",
    "    * Kriging Default\n",
    "    * Kriging Modified\n",
    "    * Emipirical Bayesian Kriging\n",
    "    * EBK Regression Prediction\n",
    " 4. Create a small script to generate a daily interpolation with the selected method\n",
    " 5. Generate a html report for daily scheduling"
   ]
  },
  {
   "cell_type": "markdown",
   "metadata": {},
   "source": [
    "***"
   ]
  },
  {
   "cell_type": "markdown",
   "metadata": {},
   "source": [
    "First, we need to import all the necessary libraries. These are also referred to as Python modules."
   ]
  },
  {
   "cell_type": "code",
   "execution_count": 232,
   "metadata": {},
   "outputs": [],
   "source": [
    "from arcgis.gis import GIS  # ArcGIS API for Python\n",
    "from arcgis.features import GeoAccessor, GeoSeriesAccessor # Module functions to work with spatially-enablded dataframes\n",
    "import pandas as pd         # Pandas is how we handle data in Python\n",
    "import arcpy                # Access to ArcGIS Pro geoprocessing tools \n",
    "import numpy as np          # Access to python's scientific computing library\n",
    "import scipy                # Modules for mathematics, science, and engineering\n",
    "import os                   # Access to operating system commands\n",
    "import requests             # Access to HTTPS commands to retrieve data\n",
    "import getpass              # Access to secure handling of sensitive values (i.e. passwords, API keys)\n",
    "from datetime import date, timedelta # Access to current date and time operations\n",
    "from IPython.display import IFrame # Used to embed webpages for documentation and reference\n",
    "from ipywidgets import *    # Access to utilities to use Jupyter Notebook widgets in neat ways \n",
    "import time                 # Time helper functions\n",
    "import bokeh                # Access to charting tools\n",
    "from bokeh.plotting import figure, show, output_file\n",
    "from bokeh.io import output_notebook, output_file, show\n",
    "from bokeh.models import Legend"
   ]
  },
  {
   "cell_type": "code",
   "execution_count": 233,
   "metadata": {},
   "outputs": [
    {
     "data": {
      "text/html": [
       "\n",
       "    <div class=\"bk-root\">\n",
       "        <a href=\"https://bokeh.pydata.org\" target=\"_blank\" class=\"bk-logo bk-logo-small bk-logo-notebook\"></a>\n",
       "        <span id=\"dbda9ee5-2f52-411b-85ad-efcb3e7b99a9\">Loading BokehJS ...</span>\n",
       "    </div>"
      ]
     },
     "metadata": {},
     "output_type": "display_data"
    },
    {
     "data": {
      "application/javascript": [
       "\n",
       "(function(root) {\n",
       "  function now() {\n",
       "    return new Date();\n",
       "  }\n",
       "\n",
       "  var force = true;\n",
       "\n",
       "  if (typeof (root._bokeh_onload_callbacks) === \"undefined\" || force === true) {\n",
       "    root._bokeh_onload_callbacks = [];\n",
       "    root._bokeh_is_loading = undefined;\n",
       "  }\n",
       "\n",
       "  var JS_MIME_TYPE = 'application/javascript';\n",
       "  var HTML_MIME_TYPE = 'text/html';\n",
       "  var EXEC_MIME_TYPE = 'application/vnd.bokehjs_exec.v0+json';\n",
       "  var CLASS_NAME = 'output_bokeh rendered_html';\n",
       "\n",
       "  /**\n",
       "   * Render data to the DOM node\n",
       "   */\n",
       "  function render(props, node) {\n",
       "    var script = document.createElement(\"script\");\n",
       "    node.appendChild(script);\n",
       "  }\n",
       "\n",
       "  /**\n",
       "   * Handle when an output is cleared or removed\n",
       "   */\n",
       "  function handleClearOutput(event, handle) {\n",
       "    var cell = handle.cell;\n",
       "\n",
       "    var id = cell.output_area._bokeh_element_id;\n",
       "    var server_id = cell.output_area._bokeh_server_id;\n",
       "    // Clean up Bokeh references\n",
       "    if (id != null && id in Bokeh.index) {\n",
       "      Bokeh.index[id].model.document.clear();\n",
       "      delete Bokeh.index[id];\n",
       "    }\n",
       "\n",
       "    if (server_id !== undefined) {\n",
       "      // Clean up Bokeh references\n",
       "      var cmd = \"from bokeh.io.state import curstate; print(curstate().uuid_to_server['\" + server_id + \"'].get_sessions()[0].document.roots[0]._id)\";\n",
       "      cell.notebook.kernel.execute(cmd, {\n",
       "        iopub: {\n",
       "          output: function(msg) {\n",
       "            var id = msg.content.text.trim();\n",
       "            if (id in Bokeh.index) {\n",
       "              Bokeh.index[id].model.document.clear();\n",
       "              delete Bokeh.index[id];\n",
       "            }\n",
       "          }\n",
       "        }\n",
       "      });\n",
       "      // Destroy server and session\n",
       "      var cmd = \"import bokeh.io.notebook as ion; ion.destroy_server('\" + server_id + \"')\";\n",
       "      cell.notebook.kernel.execute(cmd);\n",
       "    }\n",
       "  }\n",
       "\n",
       "  /**\n",
       "   * Handle when a new output is added\n",
       "   */\n",
       "  function handleAddOutput(event, handle) {\n",
       "    var output_area = handle.output_area;\n",
       "    var output = handle.output;\n",
       "\n",
       "    // limit handleAddOutput to display_data with EXEC_MIME_TYPE content only\n",
       "    if ((output.output_type != \"display_data\") || (!output.data.hasOwnProperty(EXEC_MIME_TYPE))) {\n",
       "      return\n",
       "    }\n",
       "\n",
       "    var toinsert = output_area.element.find(\".\" + CLASS_NAME.split(' ')[0]);\n",
       "\n",
       "    if (output.metadata[EXEC_MIME_TYPE][\"id\"] !== undefined) {\n",
       "      toinsert[toinsert.length - 1].firstChild.textContent = output.data[JS_MIME_TYPE];\n",
       "      // store reference to embed id on output_area\n",
       "      output_area._bokeh_element_id = output.metadata[EXEC_MIME_TYPE][\"id\"];\n",
       "    }\n",
       "    if (output.metadata[EXEC_MIME_TYPE][\"server_id\"] !== undefined) {\n",
       "      var bk_div = document.createElement(\"div\");\n",
       "      bk_div.innerHTML = output.data[HTML_MIME_TYPE];\n",
       "      var script_attrs = bk_div.children[0].attributes;\n",
       "      for (var i = 0; i < script_attrs.length; i++) {\n",
       "        toinsert[toinsert.length - 1].firstChild.setAttribute(script_attrs[i].name, script_attrs[i].value);\n",
       "      }\n",
       "      // store reference to server id on output_area\n",
       "      output_area._bokeh_server_id = output.metadata[EXEC_MIME_TYPE][\"server_id\"];\n",
       "    }\n",
       "  }\n",
       "\n",
       "  function register_renderer(events, OutputArea) {\n",
       "\n",
       "    function append_mime(data, metadata, element) {\n",
       "      // create a DOM node to render to\n",
       "      var toinsert = this.create_output_subarea(\n",
       "        metadata,\n",
       "        CLASS_NAME,\n",
       "        EXEC_MIME_TYPE\n",
       "      );\n",
       "      this.keyboard_manager.register_events(toinsert);\n",
       "      // Render to node\n",
       "      var props = {data: data, metadata: metadata[EXEC_MIME_TYPE]};\n",
       "      render(props, toinsert[toinsert.length - 1]);\n",
       "      element.append(toinsert);\n",
       "      return toinsert\n",
       "    }\n",
       "\n",
       "    /* Handle when an output is cleared or removed */\n",
       "    events.on('clear_output.CodeCell', handleClearOutput);\n",
       "    events.on('delete.Cell', handleClearOutput);\n",
       "\n",
       "    /* Handle when a new output is added */\n",
       "    events.on('output_added.OutputArea', handleAddOutput);\n",
       "\n",
       "    /**\n",
       "     * Register the mime type and append_mime function with output_area\n",
       "     */\n",
       "    OutputArea.prototype.register_mime_type(EXEC_MIME_TYPE, append_mime, {\n",
       "      /* Is output safe? */\n",
       "      safe: true,\n",
       "      /* Index of renderer in `output_area.display_order` */\n",
       "      index: 0\n",
       "    });\n",
       "  }\n",
       "\n",
       "  // register the mime type if in Jupyter Notebook environment and previously unregistered\n",
       "  if (root.Jupyter !== undefined) {\n",
       "    var events = require('base/js/events');\n",
       "    var OutputArea = require('notebook/js/outputarea').OutputArea;\n",
       "\n",
       "    if (OutputArea.prototype.mime_types().indexOf(EXEC_MIME_TYPE) == -1) {\n",
       "      register_renderer(events, OutputArea);\n",
       "    }\n",
       "  }\n",
       "\n",
       "  \n",
       "  if (typeof (root._bokeh_timeout) === \"undefined\" || force === true) {\n",
       "    root._bokeh_timeout = Date.now() + 5000;\n",
       "    root._bokeh_failed_load = false;\n",
       "  }\n",
       "\n",
       "  var NB_LOAD_WARNING = {'data': {'text/html':\n",
       "     \"<div style='background-color: #fdd'>\\n\"+\n",
       "     \"<p>\\n\"+\n",
       "     \"BokehJS does not appear to have successfully loaded. If loading BokehJS from CDN, this \\n\"+\n",
       "     \"may be due to a slow or bad network connection. Possible fixes:\\n\"+\n",
       "     \"</p>\\n\"+\n",
       "     \"<ul>\\n\"+\n",
       "     \"<li>re-rerun `output_notebook()` to attempt to load from CDN again, or</li>\\n\"+\n",
       "     \"<li>use INLINE resources instead, as so:</li>\\n\"+\n",
       "     \"</ul>\\n\"+\n",
       "     \"<code>\\n\"+\n",
       "     \"from bokeh.resources import INLINE\\n\"+\n",
       "     \"output_notebook(resources=INLINE)\\n\"+\n",
       "     \"</code>\\n\"+\n",
       "     \"</div>\"}};\n",
       "\n",
       "  function display_loaded() {\n",
       "    var el = document.getElementById(\"dbda9ee5-2f52-411b-85ad-efcb3e7b99a9\");\n",
       "    if (el != null) {\n",
       "      el.textContent = \"BokehJS is loading...\";\n",
       "    }\n",
       "    if (root.Bokeh !== undefined) {\n",
       "      if (el != null) {\n",
       "        el.textContent = \"BokehJS \" + root.Bokeh.version + \" successfully loaded.\";\n",
       "      }\n",
       "    } else if (Date.now() < root._bokeh_timeout) {\n",
       "      setTimeout(display_loaded, 100)\n",
       "    }\n",
       "  }\n",
       "\n",
       "\n",
       "  function run_callbacks() {\n",
       "    try {\n",
       "      root._bokeh_onload_callbacks.forEach(function(callback) { callback() });\n",
       "    }\n",
       "    finally {\n",
       "      delete root._bokeh_onload_callbacks\n",
       "    }\n",
       "    console.info(\"Bokeh: all callbacks have finished\");\n",
       "  }\n",
       "\n",
       "  function load_libs(js_urls, callback) {\n",
       "    root._bokeh_onload_callbacks.push(callback);\n",
       "    if (root._bokeh_is_loading > 0) {\n",
       "      console.log(\"Bokeh: BokehJS is being loaded, scheduling callback at\", now());\n",
       "      return null;\n",
       "    }\n",
       "    if (js_urls == null || js_urls.length === 0) {\n",
       "      run_callbacks();\n",
       "      return null;\n",
       "    }\n",
       "    console.log(\"Bokeh: BokehJS not loaded, scheduling load and callback at\", now());\n",
       "    root._bokeh_is_loading = js_urls.length;\n",
       "    for (var i = 0; i < js_urls.length; i++) {\n",
       "      var url = js_urls[i];\n",
       "      var s = document.createElement('script');\n",
       "      s.src = url;\n",
       "      s.async = false;\n",
       "      s.onreadystatechange = s.onload = function() {\n",
       "        root._bokeh_is_loading--;\n",
       "        if (root._bokeh_is_loading === 0) {\n",
       "          console.log(\"Bokeh: all BokehJS libraries loaded\");\n",
       "          run_callbacks()\n",
       "        }\n",
       "      };\n",
       "      s.onerror = function() {\n",
       "        console.warn(\"failed to load library \" + url);\n",
       "      };\n",
       "      console.log(\"Bokeh: injecting script tag for BokehJS library: \", url);\n",
       "      document.getElementsByTagName(\"head\")[0].appendChild(s);\n",
       "    }\n",
       "  };var element = document.getElementById(\"dbda9ee5-2f52-411b-85ad-efcb3e7b99a9\");\n",
       "  if (element == null) {\n",
       "    console.log(\"Bokeh: ERROR: autoload.js configured with elementid 'dbda9ee5-2f52-411b-85ad-efcb3e7b99a9' but no matching script tag was found. \")\n",
       "    return false;\n",
       "  }\n",
       "\n",
       "  var js_urls = [\"https://cdn.pydata.org/bokeh/release/bokeh-0.13.0.min.js\", \"https://cdn.pydata.org/bokeh/release/bokeh-widgets-0.13.0.min.js\", \"https://cdn.pydata.org/bokeh/release/bokeh-tables-0.13.0.min.js\", \"https://cdn.pydata.org/bokeh/release/bokeh-gl-0.13.0.min.js\"];\n",
       "\n",
       "  var inline_js = [\n",
       "    function(Bokeh) {\n",
       "      Bokeh.set_log_level(\"info\");\n",
       "    },\n",
       "    \n",
       "    function(Bokeh) {\n",
       "      \n",
       "    },\n",
       "    function(Bokeh) {\n",
       "      console.log(\"Bokeh: injecting CSS: https://cdn.pydata.org/bokeh/release/bokeh-0.13.0.min.css\");\n",
       "      Bokeh.embed.inject_css(\"https://cdn.pydata.org/bokeh/release/bokeh-0.13.0.min.css\");\n",
       "      console.log(\"Bokeh: injecting CSS: https://cdn.pydata.org/bokeh/release/bokeh-widgets-0.13.0.min.css\");\n",
       "      Bokeh.embed.inject_css(\"https://cdn.pydata.org/bokeh/release/bokeh-widgets-0.13.0.min.css\");\n",
       "      console.log(\"Bokeh: injecting CSS: https://cdn.pydata.org/bokeh/release/bokeh-tables-0.13.0.min.css\");\n",
       "      Bokeh.embed.inject_css(\"https://cdn.pydata.org/bokeh/release/bokeh-tables-0.13.0.min.css\");\n",
       "    }\n",
       "  ];\n",
       "\n",
       "  function run_inline_js() {\n",
       "    \n",
       "    if ((root.Bokeh !== undefined) || (force === true)) {\n",
       "      for (var i = 0; i < inline_js.length; i++) {\n",
       "        inline_js[i].call(root, root.Bokeh);\n",
       "      }if (force === true) {\n",
       "        display_loaded();\n",
       "      }} else if (Date.now() < root._bokeh_timeout) {\n",
       "      setTimeout(run_inline_js, 100);\n",
       "    } else if (!root._bokeh_failed_load) {\n",
       "      console.log(\"Bokeh: BokehJS failed to load within specified timeout.\");\n",
       "      root._bokeh_failed_load = true;\n",
       "    } else if (force !== true) {\n",
       "      var cell = $(document.getElementById(\"dbda9ee5-2f52-411b-85ad-efcb3e7b99a9\")).parents('.cell').data().cell;\n",
       "      cell.output_area.append_execute_result(NB_LOAD_WARNING)\n",
       "    }\n",
       "\n",
       "  }\n",
       "\n",
       "  if (root._bokeh_is_loading === 0) {\n",
       "    console.log(\"Bokeh: BokehJS loaded, going straight to plotting\");\n",
       "    run_inline_js();\n",
       "  } else {\n",
       "    load_libs(js_urls, function() {\n",
       "      console.log(\"Bokeh: BokehJS plotting callback run at\", now());\n",
       "      run_inline_js();\n",
       "    });\n",
       "  }\n",
       "}(window));"
      ],
      "application/vnd.bokehjs_load.v0+json": "\n(function(root) {\n  function now() {\n    return new Date();\n  }\n\n  var force = true;\n\n  if (typeof (root._bokeh_onload_callbacks) === \"undefined\" || force === true) {\n    root._bokeh_onload_callbacks = [];\n    root._bokeh_is_loading = undefined;\n  }\n\n  \n\n  \n  if (typeof (root._bokeh_timeout) === \"undefined\" || force === true) {\n    root._bokeh_timeout = Date.now() + 5000;\n    root._bokeh_failed_load = false;\n  }\n\n  var NB_LOAD_WARNING = {'data': {'text/html':\n     \"<div style='background-color: #fdd'>\\n\"+\n     \"<p>\\n\"+\n     \"BokehJS does not appear to have successfully loaded. If loading BokehJS from CDN, this \\n\"+\n     \"may be due to a slow or bad network connection. Possible fixes:\\n\"+\n     \"</p>\\n\"+\n     \"<ul>\\n\"+\n     \"<li>re-rerun `output_notebook()` to attempt to load from CDN again, or</li>\\n\"+\n     \"<li>use INLINE resources instead, as so:</li>\\n\"+\n     \"</ul>\\n\"+\n     \"<code>\\n\"+\n     \"from bokeh.resources import INLINE\\n\"+\n     \"output_notebook(resources=INLINE)\\n\"+\n     \"</code>\\n\"+\n     \"</div>\"}};\n\n  function display_loaded() {\n    var el = document.getElementById(\"dbda9ee5-2f52-411b-85ad-efcb3e7b99a9\");\n    if (el != null) {\n      el.textContent = \"BokehJS is loading...\";\n    }\n    if (root.Bokeh !== undefined) {\n      if (el != null) {\n        el.textContent = \"BokehJS \" + root.Bokeh.version + \" successfully loaded.\";\n      }\n    } else if (Date.now() < root._bokeh_timeout) {\n      setTimeout(display_loaded, 100)\n    }\n  }\n\n\n  function run_callbacks() {\n    try {\n      root._bokeh_onload_callbacks.forEach(function(callback) { callback() });\n    }\n    finally {\n      delete root._bokeh_onload_callbacks\n    }\n    console.info(\"Bokeh: all callbacks have finished\");\n  }\n\n  function load_libs(js_urls, callback) {\n    root._bokeh_onload_callbacks.push(callback);\n    if (root._bokeh_is_loading > 0) {\n      console.log(\"Bokeh: BokehJS is being loaded, scheduling callback at\", now());\n      return null;\n    }\n    if (js_urls == null || js_urls.length === 0) {\n      run_callbacks();\n      return null;\n    }\n    console.log(\"Bokeh: BokehJS not loaded, scheduling load and callback at\", now());\n    root._bokeh_is_loading = js_urls.length;\n    for (var i = 0; i < js_urls.length; i++) {\n      var url = js_urls[i];\n      var s = document.createElement('script');\n      s.src = url;\n      s.async = false;\n      s.onreadystatechange = s.onload = function() {\n        root._bokeh_is_loading--;\n        if (root._bokeh_is_loading === 0) {\n          console.log(\"Bokeh: all BokehJS libraries loaded\");\n          run_callbacks()\n        }\n      };\n      s.onerror = function() {\n        console.warn(\"failed to load library \" + url);\n      };\n      console.log(\"Bokeh: injecting script tag for BokehJS library: \", url);\n      document.getElementsByTagName(\"head\")[0].appendChild(s);\n    }\n  };var element = document.getElementById(\"dbda9ee5-2f52-411b-85ad-efcb3e7b99a9\");\n  if (element == null) {\n    console.log(\"Bokeh: ERROR: autoload.js configured with elementid 'dbda9ee5-2f52-411b-85ad-efcb3e7b99a9' but no matching script tag was found. \")\n    return false;\n  }\n\n  var js_urls = [\"https://cdn.pydata.org/bokeh/release/bokeh-0.13.0.min.js\", \"https://cdn.pydata.org/bokeh/release/bokeh-widgets-0.13.0.min.js\", \"https://cdn.pydata.org/bokeh/release/bokeh-tables-0.13.0.min.js\", \"https://cdn.pydata.org/bokeh/release/bokeh-gl-0.13.0.min.js\"];\n\n  var inline_js = [\n    function(Bokeh) {\n      Bokeh.set_log_level(\"info\");\n    },\n    \n    function(Bokeh) {\n      \n    },\n    function(Bokeh) {\n      console.log(\"Bokeh: injecting CSS: https://cdn.pydata.org/bokeh/release/bokeh-0.13.0.min.css\");\n      Bokeh.embed.inject_css(\"https://cdn.pydata.org/bokeh/release/bokeh-0.13.0.min.css\");\n      console.log(\"Bokeh: injecting CSS: https://cdn.pydata.org/bokeh/release/bokeh-widgets-0.13.0.min.css\");\n      Bokeh.embed.inject_css(\"https://cdn.pydata.org/bokeh/release/bokeh-widgets-0.13.0.min.css\");\n      console.log(\"Bokeh: injecting CSS: https://cdn.pydata.org/bokeh/release/bokeh-tables-0.13.0.min.css\");\n      Bokeh.embed.inject_css(\"https://cdn.pydata.org/bokeh/release/bokeh-tables-0.13.0.min.css\");\n    }\n  ];\n\n  function run_inline_js() {\n    \n    if ((root.Bokeh !== undefined) || (force === true)) {\n      for (var i = 0; i < inline_js.length; i++) {\n        inline_js[i].call(root, root.Bokeh);\n      }if (force === true) {\n        display_loaded();\n      }} else if (Date.now() < root._bokeh_timeout) {\n      setTimeout(run_inline_js, 100);\n    } else if (!root._bokeh_failed_load) {\n      console.log(\"Bokeh: BokehJS failed to load within specified timeout.\");\n      root._bokeh_failed_load = true;\n    } else if (force !== true) {\n      var cell = $(document.getElementById(\"dbda9ee5-2f52-411b-85ad-efcb3e7b99a9\")).parents('.cell').data().cell;\n      cell.output_area.append_execute_result(NB_LOAD_WARNING)\n    }\n\n  }\n\n  if (root._bokeh_is_loading === 0) {\n    console.log(\"Bokeh: BokehJS loaded, going straight to plotting\");\n    run_inline_js();\n  } else {\n    load_libs(js_urls, function() {\n      console.log(\"Bokeh: BokehJS plotting callback run at\", now());\n      run_inline_js();\n    });\n  }\n}(window));"
     },
     "metadata": {},
     "output_type": "display_data"
    }
   ],
   "source": [
    "# Set bokeh to output plots in the notebook\n",
    "output_notebook()"
   ]
  },
  {
   "cell_type": "code",
   "execution_count": 234,
   "metadata": {},
   "outputs": [],
   "source": [
    "gis = GIS(\"home\")           # Connect to the home GIS (ArcGIS Enterprise in which this notebook is running.)"
   ]
  },
  {
   "cell_type": "code",
   "execution_count": 235,
   "metadata": {},
   "outputs": [],
   "source": [
    "# Set arcpy environment to overwrite outputs by default\n",
    "arcpy.env.overwriteOutput = True"
   ]
  },
  {
   "cell_type": "markdown",
   "metadata": {},
   "source": [
    "***"
   ]
  },
  {
   "cell_type": "markdown",
   "metadata": {},
   "source": [
    "# 1. Get data using the AirNow API"
   ]
  },
  {
   "cell_type": "markdown",
   "metadata": {},
   "source": [
    "In this section we will connect to the AirNow API to retrieve the latest air quality sensor data. From the API we will receive a table of air quality monitoring stations containing various measurements of air pollution. We need to convert this to a format that we can use in ArcGIS to interpolate and produce a continuous surface for use in maps and reports on the nation's air quality on any given day. This continuous surface is then shared as a service, which can be used by other applications and maps created by the public."
   ]
  },
  {
   "cell_type": "markdown",
   "metadata": {},
   "source": [
    "## Connect to the AirNow API"
   ]
  },
  {
   "cell_type": "markdown",
   "metadata": {},
   "source": [
    "First, we need to connect to the AirNow API and build a request for the most current air quality monitoring station data. Let's explore the webpage to find documentation that can help."
   ]
  },
  {
   "cell_type": "code",
   "execution_count": 236,
   "metadata": {},
   "outputs": [
    {
     "data": {
      "text/html": [
       "\n",
       "        <iframe\n",
       "            width=\"1366\"\n",
       "            height=\"600\"\n",
       "            src=\"https://docs.airnowapi.org/aq101\"\n",
       "            frameborder=\"0\"\n",
       "            allowfullscreen\n",
       "        ></iframe>\n",
       "        "
      ],
      "text/plain": [
       "<IPython.lib.display.IFrame at 0x7f58dd0e5cc0>"
      ]
     },
     "execution_count": 236,
     "metadata": {},
     "output_type": "execute_result"
    }
   ],
   "source": [
    "IFrame('https://docs.airnowapi.org/aq101', width=1366, height=600)"
   ]
  },
  {
   "cell_type": "markdown",
   "metadata": {},
   "source": [
    "We will retrieve station point data using a timestamp and an API key to authenticate. The following is an example AirNow REST Request: https://www.airnowapi.org/airnowsitedata_2019030104?API_KEY=E7481512-D56F-E511-A1314CE18CD4A2B0\n",
    "\n",
    "In order to access your API Key, go to https://docs.airnowapi.org/ and request an account. \n",
    "\n",
    "> If you cannot access an API key, this notebook provides a sample dataset to work with. \n",
    "\n",
    "> If you do have an API key, we can query the latest available air quality monitoring station data. Let's get started."
   ]
  },
  {
   "cell_type": "markdown",
   "metadata": {},
   "source": [
    "Here, we'll determine the date string for the API request for yesterday's data."
   ]
  },
  {
   "cell_type": "code",
   "execution_count": 237,
   "metadata": {},
   "outputs": [
    {
     "name": "stdout",
     "output_type": "stream",
     "text": [
      "2019042404\n"
     ]
    }
   ],
   "source": [
    "yesterday = date.today() - timedelta(1)\n",
    "date_string = yesterday.strftime('%Y%m%d')+\"04\"\n",
    "print(date_string)"
   ]
  },
  {
   "cell_type": "markdown",
   "metadata": {},
   "source": [
    "Now let's pass our AirNow API key"
   ]
  },
  {
   "cell_type": "code",
   "execution_count": 238,
   "metadata": {},
   "outputs": [
    {
     "name": "stdout",
     "output_type": "stream",
     "text": [
      "AirNow API Key: ········\n"
     ]
    }
   ],
   "source": [
    "api_key = getpass.getpass(\"AirNow API Key: \")"
   ]
  },
  {
   "cell_type": "markdown",
   "metadata": {},
   "source": [
    "And now... we have our AirNow API request built: "
   ]
  },
  {
   "cell_type": "code",
   "execution_count": 239,
   "metadata": {},
   "outputs": [],
   "source": [
    "url = \"https://www.airnowapi.org/airnowsitedata_{0}?API_KEY={1}\".format(date_string, api_key)"
   ]
  },
  {
   "cell_type": "markdown",
   "metadata": {},
   "source": [
    "From this point, Python's Pandas library is our best friend to retrieve data and start working. Pandas has a \"read_csv\" function, and we can pass the AirNow request URL as the source of the csv. The result is a Pandas Dataframe, a powerful data format that we can work with. "
   ]
  },
  {
   "cell_type": "code",
   "execution_count": 240,
   "metadata": {
    "scrolled": true
   },
   "outputs": [
    {
     "data": {
      "text/html": [
       "<div>\n",
       "<style scoped>\n",
       "    .dataframe tbody tr th:only-of-type {\n",
       "        vertical-align: middle;\n",
       "    }\n",
       "\n",
       "    .dataframe tbody tr th {\n",
       "        vertical-align: top;\n",
       "    }\n",
       "\n",
       "    .dataframe thead th {\n",
       "        text-align: right;\n",
       "    }\n",
       "</style>\n",
       "<table border=\"1\" class=\"dataframe\">\n",
       "  <thead>\n",
       "    <tr style=\"text-align: right;\">\n",
       "      <th></th>\n",
       "      <th>AQSID</th>\n",
       "      <th>SiteName</th>\n",
       "      <th>Status</th>\n",
       "      <th>EPARegion</th>\n",
       "      <th>Latitude</th>\n",
       "      <th>Longitude</th>\n",
       "      <th>Elevation</th>\n",
       "      <th>GMTOffset</th>\n",
       "      <th>CountryCode</th>\n",
       "      <th>StateName</th>\n",
       "      <th>...</th>\n",
       "      <th>OZONE</th>\n",
       "      <th>OZONE_Unit</th>\n",
       "      <th>NO2</th>\n",
       "      <th>NO2_Unit</th>\n",
       "      <th>CO</th>\n",
       "      <th>CO_Unit</th>\n",
       "      <th>SO2</th>\n",
       "      <th>SO2_Unit</th>\n",
       "      <th>PM10</th>\n",
       "      <th>PM10_Unit</th>\n",
       "    </tr>\n",
       "  </thead>\n",
       "  <tbody>\n",
       "    <tr>\n",
       "      <th>0</th>\n",
       "      <td>483951076</td>\n",
       "      <td>Franklin Oak Grove</td>\n",
       "      <td>Active</td>\n",
       "      <td>R6</td>\n",
       "      <td>31.168889</td>\n",
       "      <td>-96.481944</td>\n",
       "      <td>136.9</td>\n",
       "      <td>0.0</td>\n",
       "      <td>US</td>\n",
       "      <td>TX</td>\n",
       "      <td>...</td>\n",
       "      <td>NaN</td>\n",
       "      <td>NaN</td>\n",
       "      <td>NaN</td>\n",
       "      <td>NaN</td>\n",
       "      <td>NaN</td>\n",
       "      <td>NaN</td>\n",
       "      <td>NaN</td>\n",
       "      <td>NaN</td>\n",
       "      <td>NaN</td>\n",
       "      <td>NaN</td>\n",
       "    </tr>\n",
       "    <tr>\n",
       "      <th>1</th>\n",
       "      <td>080699991</td>\n",
       "      <td>Rocky Mtn NP Collocated</td>\n",
       "      <td>Active</td>\n",
       "      <td>R3</td>\n",
       "      <td>40.277800</td>\n",
       "      <td>-105.545300</td>\n",
       "      <td>2744.7</td>\n",
       "      <td>0.0</td>\n",
       "      <td>US</td>\n",
       "      <td>CO</td>\n",
       "      <td>...</td>\n",
       "      <td>NaN</td>\n",
       "      <td>NaN</td>\n",
       "      <td>NaN</td>\n",
       "      <td>NaN</td>\n",
       "      <td>NaN</td>\n",
       "      <td>NaN</td>\n",
       "      <td>NaN</td>\n",
       "      <td>NaN</td>\n",
       "      <td>NaN</td>\n",
       "      <td>NaN</td>\n",
       "    </tr>\n",
       "    <tr>\n",
       "      <th>2</th>\n",
       "      <td>530639995</td>\n",
       "      <td>Colbert-Greenbluff</td>\n",
       "      <td>Active</td>\n",
       "      <td>R10</td>\n",
       "      <td>47.808226</td>\n",
       "      <td>-117.343270</td>\n",
       "      <td>577.4</td>\n",
       "      <td>-8.0</td>\n",
       "      <td>US</td>\n",
       "      <td>WA</td>\n",
       "      <td>...</td>\n",
       "      <td>NaN</td>\n",
       "      <td>NaN</td>\n",
       "      <td>NaN</td>\n",
       "      <td>NaN</td>\n",
       "      <td>NaN</td>\n",
       "      <td>NaN</td>\n",
       "      <td>NaN</td>\n",
       "      <td>NaN</td>\n",
       "      <td>NaN</td>\n",
       "      <td>NaN</td>\n",
       "    </tr>\n",
       "    <tr>\n",
       "      <th>3</th>\n",
       "      <td>530639997</td>\n",
       "      <td>Spokane-E Broadway Ave (US)</td>\n",
       "      <td>Active</td>\n",
       "      <td>R10</td>\n",
       "      <td>47.663963</td>\n",
       "      <td>-117.257652</td>\n",
       "      <td>611.2</td>\n",
       "      <td>-8.0</td>\n",
       "      <td>US</td>\n",
       "      <td>WA</td>\n",
       "      <td>...</td>\n",
       "      <td>NaN</td>\n",
       "      <td>NaN</td>\n",
       "      <td>NaN</td>\n",
       "      <td>NaN</td>\n",
       "      <td>NaN</td>\n",
       "      <td>NaN</td>\n",
       "      <td>NaN</td>\n",
       "      <td>NaN</td>\n",
       "      <td>NaN</td>\n",
       "      <td>NaN</td>\n",
       "    </tr>\n",
       "    <tr>\n",
       "      <th>4</th>\n",
       "      <td>530639996</td>\n",
       "      <td>Liberty Lake-E Valeyway (US)</td>\n",
       "      <td>Inactive</td>\n",
       "      <td>R10</td>\n",
       "      <td>47.660568</td>\n",
       "      <td>-117.084503</td>\n",
       "      <td>650.3</td>\n",
       "      <td>-8.0</td>\n",
       "      <td>US</td>\n",
       "      <td>WA</td>\n",
       "      <td>...</td>\n",
       "      <td>NaN</td>\n",
       "      <td>NaN</td>\n",
       "      <td>NaN</td>\n",
       "      <td>NaN</td>\n",
       "      <td>NaN</td>\n",
       "      <td>NaN</td>\n",
       "      <td>NaN</td>\n",
       "      <td>NaN</td>\n",
       "      <td>NaN</td>\n",
       "      <td>NaN</td>\n",
       "    </tr>\n",
       "  </tbody>\n",
       "</table>\n",
       "<p>5 rows × 34 columns</p>\n",
       "</div>"
      ],
      "text/plain": [
       "       AQSID                      SiteName    Status EPARegion   Latitude  \\\n",
       "0  483951076            Franklin Oak Grove    Active        R6  31.168889   \n",
       "1  080699991       Rocky Mtn NP Collocated    Active        R3  40.277800   \n",
       "2  530639995            Colbert-Greenbluff    Active       R10  47.808226   \n",
       "3  530639997   Spokane-E Broadway Ave (US)    Active       R10  47.663963   \n",
       "4  530639996  Liberty Lake-E Valeyway (US)  Inactive       R10  47.660568   \n",
       "\n",
       "    Longitude  Elevation  GMTOffset CountryCode StateName    ...     OZONE  \\\n",
       "0  -96.481944      136.9        0.0          US        TX    ...       NaN   \n",
       "1 -105.545300     2744.7        0.0          US        CO    ...       NaN   \n",
       "2 -117.343270      577.4       -8.0          US        WA    ...       NaN   \n",
       "3 -117.257652      611.2       -8.0          US        WA    ...       NaN   \n",
       "4 -117.084503      650.3       -8.0          US        WA    ...       NaN   \n",
       "\n",
       "  OZONE_Unit NO2 NO2_Unit  CO  CO_Unit  SO2  SO2_Unit  PM10  PM10_Unit  \n",
       "0        NaN NaN      NaN NaN      NaN  NaN       NaN   NaN        NaN  \n",
       "1        NaN NaN      NaN NaN      NaN  NaN       NaN   NaN        NaN  \n",
       "2        NaN NaN      NaN NaN      NaN  NaN       NaN   NaN        NaN  \n",
       "3        NaN NaN      NaN NaN      NaN  NaN       NaN   NaN        NaN  \n",
       "4        NaN NaN      NaN NaN      NaN  NaN       NaN   NaN        NaN  \n",
       "\n",
       "[5 rows x 34 columns]"
      ]
     },
     "execution_count": 240,
     "metadata": {},
     "output_type": "execute_result"
    }
   ],
   "source": [
    "airnow_df = pd.read_csv(url)\n",
    "airnow_df.head() # Using the .head() method prints the first five lines of the dataset"
   ]
  },
  {
   "cell_type": "code",
   "execution_count": 59,
   "metadata": {},
   "outputs": [],
   "source": [
    "# Optional: Export the dataset to a csv on the local filespace\n",
    "airnow_df.to_csv(r\"/arcgis/home/anieto/workspace/airnow_testdata.csv\")"
   ]
  },
  {
   "cell_type": "markdown",
   "metadata": {},
   "source": [
    "# 2. Explore and Clean the Data"
   ]
  },
  {
   "cell_type": "markdown",
   "metadata": {},
   "source": [
    "## Explore the data tabularly"
   ]
  },
  {
   "cell_type": "markdown",
   "metadata": {},
   "source": [
    "Now that we have our data, let's take a look at a few data exploration tools in Pandas. First, let's take a look at the top ten records of the dataframe."
   ]
  },
  {
   "cell_type": "code",
   "execution_count": 60,
   "metadata": {},
   "outputs": [
    {
     "data": {
      "text/html": [
       "<div>\n",
       "<style scoped>\n",
       "    .dataframe tbody tr th:only-of-type {\n",
       "        vertical-align: middle;\n",
       "    }\n",
       "\n",
       "    .dataframe tbody tr th {\n",
       "        vertical-align: top;\n",
       "    }\n",
       "\n",
       "    .dataframe thead th {\n",
       "        text-align: right;\n",
       "    }\n",
       "</style>\n",
       "<table border=\"1\" class=\"dataframe\">\n",
       "  <thead>\n",
       "    <tr style=\"text-align: right;\">\n",
       "      <th></th>\n",
       "      <th>AQSID</th>\n",
       "      <th>SiteName</th>\n",
       "      <th>Status</th>\n",
       "      <th>EPARegion</th>\n",
       "      <th>Latitude</th>\n",
       "      <th>Longitude</th>\n",
       "      <th>Elevation</th>\n",
       "      <th>GMTOffset</th>\n",
       "      <th>CountryCode</th>\n",
       "      <th>StateName</th>\n",
       "      <th>...</th>\n",
       "      <th>OZONE</th>\n",
       "      <th>OZONE_Unit</th>\n",
       "      <th>NO2</th>\n",
       "      <th>NO2_Unit</th>\n",
       "      <th>CO</th>\n",
       "      <th>CO_Unit</th>\n",
       "      <th>SO2</th>\n",
       "      <th>SO2_Unit</th>\n",
       "      <th>PM10</th>\n",
       "      <th>PM10_Unit</th>\n",
       "    </tr>\n",
       "  </thead>\n",
       "  <tbody>\n",
       "    <tr>\n",
       "      <th>0</th>\n",
       "      <td>483951076</td>\n",
       "      <td>Franklin Oak Grove</td>\n",
       "      <td>Active</td>\n",
       "      <td>R6</td>\n",
       "      <td>31.168889</td>\n",
       "      <td>-96.481944</td>\n",
       "      <td>136.9</td>\n",
       "      <td>0.0</td>\n",
       "      <td>US</td>\n",
       "      <td>TX</td>\n",
       "      <td>...</td>\n",
       "      <td>NaN</td>\n",
       "      <td>NaN</td>\n",
       "      <td>NaN</td>\n",
       "      <td>NaN</td>\n",
       "      <td>NaN</td>\n",
       "      <td>NaN</td>\n",
       "      <td>NaN</td>\n",
       "      <td>NaN</td>\n",
       "      <td>NaN</td>\n",
       "      <td>NaN</td>\n",
       "    </tr>\n",
       "    <tr>\n",
       "      <th>1</th>\n",
       "      <td>080699991</td>\n",
       "      <td>Rocky Mtn NP Collocated</td>\n",
       "      <td>Active</td>\n",
       "      <td>R3</td>\n",
       "      <td>40.277800</td>\n",
       "      <td>-105.545300</td>\n",
       "      <td>2744.7</td>\n",
       "      <td>0.0</td>\n",
       "      <td>US</td>\n",
       "      <td>CO</td>\n",
       "      <td>...</td>\n",
       "      <td>NaN</td>\n",
       "      <td>NaN</td>\n",
       "      <td>NaN</td>\n",
       "      <td>NaN</td>\n",
       "      <td>NaN</td>\n",
       "      <td>NaN</td>\n",
       "      <td>NaN</td>\n",
       "      <td>NaN</td>\n",
       "      <td>NaN</td>\n",
       "      <td>NaN</td>\n",
       "    </tr>\n",
       "    <tr>\n",
       "      <th>2</th>\n",
       "      <td>530639995</td>\n",
       "      <td>Colbert-Greenbluff</td>\n",
       "      <td>Active</td>\n",
       "      <td>R10</td>\n",
       "      <td>47.808226</td>\n",
       "      <td>-117.343270</td>\n",
       "      <td>577.4</td>\n",
       "      <td>-8.0</td>\n",
       "      <td>US</td>\n",
       "      <td>WA</td>\n",
       "      <td>...</td>\n",
       "      <td>NaN</td>\n",
       "      <td>NaN</td>\n",
       "      <td>NaN</td>\n",
       "      <td>NaN</td>\n",
       "      <td>NaN</td>\n",
       "      <td>NaN</td>\n",
       "      <td>NaN</td>\n",
       "      <td>NaN</td>\n",
       "      <td>NaN</td>\n",
       "      <td>NaN</td>\n",
       "    </tr>\n",
       "    <tr>\n",
       "      <th>3</th>\n",
       "      <td>530639997</td>\n",
       "      <td>Spokane-E Broadway Ave (US)</td>\n",
       "      <td>Active</td>\n",
       "      <td>R10</td>\n",
       "      <td>47.663963</td>\n",
       "      <td>-117.257652</td>\n",
       "      <td>611.2</td>\n",
       "      <td>-8.0</td>\n",
       "      <td>US</td>\n",
       "      <td>WA</td>\n",
       "      <td>...</td>\n",
       "      <td>NaN</td>\n",
       "      <td>NaN</td>\n",
       "      <td>NaN</td>\n",
       "      <td>NaN</td>\n",
       "      <td>NaN</td>\n",
       "      <td>NaN</td>\n",
       "      <td>NaN</td>\n",
       "      <td>NaN</td>\n",
       "      <td>NaN</td>\n",
       "      <td>NaN</td>\n",
       "    </tr>\n",
       "    <tr>\n",
       "      <th>4</th>\n",
       "      <td>530639996</td>\n",
       "      <td>Liberty Lake-E Valeyway (US)</td>\n",
       "      <td>Inactive</td>\n",
       "      <td>R10</td>\n",
       "      <td>47.660568</td>\n",
       "      <td>-117.084503</td>\n",
       "      <td>650.3</td>\n",
       "      <td>-8.0</td>\n",
       "      <td>US</td>\n",
       "      <td>WA</td>\n",
       "      <td>...</td>\n",
       "      <td>NaN</td>\n",
       "      <td>NaN</td>\n",
       "      <td>NaN</td>\n",
       "      <td>NaN</td>\n",
       "      <td>NaN</td>\n",
       "      <td>NaN</td>\n",
       "      <td>NaN</td>\n",
       "      <td>NaN</td>\n",
       "      <td>NaN</td>\n",
       "      <td>NaN</td>\n",
       "    </tr>\n",
       "    <tr>\n",
       "      <th>5</th>\n",
       "      <td>120350004</td>\n",
       "      <td>Flagler County</td>\n",
       "      <td>Active</td>\n",
       "      <td>R4</td>\n",
       "      <td>29.489082</td>\n",
       "      <td>-81.276833</td>\n",
       "      <td>0.0</td>\n",
       "      <td>-5.0</td>\n",
       "      <td>US</td>\n",
       "      <td>FL</td>\n",
       "      <td>...</td>\n",
       "      <td>11.0</td>\n",
       "      <td>PPB</td>\n",
       "      <td>NaN</td>\n",
       "      <td>NaN</td>\n",
       "      <td>NaN</td>\n",
       "      <td>NaN</td>\n",
       "      <td>NaN</td>\n",
       "      <td>NaN</td>\n",
       "      <td>NaN</td>\n",
       "      <td>NaN</td>\n",
       "    </tr>\n",
       "    <tr>\n",
       "      <th>6</th>\n",
       "      <td>240050009</td>\n",
       "      <td>Baltimore County Near Road</td>\n",
       "      <td>Active</td>\n",
       "      <td>R3</td>\n",
       "      <td>39.371679</td>\n",
       "      <td>-76.746814</td>\n",
       "      <td>132.7</td>\n",
       "      <td>-5.0</td>\n",
       "      <td>US</td>\n",
       "      <td>MD</td>\n",
       "      <td>...</td>\n",
       "      <td>NaN</td>\n",
       "      <td>NaN</td>\n",
       "      <td>26.0</td>\n",
       "      <td>PPB</td>\n",
       "      <td>NaN</td>\n",
       "      <td>NaN</td>\n",
       "      <td>NaN</td>\n",
       "      <td>NaN</td>\n",
       "      <td>NaN</td>\n",
       "      <td>NaN</td>\n",
       "    </tr>\n",
       "    <tr>\n",
       "      <th>7</th>\n",
       "      <td>360850114</td>\n",
       "      <td>Staten Island</td>\n",
       "      <td>Inactive</td>\n",
       "      <td>R2</td>\n",
       "      <td>40.631699</td>\n",
       "      <td>-74.156898</td>\n",
       "      <td>0.0</td>\n",
       "      <td>-5.0</td>\n",
       "      <td>US</td>\n",
       "      <td>NY</td>\n",
       "      <td>...</td>\n",
       "      <td>NaN</td>\n",
       "      <td>NaN</td>\n",
       "      <td>NaN</td>\n",
       "      <td>NaN</td>\n",
       "      <td>NaN</td>\n",
       "      <td>NaN</td>\n",
       "      <td>NaN</td>\n",
       "      <td>NaN</td>\n",
       "      <td>NaN</td>\n",
       "      <td>NaN</td>\n",
       "    </tr>\n",
       "    <tr>\n",
       "      <th>8</th>\n",
       "      <td>MMGBU1001</td>\n",
       "      <td>GBUAPCD EBAM @ Bridgeport</td>\n",
       "      <td>Inactive</td>\n",
       "      <td>R9</td>\n",
       "      <td>38.257656</td>\n",
       "      <td>-119.218483</td>\n",
       "      <td>0.0</td>\n",
       "      <td>-8.0</td>\n",
       "      <td>US</td>\n",
       "      <td>MM</td>\n",
       "      <td>...</td>\n",
       "      <td>NaN</td>\n",
       "      <td>NaN</td>\n",
       "      <td>NaN</td>\n",
       "      <td>NaN</td>\n",
       "      <td>NaN</td>\n",
       "      <td>NaN</td>\n",
       "      <td>NaN</td>\n",
       "      <td>NaN</td>\n",
       "      <td>NaN</td>\n",
       "      <td>NaN</td>\n",
       "    </tr>\n",
       "    <tr>\n",
       "      <th>9</th>\n",
       "      <td>360850111</td>\n",
       "      <td>Fresh Kills</td>\n",
       "      <td>Active</td>\n",
       "      <td>R2</td>\n",
       "      <td>40.580200</td>\n",
       "      <td>-74.199400</td>\n",
       "      <td>0.0</td>\n",
       "      <td>-5.0</td>\n",
       "      <td>US</td>\n",
       "      <td>NY</td>\n",
       "      <td>...</td>\n",
       "      <td>NaN</td>\n",
       "      <td>NaN</td>\n",
       "      <td>NaN</td>\n",
       "      <td>NaN</td>\n",
       "      <td>NaN</td>\n",
       "      <td>NaN</td>\n",
       "      <td>NaN</td>\n",
       "      <td>NaN</td>\n",
       "      <td>NaN</td>\n",
       "      <td>NaN</td>\n",
       "    </tr>\n",
       "  </tbody>\n",
       "</table>\n",
       "<p>10 rows × 34 columns</p>\n",
       "</div>"
      ],
      "text/plain": [
       "       AQSID                      SiteName    Status EPARegion   Latitude  \\\n",
       "0  483951076            Franklin Oak Grove    Active        R6  31.168889   \n",
       "1  080699991       Rocky Mtn NP Collocated    Active        R3  40.277800   \n",
       "2  530639995            Colbert-Greenbluff    Active       R10  47.808226   \n",
       "3  530639997   Spokane-E Broadway Ave (US)    Active       R10  47.663963   \n",
       "4  530639996  Liberty Lake-E Valeyway (US)  Inactive       R10  47.660568   \n",
       "5  120350004                Flagler County    Active        R4  29.489082   \n",
       "6  240050009    Baltimore County Near Road    Active        R3  39.371679   \n",
       "7  360850114                 Staten Island  Inactive        R2  40.631699   \n",
       "8  MMGBU1001     GBUAPCD EBAM @ Bridgeport  Inactive        R9  38.257656   \n",
       "9  360850111                   Fresh Kills    Active        R2  40.580200   \n",
       "\n",
       "    Longitude  Elevation  GMTOffset CountryCode StateName    ...     OZONE  \\\n",
       "0  -96.481944      136.9        0.0          US        TX    ...       NaN   \n",
       "1 -105.545300     2744.7        0.0          US        CO    ...       NaN   \n",
       "2 -117.343270      577.4       -8.0          US        WA    ...       NaN   \n",
       "3 -117.257652      611.2       -8.0          US        WA    ...       NaN   \n",
       "4 -117.084503      650.3       -8.0          US        WA    ...       NaN   \n",
       "5  -81.276833        0.0       -5.0          US        FL    ...      11.0   \n",
       "6  -76.746814      132.7       -5.0          US        MD    ...       NaN   \n",
       "7  -74.156898        0.0       -5.0          US        NY    ...       NaN   \n",
       "8 -119.218483        0.0       -8.0          US        MM    ...       NaN   \n",
       "9  -74.199400        0.0       -5.0          US        NY    ...       NaN   \n",
       "\n",
       "  OZONE_Unit   NO2 NO2_Unit  CO  CO_Unit  SO2  SO2_Unit  PM10  PM10_Unit  \n",
       "0        NaN   NaN      NaN NaN      NaN  NaN       NaN   NaN        NaN  \n",
       "1        NaN   NaN      NaN NaN      NaN  NaN       NaN   NaN        NaN  \n",
       "2        NaN   NaN      NaN NaN      NaN  NaN       NaN   NaN        NaN  \n",
       "3        NaN   NaN      NaN NaN      NaN  NaN       NaN   NaN        NaN  \n",
       "4        NaN   NaN      NaN NaN      NaN  NaN       NaN   NaN        NaN  \n",
       "5        PPB   NaN      NaN NaN      NaN  NaN       NaN   NaN        NaN  \n",
       "6        NaN  26.0      PPB NaN      NaN  NaN       NaN   NaN        NaN  \n",
       "7        NaN   NaN      NaN NaN      NaN  NaN       NaN   NaN        NaN  \n",
       "8        NaN   NaN      NaN NaN      NaN  NaN       NaN   NaN        NaN  \n",
       "9        NaN   NaN      NaN NaN      NaN  NaN       NaN   NaN        NaN  \n",
       "\n",
       "[10 rows x 34 columns]"
      ]
     },
     "execution_count": 60,
     "metadata": {},
     "output_type": "execute_result"
    }
   ],
   "source": [
    "airnow_df.head(10)"
   ]
  },
  {
   "cell_type": "code",
   "execution_count": 61,
   "metadata": {},
   "outputs": [
    {
     "name": "stdout",
     "output_type": "stream",
     "text": [
      "There are 2816 records in the dataset originally from the API.\n"
     ]
    }
   ],
   "source": [
    "original_number_of_records = len(airnow_df)\n",
    "print(\"There are {} records in the dataset originally from the API.\".format(original_number_of_records))"
   ]
  },
  {
   "cell_type": "markdown",
   "metadata": {},
   "source": [
    "Now let's explore the columns and their data types"
   ]
  },
  {
   "cell_type": "code",
   "execution_count": 62,
   "metadata": {},
   "outputs": [
    {
     "data": {
      "text/plain": [
       "AQSID                           object\n",
       "SiteName                        object\n",
       "Status                          object\n",
       "EPARegion                       object\n",
       "Latitude                       float64\n",
       "Longitude                      float64\n",
       "Elevation                      float64\n",
       "GMTOffset                      float64\n",
       "CountryCode                     object\n",
       "StateName                       object\n",
       "ValidDate                       object\n",
       "ValidTime                       object\n",
       "DataSource                      object\n",
       "ReportingArea_PipeDelimited     object\n",
       "OZONE_AQI                      float64\n",
       "PM10_AQI                       float64\n",
       "PM25_AQI                       float64\n",
       "NO2_AQI                        float64\n",
       "OZONE_Measured                   int64\n",
       "PM10_Measured                    int64\n",
       "PM25_Measured                    int64\n",
       "NO2_Measured                     int64\n",
       "PM25                           float64\n",
       "PM25_Unit                       object\n",
       "OZONE                          float64\n",
       "OZONE_Unit                      object\n",
       "NO2                            float64\n",
       "NO2_Unit                        object\n",
       "CO                             float64\n",
       "CO_Unit                         object\n",
       "SO2                            float64\n",
       "SO2_Unit                        object\n",
       "PM10                           float64\n",
       "PM10_Unit                       object\n",
       "dtype: object"
      ]
     },
     "execution_count": 62,
     "metadata": {},
     "output_type": "execute_result"
    }
   ],
   "source": [
    "airnow_df.dtypes"
   ]
  },
  {
   "cell_type": "markdown",
   "metadata": {},
   "source": [
    "One of the columns, 'PM25_AQI', refers to particulate matter, a form of air pollution. Let's explore the distribution of values in this column using a simple chart, invoked via Pandas's built-in .plot() method."
   ]
  },
  {
   "cell_type": "code",
   "execution_count": 63,
   "metadata": {
    "scrolled": true
   },
   "outputs": [
    {
     "data": {
      "text/plain": [
       "<matplotlib.axes._subplots.AxesSubplot at 0x7f5910a7c0f0>"
      ]
     },
     "execution_count": 63,
     "metadata": {},
     "output_type": "execute_result"
    },
    {
     "data": {
      "image/png": "[encoded data removed]",
      "text/plain": [
       "<Figure size 432x288 with 1 Axes>"
      ]
     },
     "metadata": {
      "needs_background": "light"
     },
     "output_type": "display_data"
    }
   ],
   "source": [
    "airnow_df['PM25_AQI'].plot(kind='hist')"
   ]
  },
  {
   "cell_type": "markdown",
   "metadata": {},
   "source": [
    "Unfortunately, this chart looks off... There's some stations that register with a _very_ negative value. Let's take a look at some summary statistics for this field."
   ]
  },
  {
   "cell_type": "code",
   "execution_count": 64,
   "metadata": {},
   "outputs": [
    {
     "data": {
      "text/plain": [
       "count    952.000000\n",
       "mean      19.280462\n",
       "std       75.162258\n",
       "min     -999.000000\n",
       "25%       15.000000\n",
       "50%       23.000000\n",
       "75%       31.000000\n",
       "max       91.000000\n",
       "Name: PM25_AQI, dtype: float64"
      ]
     },
     "execution_count": 64,
     "metadata": {},
     "output_type": "execute_result"
    }
   ],
   "source": [
    "airnow_df['PM25_AQI'].describe()"
   ]
  },
  {
   "cell_type": "markdown",
   "metadata": {},
   "source": [
    "There's the culprit: stations with missing data have been coded as -999. Let's query these records out. "
   ]
  },
  {
   "cell_type": "markdown",
   "metadata": {},
   "source": [
    "### Clean PM25_AQI Data"
   ]
  },
  {
   "cell_type": "code",
   "execution_count": 65,
   "metadata": {},
   "outputs": [
    {
     "name": "stdout",
     "output_type": "stream",
     "text": [
      "Pre-query record count: 2816\n",
      "Post-query record count: 947\n"
     ]
    }
   ],
   "source": [
    "print(\"Pre-query record count: {0}\".format(airnow_df.shape[0]))\n",
    "airnow_df = airnow_df.query(\"PM25_AQI > -999\")\n",
    "print(\"Post-query record count: {0}\".format(airnow_df.shape[0]))"
   ]
  },
  {
   "cell_type": "code",
   "execution_count": 66,
   "metadata": {},
   "outputs": [],
   "source": [
    "airnow_df = airnow_df.query(\"PM25_AQI > -999\")"
   ]
  },
  {
   "cell_type": "markdown",
   "metadata": {},
   "source": [
    "Re-executing the code that created the PM25_AQI chart now gives us a much cleaner distribution of values that we can work with. "
   ]
  },
  {
   "cell_type": "code",
   "execution_count": 67,
   "metadata": {},
   "outputs": [
    {
     "data": {
      "text/plain": [
       "<matplotlib.axes._subplots.AxesSubplot at 0x7f5910c645f8>"
      ]
     },
     "execution_count": 67,
     "metadata": {},
     "output_type": "execute_result"
    },
    {
     "data": {
      "image/png": "[encoded data removed]",
      "text/plain": [
       "<Figure size 432x288 with 1 Axes>"
      ]
     },
     "metadata": {
      "needs_background": "light"
     },
     "output_type": "display_data"
    }
   ],
   "source": [
    "airnow_df['PM25_AQI'].plot(kind='hist')"
   ]
  },
  {
   "cell_type": "markdown",
   "metadata": {},
   "source": [
    "Using a python library called Bokeh, we can make a nicer chart"
   ]
  },
  {
   "cell_type": "code",
   "execution_count": 68,
   "metadata": {},
   "outputs": [
    {
     "data": {
      "text/html": [
       "\n",
       "\n",
       "\n",
       "\n",
       "\n",
       "\n",
       "  <div class=\"bk-root\" id=\"32ee53bc-08c6-4deb-b86a-a8a65ece0fd5\"></div>\n"
      ]
     },
     "metadata": {},
     "output_type": "display_data"
    },
    {
     "data": {
      "application/javascript": [
       "(function(root) {\n",
       "  function embed_document(root) {\n",
       "    \n",
       "  var docs_json = {\"c45439e2-9977-4a35-ad36-01f8c3364799\":{\"roots\":{\"references\":[{\"attributes\":{},\"id\":\"443f6748-a099-4a07-a46b-9d46bcc00f34\",\"type\":\"PanTool\"},{\"attributes\":{\"bottom_units\":\"screen\",\"fill_alpha\":{\"value\":0.5},\"fill_color\":{\"value\":\"lightgrey\"},\"left_units\":\"screen\",\"level\":\"overlay\",\"line_alpha\":{\"value\":1.0},\"line_color\":{\"value\":\"black\"},\"line_dash\":[4,4],\"line_width\":{\"value\":2},\"plot\":null,\"render_mode\":\"css\",\"right_units\":\"screen\",\"top_units\":\"screen\"},\"id\":\"4c889a86-52d3-47c7-b5bd-ea7ec9d61e3d\",\"type\":\"BoxAnnotation\"},{\"attributes\":{\"source\":{\"id\":\"4ccf86aa-b273-4acc-ac1e-d9bf395cf2fd\",\"type\":\"ColumnDataSource\"}},\"id\":\"259b5777-d8fd-44e4-ae6d-f4f663cd09bb\",\"type\":\"CDSView\"},{\"attributes\":{\"callback\":null,\"data\":{\"left\":{\"__ndarray__\":\"AAAAAAAAAAAzMzMzMzMiQDMzMzMzMzJAzMzMzMxMO0AzMzMzMzNCQAAAAAAAwEZAzMzMzMxMS0CZmZmZmdlPQDMzMzMzM1JAmZmZmZl5VEA=\",\"dtype\":\"float64\",\"shape\":[10]},\"right\":{\"__ndarray__\":\"MzMzMzMzIkAzMzMzMzMyQMzMzMzMTDtAMzMzMzMzQkAAAAAAAMBGQMzMzMzMTEtAmZmZmZnZT0AzMzMzMzNSQJmZmZmZeVRAAAAAAADAVkA=\",\"dtype\":\"float64\",\"shape\":[10]},\"top\":[83,259,262,206,66,37,24,4,5,1]},\"selected\":{\"id\":\"6fec305d-3280-4366-8a00-5d17ad601b1b\",\"type\":\"Selection\"},\"selection_policy\":{\"id\":\"9333525c-a3d1-4294-8f63-7a3136dd99a6\",\"type\":\"UnionRenderers\"}},\"id\":\"4ccf86aa-b273-4acc-ac1e-d9bf395cf2fd\",\"type\":\"ColumnDataSource\"},{\"attributes\":{\"plot\":null,\"text\":\"\"},\"id\":\"a0c6f491-4b0b-4170-bb8c-7c5a6451a8ae\",\"type\":\"Title\"},{\"attributes\":{\"plot\":{\"id\":\"99aeeae8-a2f5-4a9e-9160-b91fc5a0f6fb\",\"subtype\":\"Figure\",\"type\":\"Plot\"},\"ticker\":{\"id\":\"423b2cd4-a04e-45f9-8a1d-57025ef46c59\",\"type\":\"BasicTicker\"}},\"id\":\"180f6e2f-e3c4-43e7-8ee2-e3e62351693d\",\"type\":\"Grid\"},{\"attributes\":{},\"id\":\"6fec305d-3280-4366-8a00-5d17ad601b1b\",\"type\":\"Selection\"},{\"attributes\":{},\"id\":\"9333525c-a3d1-4294-8f63-7a3136dd99a6\",\"type\":\"UnionRenderers\"},{\"attributes\":{},\"id\":\"df6943ac-6d46-4dd1-93be-411712646afc\",\"type\":\"BasicTicker\"},{\"attributes\":{\"below\":[{\"id\":\"868ce960-ef65-4758-b8bb-434018c0ec2e\",\"type\":\"LinearAxis\"}],\"left\":[{\"id\":\"27e311cc-f75c-4cd3-b149-3671a30a1f17\",\"type\":\"LinearAxis\"}],\"renderers\":[{\"id\":\"868ce960-ef65-4758-b8bb-434018c0ec2e\",\"type\":\"LinearAxis\"},{\"id\":\"180f6e2f-e3c4-43e7-8ee2-e3e62351693d\",\"type\":\"Grid\"},{\"id\":\"27e311cc-f75c-4cd3-b149-3671a30a1f17\",\"type\":\"LinearAxis\"},{\"id\":\"d890fc75-748a-4758-8dcb-fd8a103efabd\",\"type\":\"Grid\"},{\"id\":\"4c889a86-52d3-47c7-b5bd-ea7ec9d61e3d\",\"type\":\"BoxAnnotation\"},{\"id\":\"71309941-743d-4681-b977-db915732734d\",\"type\":\"GlyphRenderer\"}],\"title\":{\"id\":\"a0c6f491-4b0b-4170-bb8c-7c5a6451a8ae\",\"type\":\"Title\"},\"toolbar\":{\"id\":\"230e5a78-c619-46b8-9225-7925cf1ae539\",\"type\":\"Toolbar\"},\"x_range\":{\"id\":\"543e31df-e75a-4295-b787-4146557e451c\",\"type\":\"DataRange1d\"},\"x_scale\":{\"id\":\"9111fec5-476d-44e2-b930-6721a8e0662a\",\"type\":\"LinearScale\"},\"y_range\":{\"id\":\"7d051041-f21c-4f12-864e-1ca723c923b0\",\"type\":\"DataRange1d\"},\"y_scale\":{\"id\":\"cbe9663b-7cd3-4161-9b06-1bd81d2db20a\",\"type\":\"LinearScale\"}},\"id\":\"99aeeae8-a2f5-4a9e-9160-b91fc5a0f6fb\",\"subtype\":\"Figure\",\"type\":\"Plot\"},{\"attributes\":{\"callback\":null},\"id\":\"543e31df-e75a-4295-b787-4146557e451c\",\"type\":\"DataRange1d\"},{\"attributes\":{},\"id\":\"bfc9b2cd-eff7-49c6-a98e-f635001636e2\",\"type\":\"ResetTool\"},{\"attributes\":{},\"id\":\"b766b3e0-6afa-4dd9-90fe-bf490b1d8b32\",\"type\":\"BasicTickFormatter\"},{\"attributes\":{\"bottom\":{\"value\":0},\"fill_color\":{\"value\":\"#1f77b4\"},\"left\":{\"field\":\"left\"},\"line_color\":{\"value\":\"white\"},\"right\":{\"field\":\"right\"},\"top\":{\"field\":\"top\"}},\"id\":\"36e09a0f-eee3-4189-bf67-af85ff19126e\",\"type\":\"Quad\"},{\"attributes\":{},\"id\":\"423b2cd4-a04e-45f9-8a1d-57025ef46c59\",\"type\":\"BasicTicker\"},{\"attributes\":{\"callback\":null},\"id\":\"7d051041-f21c-4f12-864e-1ca723c923b0\",\"type\":\"DataRange1d\"},{\"attributes\":{},\"id\":\"38ec6bb5-e900-4d5f-b327-381b3df37f73\",\"type\":\"SaveTool\"},{\"attributes\":{},\"id\":\"cbe9663b-7cd3-4161-9b06-1bd81d2db20a\",\"type\":\"LinearScale\"},{\"attributes\":{},\"id\":\"d5940dd6-37b9-4832-b02e-2f7605d39ff5\",\"type\":\"WheelZoomTool\"},{\"attributes\":{},\"id\":\"9111fec5-476d-44e2-b930-6721a8e0662a\",\"type\":\"LinearScale\"},{\"attributes\":{\"formatter\":{\"id\":\"b766b3e0-6afa-4dd9-90fe-bf490b1d8b32\",\"type\":\"BasicTickFormatter\"},\"plot\":{\"id\":\"99aeeae8-a2f5-4a9e-9160-b91fc5a0f6fb\",\"subtype\":\"Figure\",\"type\":\"Plot\"},\"ticker\":{\"id\":\"df6943ac-6d46-4dd1-93be-411712646afc\",\"type\":\"BasicTicker\"}},\"id\":\"27e311cc-f75c-4cd3-b149-3671a30a1f17\",\"type\":\"LinearAxis\"},{\"attributes\":{\"bottom\":{\"value\":0},\"fill_alpha\":{\"value\":0.1},\"fill_color\":{\"value\":\"#1f77b4\"},\"left\":{\"field\":\"left\"},\"line_alpha\":{\"value\":0.1},\"line_color\":{\"value\":\"#1f77b4\"},\"right\":{\"field\":\"right\"},\"top\":{\"field\":\"top\"}},\"id\":\"0eb23e3f-42cf-4aaf-ac2a-9f4f8cb6937f\",\"type\":\"Quad\"},{\"attributes\":{\"formatter\":{\"id\":\"90f0bf8b-d3e4-47c8-97b9-a651682e659b\",\"type\":\"BasicTickFormatter\"},\"plot\":{\"id\":\"99aeeae8-a2f5-4a9e-9160-b91fc5a0f6fb\",\"subtype\":\"Figure\",\"type\":\"Plot\"},\"ticker\":{\"id\":\"423b2cd4-a04e-45f9-8a1d-57025ef46c59\",\"type\":\"BasicTicker\"}},\"id\":\"868ce960-ef65-4758-b8bb-434018c0ec2e\",\"type\":\"LinearAxis\"},{\"attributes\":{},\"id\":\"7de38bc0-b66f-4e0e-abd7-51a2412ddc96\",\"type\":\"HelpTool\"},{\"attributes\":{\"data_source\":{\"id\":\"4ccf86aa-b273-4acc-ac1e-d9bf395cf2fd\",\"type\":\"ColumnDataSource\"},\"glyph\":{\"id\":\"36e09a0f-eee3-4189-bf67-af85ff19126e\",\"type\":\"Quad\"},\"hover_glyph\":null,\"muted_glyph\":null,\"nonselection_glyph\":{\"id\":\"0eb23e3f-42cf-4aaf-ac2a-9f4f8cb6937f\",\"type\":\"Quad\"},\"selection_glyph\":null,\"view\":{\"id\":\"259b5777-d8fd-44e4-ae6d-f4f663cd09bb\",\"type\":\"CDSView\"}},\"id\":\"71309941-743d-4681-b977-db915732734d\",\"type\":\"GlyphRenderer\"},{\"attributes\":{\"overlay\":{\"id\":\"4c889a86-52d3-47c7-b5bd-ea7ec9d61e3d\",\"type\":\"BoxAnnotation\"}},\"id\":\"c50dcf4f-c20e-49c1-9d03-b0b36fc7aba8\",\"type\":\"BoxZoomTool\"},{\"attributes\":{},\"id\":\"90f0bf8b-d3e4-47c8-97b9-a651682e659b\",\"type\":\"BasicTickFormatter\"},{\"attributes\":{\"active_drag\":\"auto\",\"active_inspect\":\"auto\",\"active_multi\":null,\"active_scroll\":\"auto\",\"active_tap\":\"auto\",\"tools\":[{\"id\":\"443f6748-a099-4a07-a46b-9d46bcc00f34\",\"type\":\"PanTool\"},{\"id\":\"d5940dd6-37b9-4832-b02e-2f7605d39ff5\",\"type\":\"WheelZoomTool\"},{\"id\":\"c50dcf4f-c20e-49c1-9d03-b0b36fc7aba8\",\"type\":\"BoxZoomTool\"},{\"id\":\"38ec6bb5-e900-4d5f-b327-381b3df37f73\",\"type\":\"SaveTool\"},{\"id\":\"bfc9b2cd-eff7-49c6-a98e-f635001636e2\",\"type\":\"ResetTool\"},{\"id\":\"7de38bc0-b66f-4e0e-abd7-51a2412ddc96\",\"type\":\"HelpTool\"}]},\"id\":\"230e5a78-c619-46b8-9225-7925cf1ae539\",\"type\":\"Toolbar\"},{\"attributes\":{\"dimension\":1,\"plot\":{\"id\":\"99aeeae8-a2f5-4a9e-9160-b91fc5a0f6fb\",\"subtype\":\"Figure\",\"type\":\"Plot\"},\"ticker\":{\"id\":\"df6943ac-6d46-4dd1-93be-411712646afc\",\"type\":\"BasicTicker\"}},\"id\":\"d890fc75-748a-4758-8dcb-fd8a103efabd\",\"type\":\"Grid\"}],\"root_ids\":[\"99aeeae8-a2f5-4a9e-9160-b91fc5a0f6fb\"]},\"title\":\"Bokeh Application\",\"version\":\"0.13.0\"}};\n",
       "  var render_items = [{\"docid\":\"c45439e2-9977-4a35-ad36-01f8c3364799\",\"roots\":{\"99aeeae8-a2f5-4a9e-9160-b91fc5a0f6fb\":\"32ee53bc-08c6-4deb-b86a-a8a65ece0fd5\"}}];\n",
       "  root.Bokeh.embed.embed_items_notebook(docs_json, render_items);\n",
       "\n",
       "  }\n",
       "  if (root.Bokeh !== undefined) {\n",
       "    embed_document(root);\n",
       "  } else {\n",
       "    var attempts = 0;\n",
       "    var timer = setInterval(function(root) {\n",
       "      if (root.Bokeh !== undefined) {\n",
       "        embed_document(root);\n",
       "        clearInterval(timer);\n",
       "      }\n",
       "      attempts++;\n",
       "      if (attempts > 100) {\n",
       "        console.log(\"Bokeh: ERROR: Unable to run BokehJS code because BokehJS library is missing\")\n",
       "        clearInterval(timer);\n",
       "      }\n",
       "    }, 10, root)\n",
       "  }\n",
       "})(window);"
      ],
      "application/vnd.bokehjs_exec.v0+json": ""
     },
     "metadata": {
      "application/vnd.bokehjs_exec.v0+json": {
       "id": "99aeeae8-a2f5-4a9e-9160-b91fc5a0f6fb"
      }
     },
     "output_type": "display_data"
    }
   ],
   "source": [
    "hist, edges = np.histogram(airnow_df['PM25_AQI'])\n",
    "\n",
    "p = figure()\n",
    "p.quad(top=hist, bottom=0, left=edges[:-1], right=edges[1:], line_color=\"white\")\n",
    "\n",
    "# output_file(\"hist.html\")\n",
    "show(p)"
   ]
  },
  {
   "cell_type": "markdown",
   "metadata": {},
   "source": [
    "## Explore the data spatially"
   ]
  },
  {
   "cell_type": "markdown",
   "metadata": {},
   "source": [
    "We need to convert our Pandas dataframe into a Spatially-Enabled Dataframe (SEDF). This allows us to quickly work with spatial analysis tools and more easily visualize the information on a map. \n",
    "\n",
    "The Spatially Enabled DataFrame (SeDF) inserts a custom namespace called spatial into the popular Pandas DataFrame structure to give it spatial abilities. Once you have two fields for latitude and longitude respectively, you can convert a Pandas DataFrame to a SeDF. Besides, you can also create SeDF from many other sources, including GeoJSON, feature classes, shapefiles, feature layers, and feature services, etc.\n",
    "\n",
    "SeDF is based on data structures inherently suited to data analysis, with natural operations for the filtering and inspecting of subsets of values which are fundamental to statistical and geographic manipulations. For more information about SeDF, please refer to: https://developers.arcgis.com/python/guide/introduction-to-the-spatially-enabled-dataframe/"
   ]
  },
  {
   "cell_type": "code",
   "execution_count": 69,
   "metadata": {},
   "outputs": [
    {
     "data": {
      "text/html": [
       "<div>\n",
       "<style scoped>\n",
       "    .dataframe tbody tr th:only-of-type {\n",
       "        vertical-align: middle;\n",
       "    }\n",
       "\n",
       "    .dataframe tbody tr th {\n",
       "        vertical-align: top;\n",
       "    }\n",
       "\n",
       "    .dataframe thead th {\n",
       "        text-align: right;\n",
       "    }\n",
       "</style>\n",
       "<table border=\"1\" class=\"dataframe\">\n",
       "  <thead>\n",
       "    <tr style=\"text-align: right;\">\n",
       "      <th></th>\n",
       "      <th>AQSID</th>\n",
       "      <th>SiteName</th>\n",
       "      <th>Status</th>\n",
       "      <th>EPARegion</th>\n",
       "      <th>Latitude</th>\n",
       "      <th>Longitude</th>\n",
       "      <th>Elevation</th>\n",
       "      <th>GMTOffset</th>\n",
       "      <th>CountryCode</th>\n",
       "      <th>StateName</th>\n",
       "      <th>...</th>\n",
       "      <th>OZONE_Unit</th>\n",
       "      <th>NO2</th>\n",
       "      <th>NO2_Unit</th>\n",
       "      <th>CO</th>\n",
       "      <th>CO_Unit</th>\n",
       "      <th>SO2</th>\n",
       "      <th>SO2_Unit</th>\n",
       "      <th>PM10</th>\n",
       "      <th>PM10_Unit</th>\n",
       "      <th>SHAPE</th>\n",
       "    </tr>\n",
       "  </thead>\n",
       "  <tbody>\n",
       "    <tr>\n",
       "      <th>2</th>\n",
       "      <td>530639995</td>\n",
       "      <td>Colbert-Greenbluff</td>\n",
       "      <td>Active</td>\n",
       "      <td>R10</td>\n",
       "      <td>47.808226</td>\n",
       "      <td>-117.343270</td>\n",
       "      <td>577.4</td>\n",
       "      <td>-8.0</td>\n",
       "      <td>US</td>\n",
       "      <td>WA</td>\n",
       "      <td>...</td>\n",
       "      <td>NaN</td>\n",
       "      <td>NaN</td>\n",
       "      <td>NaN</td>\n",
       "      <td>NaN</td>\n",
       "      <td>NaN</td>\n",
       "      <td>NaN</td>\n",
       "      <td>NaN</td>\n",
       "      <td>NaN</td>\n",
       "      <td>NaN</td>\n",
       "      <td>{\"x\": -117.34326999999999, \"y\": 47.808226, \"sp...</td>\n",
       "    </tr>\n",
       "    <tr>\n",
       "      <th>3</th>\n",
       "      <td>530639997</td>\n",
       "      <td>Spokane-E Broadway Ave (US)</td>\n",
       "      <td>Active</td>\n",
       "      <td>R10</td>\n",
       "      <td>47.663963</td>\n",
       "      <td>-117.257652</td>\n",
       "      <td>611.2</td>\n",
       "      <td>-8.0</td>\n",
       "      <td>US</td>\n",
       "      <td>WA</td>\n",
       "      <td>...</td>\n",
       "      <td>NaN</td>\n",
       "      <td>NaN</td>\n",
       "      <td>NaN</td>\n",
       "      <td>NaN</td>\n",
       "      <td>NaN</td>\n",
       "      <td>NaN</td>\n",
       "      <td>NaN</td>\n",
       "      <td>NaN</td>\n",
       "      <td>NaN</td>\n",
       "      <td>{\"x\": -117.25765200000001, \"y\": 47.663963, \"sp...</td>\n",
       "    </tr>\n",
       "    <tr>\n",
       "      <th>10</th>\n",
       "      <td>390610048</td>\n",
       "      <td>Cincinnati Near Road</td>\n",
       "      <td>Active</td>\n",
       "      <td>R5</td>\n",
       "      <td>39.146025</td>\n",
       "      <td>-84.538375</td>\n",
       "      <td>0.0</td>\n",
       "      <td>-5.0</td>\n",
       "      <td>US</td>\n",
       "      <td>OH</td>\n",
       "      <td>...</td>\n",
       "      <td>NaN</td>\n",
       "      <td>NaN</td>\n",
       "      <td>NaN</td>\n",
       "      <td>0.63</td>\n",
       "      <td>PPM</td>\n",
       "      <td>NaN</td>\n",
       "      <td>NaN</td>\n",
       "      <td>NaN</td>\n",
       "      <td>NaN</td>\n",
       "      <td>{\"x\": -84.538375, \"y\": 39.146025, \"spatialRefe...</td>\n",
       "    </tr>\n",
       "    <tr>\n",
       "      <th>14</th>\n",
       "      <td>390610040</td>\n",
       "      <td>Taft</td>\n",
       "      <td>Active</td>\n",
       "      <td>R5</td>\n",
       "      <td>39.128860</td>\n",
       "      <td>-84.504040</td>\n",
       "      <td>0.0</td>\n",
       "      <td>-5.0</td>\n",
       "      <td>US</td>\n",
       "      <td>OH</td>\n",
       "      <td>...</td>\n",
       "      <td>PPB</td>\n",
       "      <td>8.0</td>\n",
       "      <td>PPB</td>\n",
       "      <td>0.14</td>\n",
       "      <td>PPM</td>\n",
       "      <td>1.0</td>\n",
       "      <td>PPB</td>\n",
       "      <td>22.0</td>\n",
       "      <td>UG/M3</td>\n",
       "      <td>{\"x\": -84.50404, \"y\": 39.128859999999996, \"spa...</td>\n",
       "    </tr>\n",
       "    <tr>\n",
       "      <th>16</th>\n",
       "      <td>390990014</td>\n",
       "      <td>Youngstown - Head Start</td>\n",
       "      <td>Active</td>\n",
       "      <td>R5</td>\n",
       "      <td>41.095938</td>\n",
       "      <td>-80.658467</td>\n",
       "      <td>0.0</td>\n",
       "      <td>-5.0</td>\n",
       "      <td>US</td>\n",
       "      <td>OH</td>\n",
       "      <td>...</td>\n",
       "      <td>NaN</td>\n",
       "      <td>NaN</td>\n",
       "      <td>NaN</td>\n",
       "      <td>NaN</td>\n",
       "      <td>NaN</td>\n",
       "      <td>NaN</td>\n",
       "      <td>NaN</td>\n",
       "      <td>NaN</td>\n",
       "      <td>NaN</td>\n",
       "      <td>{\"x\": -80.658467, \"y\": 41.095938000000004, \"sp...</td>\n",
       "    </tr>\n",
       "  </tbody>\n",
       "</table>\n",
       "<p>5 rows × 35 columns</p>\n",
       "</div>"
      ],
      "text/plain": [
       "        AQSID                     SiteName  Status EPARegion   Latitude  \\\n",
       "2   530639995           Colbert-Greenbluff  Active       R10  47.808226   \n",
       "3   530639997  Spokane-E Broadway Ave (US)  Active       R10  47.663963   \n",
       "10  390610048         Cincinnati Near Road  Active        R5  39.146025   \n",
       "14  390610040                         Taft  Active        R5  39.128860   \n",
       "16  390990014      Youngstown - Head Start  Active        R5  41.095938   \n",
       "\n",
       "     Longitude  Elevation  GMTOffset CountryCode StateName  \\\n",
       "2  -117.343270      577.4       -8.0          US        WA   \n",
       "3  -117.257652      611.2       -8.0          US        WA   \n",
       "10  -84.538375        0.0       -5.0          US        OH   \n",
       "14  -84.504040        0.0       -5.0          US        OH   \n",
       "16  -80.658467        0.0       -5.0          US        OH   \n",
       "\n",
       "                          ...                         OZONE_Unit  NO2  \\\n",
       "2                         ...                                NaN  NaN   \n",
       "3                         ...                                NaN  NaN   \n",
       "10                        ...                                NaN  NaN   \n",
       "14                        ...                                PPB  8.0   \n",
       "16                        ...                                NaN  NaN   \n",
       "\n",
       "   NO2_Unit    CO  CO_Unit  SO2  SO2_Unit  PM10  PM10_Unit  \\\n",
       "2       NaN   NaN      NaN  NaN       NaN   NaN        NaN   \n",
       "3       NaN   NaN      NaN  NaN       NaN   NaN        NaN   \n",
       "10      NaN  0.63      PPM  NaN       NaN   NaN        NaN   \n",
       "14      PPB  0.14      PPM  1.0       PPB  22.0      UG/M3   \n",
       "16      NaN   NaN      NaN  NaN       NaN   NaN        NaN   \n",
       "\n",
       "                                                SHAPE  \n",
       "2   {\"x\": -117.34326999999999, \"y\": 47.808226, \"sp...  \n",
       "3   {\"x\": -117.25765200000001, \"y\": 47.663963, \"sp...  \n",
       "10  {\"x\": -84.538375, \"y\": 39.146025, \"spatialRefe...  \n",
       "14  {\"x\": -84.50404, \"y\": 39.128859999999996, \"spa...  \n",
       "16  {\"x\": -80.658467, \"y\": 41.095938000000004, \"sp...  \n",
       "\n",
       "[5 rows x 35 columns]"
      ]
     },
     "execution_count": 69,
     "metadata": {},
     "output_type": "execute_result"
    }
   ],
   "source": [
    "airnow_sdf = pd.DataFrame.spatial.from_xy(df=airnow_df, x_column=\"Longitude\", y_column=\"Latitude\", sr=4326)\n",
    "airnow_sdf.head()"
   ]
  },
  {
   "cell_type": "markdown",
   "metadata": {},
   "source": [
    "We will first focus only on PM25_AQI measurements of air quality. Following this sequence, we can integrate other metrics. Let's remove unnecessary columns for this first run."
   ]
  },
  {
   "cell_type": "markdown",
   "metadata": {},
   "source": [
    "First, let's establish a list of baseline columns that every run of this notebook will need. "
   ]
  },
  {
   "cell_type": "code",
   "execution_count": 73,
   "metadata": {},
   "outputs": [],
   "source": [
    "baseline_columns = [\"AQSID\", \"SiteName\", \"Status\", \"EPARegion\", \"Latitude\", \"Longitude\", \"Elevation\", \"GMTOffset\", \"CountryCode\", \"StateName\", \"ValidDate\", \"ValidTime\", \"SHAPE\"]"
   ]
  },
  {
   "cell_type": "markdown",
   "metadata": {},
   "source": [
    "Then, let's specify the air quality analysis field for the interpolation sequence"
   ]
  },
  {
   "cell_type": "code",
   "execution_count": 74,
   "metadata": {},
   "outputs": [],
   "source": [
    "analysis_column = [\"PM25_AQI\"]"
   ]
  },
  {
   "cell_type": "markdown",
   "metadata": {},
   "source": [
    "Now we can create our final columns list and create a subset SeDF"
   ]
  },
  {
   "cell_type": "code",
   "execution_count": 75,
   "metadata": {},
   "outputs": [
    {
     "data": {
      "text/html": [
       "<div>\n",
       "<style scoped>\n",
       "    .dataframe tbody tr th:only-of-type {\n",
       "        vertical-align: middle;\n",
       "    }\n",
       "\n",
       "    .dataframe tbody tr th {\n",
       "        vertical-align: top;\n",
       "    }\n",
       "\n",
       "    .dataframe thead th {\n",
       "        text-align: right;\n",
       "    }\n",
       "</style>\n",
       "<table border=\"1\" class=\"dataframe\">\n",
       "  <thead>\n",
       "    <tr style=\"text-align: right;\">\n",
       "      <th></th>\n",
       "      <th>AQSID</th>\n",
       "      <th>SiteName</th>\n",
       "      <th>Status</th>\n",
       "      <th>EPARegion</th>\n",
       "      <th>Latitude</th>\n",
       "      <th>Longitude</th>\n",
       "      <th>Elevation</th>\n",
       "      <th>GMTOffset</th>\n",
       "      <th>CountryCode</th>\n",
       "      <th>StateName</th>\n",
       "      <th>ValidDate</th>\n",
       "      <th>ValidTime</th>\n",
       "      <th>SHAPE</th>\n",
       "      <th>PM25_AQI</th>\n",
       "    </tr>\n",
       "  </thead>\n",
       "  <tbody>\n",
       "    <tr>\n",
       "      <th>2</th>\n",
       "      <td>530639995</td>\n",
       "      <td>Colbert-Greenbluff</td>\n",
       "      <td>Active</td>\n",
       "      <td>R10</td>\n",
       "      <td>47.808226</td>\n",
       "      <td>-117.343270</td>\n",
       "      <td>577.4</td>\n",
       "      <td>-8.0</td>\n",
       "      <td>US</td>\n",
       "      <td>WA</td>\n",
       "      <td>04/23/19</td>\n",
       "      <td>04:00</td>\n",
       "      <td>{\"x\": -117.34326999999999, \"y\": 47.808226, \"sp...</td>\n",
       "      <td>22.0</td>\n",
       "    </tr>\n",
       "    <tr>\n",
       "      <th>3</th>\n",
       "      <td>530639997</td>\n",
       "      <td>Spokane-E Broadway Ave (US)</td>\n",
       "      <td>Active</td>\n",
       "      <td>R10</td>\n",
       "      <td>47.663963</td>\n",
       "      <td>-117.257652</td>\n",
       "      <td>611.2</td>\n",
       "      <td>-8.0</td>\n",
       "      <td>US</td>\n",
       "      <td>WA</td>\n",
       "      <td>04/23/19</td>\n",
       "      <td>04:00</td>\n",
       "      <td>{\"x\": -117.25765200000001, \"y\": 47.663963, \"sp...</td>\n",
       "      <td>18.0</td>\n",
       "    </tr>\n",
       "    <tr>\n",
       "      <th>10</th>\n",
       "      <td>390610048</td>\n",
       "      <td>Cincinnati Near Road</td>\n",
       "      <td>Active</td>\n",
       "      <td>R5</td>\n",
       "      <td>39.146025</td>\n",
       "      <td>-84.538375</td>\n",
       "      <td>0.0</td>\n",
       "      <td>-5.0</td>\n",
       "      <td>US</td>\n",
       "      <td>OH</td>\n",
       "      <td>04/23/19</td>\n",
       "      <td>04:00</td>\n",
       "      <td>{\"x\": -84.538375, \"y\": 39.146025, \"spatialRefe...</td>\n",
       "      <td>39.0</td>\n",
       "    </tr>\n",
       "    <tr>\n",
       "      <th>14</th>\n",
       "      <td>390610040</td>\n",
       "      <td>Taft</td>\n",
       "      <td>Active</td>\n",
       "      <td>R5</td>\n",
       "      <td>39.128860</td>\n",
       "      <td>-84.504040</td>\n",
       "      <td>0.0</td>\n",
       "      <td>-5.0</td>\n",
       "      <td>US</td>\n",
       "      <td>OH</td>\n",
       "      <td>04/23/19</td>\n",
       "      <td>04:00</td>\n",
       "      <td>{\"x\": -84.50404, \"y\": 39.128859999999996, \"spa...</td>\n",
       "      <td>29.0</td>\n",
       "    </tr>\n",
       "    <tr>\n",
       "      <th>16</th>\n",
       "      <td>390990014</td>\n",
       "      <td>Youngstown - Head Start</td>\n",
       "      <td>Active</td>\n",
       "      <td>R5</td>\n",
       "      <td>41.095938</td>\n",
       "      <td>-80.658467</td>\n",
       "      <td>0.0</td>\n",
       "      <td>-5.0</td>\n",
       "      <td>US</td>\n",
       "      <td>OH</td>\n",
       "      <td>04/23/19</td>\n",
       "      <td>04:00</td>\n",
       "      <td>{\"x\": -80.658467, \"y\": 41.095938000000004, \"sp...</td>\n",
       "      <td>35.0</td>\n",
       "    </tr>\n",
       "  </tbody>\n",
       "</table>\n",
       "</div>"
      ],
      "text/plain": [
       "        AQSID                     SiteName  Status EPARegion   Latitude  \\\n",
       "2   530639995           Colbert-Greenbluff  Active       R10  47.808226   \n",
       "3   530639997  Spokane-E Broadway Ave (US)  Active       R10  47.663963   \n",
       "10  390610048         Cincinnati Near Road  Active        R5  39.146025   \n",
       "14  390610040                         Taft  Active        R5  39.128860   \n",
       "16  390990014      Youngstown - Head Start  Active        R5  41.095938   \n",
       "\n",
       "     Longitude  Elevation  GMTOffset CountryCode StateName ValidDate  \\\n",
       "2  -117.343270      577.4       -8.0          US        WA  04/23/19   \n",
       "3  -117.257652      611.2       -8.0          US        WA  04/23/19   \n",
       "10  -84.538375        0.0       -5.0          US        OH  04/23/19   \n",
       "14  -84.504040        0.0       -5.0          US        OH  04/23/19   \n",
       "16  -80.658467        0.0       -5.0          US        OH  04/23/19   \n",
       "\n",
       "   ValidTime                                              SHAPE  PM25_AQI  \n",
       "2      04:00  {\"x\": -117.34326999999999, \"y\": 47.808226, \"sp...      22.0  \n",
       "3      04:00  {\"x\": -117.25765200000001, \"y\": 47.663963, \"sp...      18.0  \n",
       "10     04:00  {\"x\": -84.538375, \"y\": 39.146025, \"spatialRefe...      39.0  \n",
       "14     04:00  {\"x\": -84.50404, \"y\": 39.128859999999996, \"spa...      29.0  \n",
       "16     04:00  {\"x\": -80.658467, \"y\": 41.095938000000004, \"sp...      35.0  "
      ]
     },
     "execution_count": 75,
     "metadata": {},
     "output_type": "execute_result"
    }
   ],
   "source": [
    "airnow_pm25aqi_sdf = airnow_sdf[baseline_columns + analysis_column]\n",
    "airnow_pm25aqi_sdf.head()"
   ]
  },
  {
   "cell_type": "markdown",
   "metadata": {},
   "source": [
    "Now let's create a map using the ArcGIS API for Python and visualize the SeDF locations"
   ]
  },
  {
   "cell_type": "code",
   "execution_count": 96,
   "metadata": {},
   "outputs": [
    {
     "data": {
      "application/vnd.jupyter.widget-view+json": {
       "model_id": "981e69119c5649ddafaa8ab3d9e52030",
       "version_major": 2,
       "version_minor": 0
      },
      "text/plain": [
       "MapView(layout=Layout(height='400px', width='100%'), zoom=4.0)"
      ]
     },
     "metadata": {},
     "output_type": "display_data"
    },
    {
     "data": {
      "text/html": [
       "<div class=\"map-static-img-preview-12c47b14-2eb1-45e9-8fc8-62d08bb6e9a1\"><img src=\"\"></img></div>"
      ],
      "text/plain": [
       "<IPython.core.display.HTML object>"
      ]
     },
     "metadata": {},
     "output_type": "display_data"
    }
   ],
   "source": [
    "stations_map = gis.map(\"USA\", zoomlevel=4)\n",
    "stations_map"
   ]
  },
  {
   "cell_type": "code",
   "execution_count": 97,
   "metadata": {},
   "outputs": [
    {
     "name": "stderr",
     "output_type": "stream",
     "text": [
      "/opt/conda/lib/python3.6/site-packages/arcgis/features/geo/_accessor.py:2161: SettingWithCopyWarning: \n",
      "A value is trying to be set on a copy of a slice from a DataFrame.\n",
      "Try using .loc[row_indexer,col_indexer] = value instead\n",
      "\n",
      "See the caveats in the documentation: http://pandas.pydata.org/pandas-docs/stable/indexing.html#indexing-view-versus-copy\n",
      "  self._data['OBJECTID'] = list(range(1, self._data.shape[0] + 1))\n"
     ]
    },
    {
     "data": {
      "text/plain": [
       "True"
      ]
     },
     "execution_count": 97,
     "metadata": {},
     "output_type": "execute_result"
    }
   ],
   "source": [
    "airnow_pm25aqi_sdf.spatial.plot(map_widget=stations_map)"
   ]
  },
  {
   "cell_type": "markdown",
   "metadata": {},
   "source": [
    "We can also make a map of graduaded circles or colors based on column values. \n",
    "\n",
    "For help with visualizing Spatially-enabled Dataframes, refer to the following link: https://developers.arcgis.com/python/guide/visualizing-data-with-the-spatially-enabled-dataframe/"
   ]
  },
  {
   "cell_type": "code",
   "execution_count": 98,
   "metadata": {},
   "outputs": [
    {
     "data": {
      "text/plain": [
       "True"
      ]
     },
     "execution_count": 98,
     "metadata": {},
     "output_type": "execute_result"
    }
   ],
   "source": [
    "airnow_pm25aqi_sdf.spatial.plot(map_widget=stations_map, renderer_type='c', method='esriClassifyNaturalBreaks', class_count=5, col=\"PM25_AQI\", cmap='Oranges')"
   ]
  },
  {
   "cell_type": "markdown",
   "metadata": {},
   "source": [
    "To know more about Visualizing Spatial Data through sedf, see https://developers.arcgis.com/python/guide/visualizing-data-with-the-spatially-enabled-dataframe/"
   ]
  },
  {
   "cell_type": "markdown",
   "metadata": {},
   "source": [
    "## Clean data spatially"
   ]
  },
  {
   "cell_type": "markdown",
   "metadata": {},
   "source": [
    "Notice on the map that one of the stations is located in Manama, Bahrain. While it's interesting that AirNow includes an air monitoring station in the Middle East and South America, it's not terribly useful for our USA interpolation purposes, so let's do a basic operation to remove data outside of North America. "
   ]
  },
  {
   "cell_type": "markdown",
   "metadata": {},
   "source": [
    "As GIS analysts and data scientists, we also want to query based on geographic location. We can do that by building a spatial index with the sindex property of the spatial dataframe. The resulting quadtree index allows us to query based on specific geometries in relation to other geometries.\n",
    "\n",
    "We can draw the entire extent of our dataframe using the dataframe's geoextent property. Let's get the bounding box coordinates and display the extent of our data on a map:"
   ]
  },
  {
   "cell_type": "code",
   "execution_count": 134,
   "metadata": {},
   "outputs": [
    {
     "data": {
      "image/svg+xml": [
       "<svg xmlns=\"http://www.w3.org/2000/svg\" xmlns:xlink=\"http://www.w3.org/1999/xlink\" width=\"229.32485964\" height=\"100.0\" viewBox=\"-170.26051332 -9.77507332 229.32485964 83.11438664\" preserveAspectRatio=\"xMinYMin meet\"><g transform=\"matrix(1,0,0,-1,0,63.56424)\"><path fill-rule=\"evenodd\" fill=\"#66cc99\" stroke=\"#555555\" stroke-width=\"2.0\" opacity=\"0.6\" d=\"M -161.767,-1.28156 L -161.767,64.8458 L 50.570833,64.8458 L 50.570833,-1.28156 L -161.767,-1.28156 z\" /></g></svg>"
      ],
      "text/plain": [
       "{'rings': [[[-161.767, -1.28156],\n",
       "   [-161.767, 64.8458],\n",
       "   [50.570833, 64.8458],\n",
       "   [50.570833, -1.28156],\n",
       "   [-161.767, -1.28156]]],\n",
       " 'spatialReference': {'wkid': 4326}}"
      ]
     },
     "execution_count": 134,
     "metadata": {},
     "output_type": "execute_result"
    }
   ],
   "source": [
    "df_geoextent_geom = airnow_pm25aqi_sdf.spatial.bbox\n",
    "df_geoextent_geom"
   ]
  },
  {
   "cell_type": "code",
   "execution_count": 135,
   "metadata": {},
   "outputs": [
    {
     "data": {
      "application/vnd.jupyter.widget-view+json": {
       "model_id": "bdd4608781274a1da09183d4f6a4be9a",
       "version_major": 2,
       "version_minor": 0
      },
      "text/plain": [
       "MapView(layout=Layout(height='400px', width='100%'), zoom=3.0)"
      ]
     },
     "metadata": {},
     "output_type": "display_data"
    },
    {
     "data": {
      "text/html": [
       "<div class=\"map-static-img-preview-9eec0bcf-50a1-4d04-a5ee-220396abb70c\"><img src=\"\"></img></div>"
      ],
      "text/plain": [
       "<IPython.core.display.HTML object>"
      ]
     },
     "metadata": {},
     "output_type": "display_data"
    }
   ],
   "source": [
    "extent_map = gis.map(\"USA\", 3)\n",
    "extent_map.draw(df_geoextent_geom)\n",
    "extent_map"
   ]
  },
  {
   "cell_type": "markdown",
   "metadata": {},
   "source": [
    "Now, let's define a second set of coordinates representing a bounding box for which we want to query the features from our dataframe that fall within it. We care about stations in North America (for now), so let's find a layer of data containing data just from North America to use its geometry. \n",
    "\n",
    "The Living Atlas contains a \"North America Hexbins 25km\" layer that nicely helps us get this geometry:"
   ]
  },
  {
   "cell_type": "code",
   "execution_count": 120,
   "metadata": {
    "scrolled": true
   },
   "outputs": [
    {
     "data": {
      "text/html": [
       "<div class=\"item_container\" style=\"height: auto; overflow: hidden; border: 1px solid #cfcfcf; border-radius: 2px; background: #f6fafa; line-height: 1.21429em; padding: 10px;\">\n",
       "                    <div class=\"item_left\" style=\"width: 210px; float: left;\">\n",
       "                       <a href='https://datasciencedemo.esri.com/portal/home/item.html?id=90653a3ca0e346afb76c171909278696' target='_blank'>\n",
       "                        <img src='data:image/png;base64,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' width='200' height='133' class=\"itemThumbnail\">\n",
       "                       </a>\n",
       "                    </div>\n",
       "\n",
       "                    <div class=\"item_right\"     style=\"float: none; width: auto; overflow: hidden;\">\n",
       "                        <a href='https://datasciencedemo.esri.com/portal/home/item.html?id=90653a3ca0e346afb76c171909278696' target='_blank'><b>North America Hexbins 25km</b>\n",
       "                        </a>\n",
       "                        <br/>Hexbins are a mesh of connected hexagons commonly used for aggregating and summarizing spatial data.  For this layer, distance between the centers of each hexbin is 25 kilometers.<img src='https://datasciencedemo.esri.com/portal/home/js/jsapi/esri/css/images/item_type_icons/featureshosted16.png' style=\"vertical-align:middle;\">Feature Layer Collection by esri_livingatlas\n",
       "                        <br/>Last Modified: January 27, 2019\n",
       "                        <br/>0 comments, 0 views\n",
       "                    </div>\n",
       "                </div>\n",
       "                "
      ],
      "text/plain": [
       "<Item title:\"North America Hexbins 25km\" type:Feature Layer Collection owner:esri_livingatlas>"
      ]
     },
     "execution_count": 120,
     "metadata": {},
     "output_type": "execute_result"
    }
   ],
   "source": [
    "# Item Added From Toolbar\n",
    "# Title: North America Hexbins 25km | Type: Feature Service | Owner: esri_livingatlas\n",
    "northamerica_item = gis.content.get(\"90653a3ca0e346afb76c171909278696\")\n",
    "northamerica_item"
   ]
  },
  {
   "cell_type": "markdown",
   "metadata": {},
   "source": [
    "#### TODO: Filter features by extent of North America Hexbins"
   ]
  },
  {
   "cell_type": "markdown",
   "metadata": {},
   "source": [
    "## Create Feature Layer and Feature Class Versions of the Data for Analysis"
   ]
  },
  {
   "cell_type": "markdown",
   "metadata": {},
   "source": [
    "Now that we've explored and cleaned the data tabularly and spatially, we're ready to start our interpolations. Let's prepare the data in a few formats so that we can test a variety of tools. We'll need the following formats: \n",
    "> Hosted Feature Layer\n",
    "\n",
    "> Feature Class"
   ]
  },
  {
   "cell_type": "markdown",
   "metadata": {},
   "source": [
    "Thankfully, the Spatially-enabled Dataframe contains a few helper functions to convert to the needed formats. \n",
    "\n",
    "The first one we'll use is .spatial.to_featurelayer:"
   ]
  },
  {
   "cell_type": "code",
   "execution_count": 136,
   "metadata": {},
   "outputs": [
    {
     "data": {
      "text/html": [
       "<div class=\"item_container\" style=\"height: auto; overflow: hidden; border: 1px solid #cfcfcf; border-radius: 2px; background: #f6fafa; line-height: 1.21429em; padding: 10px;\">\n",
       "                    <div class=\"item_left\" style=\"width: 210px; float: left;\">\n",
       "                       <a href='https://datasciencedemo.esri.com/portal/home/item.html?id=17f225dc9daf4923855f23bb645e5279' target='_blank'>\n",
       "                        <img src='https://datasciencedemo.esri.com/portal/portalimages/desktopapp.png' class=\"itemThumbnail\">\n",
       "                       </a>\n",
       "                    </div>\n",
       "\n",
       "                    <div class=\"item_right\"     style=\"float: none; width: auto; overflow: hidden;\">\n",
       "                        <a href='https://datasciencedemo.esri.com/portal/home/item.html?id=17f225dc9daf4923855f23bb645e5279' target='_blank'><b>AirNow_2019042304</b>\n",
       "                        </a>\n",
       "                        <br/><img src='https://datasciencedemo.esri.com/portal/home/js/jsapi/esri/css/images/item_type_icons/featureshosted16.png' style=\"vertical-align:middle;\">Feature Layer Collection by anieto\n",
       "                        <br/>Last Modified: April 24, 2019\n",
       "                        <br/>0 comments, 0 views\n",
       "                    </div>\n",
       "                </div>\n",
       "                "
      ],
      "text/plain": [
       "<Item title:\"AirNow_2019042304\" type:Feature Layer Collection owner:anieto>"
      ]
     },
     "execution_count": 136,
     "metadata": {},
     "output_type": "execute_result"
    }
   ],
   "source": [
    "airnow_fl = airnow_sdf.spatial.to_featurelayer(f\"AirNow_{date_string}\", gis=gis, tags=\"AirNow\")\n",
    "airnow_fl"
   ]
  },
  {
   "cell_type": "markdown",
   "metadata": {},
   "source": [
    "The second one we'll use is .spatial.to_featureclass, but first we'll need to create a file geodatabase on local file-space. "
   ]
  },
  {
   "cell_type": "code",
   "execution_count": 140,
   "metadata": {
    "scrolled": true
   },
   "outputs": [
    {
     "name": "stdout",
     "output_type": "stream",
     "text": [
      "Using existing file geodatabase...\n"
     ]
    }
   ],
   "source": [
    "if arcpy.Exists(r\"/arcgis/home/anieto/workspace/AirNow.gdb\"):\n",
    "    print(\"Using existing file geodatabase...\")\n",
    "    airnow_fgdb = r\"/arcgis/home/anieto/workspace/AirNow.gdb\"\n",
    "    \n",
    "else:    \n",
    "    print(\"Creating new file geodatabase...\")\n",
    "    airnow_fgdb = arcpy.CreateFileGDB_management(r\"/arcgis/home/anieto/workspace\", \"AirNow\").getOutput(0)"
   ]
  },
  {
   "cell_type": "code",
   "execution_count": 141,
   "metadata": {},
   "outputs": [
    {
     "data": {
      "text/plain": [
       "'/arcgis/home/anieto/workspace/AirNow.gdb/AirNow_Test'"
      ]
     },
     "execution_count": 141,
     "metadata": {},
     "output_type": "execute_result"
    }
   ],
   "source": [
    "airnow_fc = airnow_sdf.spatial.to_featureclass(location=os.path.join(airnow_fgdb, \"AirNow_Test\"))\n",
    "airnow_fc"
   ]
  },
  {
   "cell_type": "markdown",
   "metadata": {},
   "source": [
    "Now we're ready to start our interpolation tests."
   ]
  },
  {
   "cell_type": "markdown",
   "metadata": {},
   "source": [
    "# 3. Perform a spatial analysis of the data"
   ]
  },
  {
   "cell_type": "markdown",
   "metadata": {},
   "source": [
    "The goal of this notebook is to create continuous surfaces that help us provide information to the public on air quality at their location. Since data is monitored at specific locations, we'll need to estimate air quality values in locations where stations are not recording measurements. This is referred to as Interpolation, and there are a variety of methods to perform interpolation. \n",
    "\n",
    "In this notebook, we'll explore and compare a few different approaches. Once we determine an appropriate approach, we can then script the sequence to retrieve data, clean the data, interpolate, and publish the output services. "
   ]
  },
  {
   "cell_type": "markdown",
   "metadata": {},
   "source": [
    "## Basic interpolation"
   ]
  },
  {
   "cell_type": "markdown",
   "metadata": {},
   "source": [
    "The first form of interpolation we'll test is the use of the \"Interpolate Points\" tool in ArcGIS Online / ArcGIS Enterprise."
   ]
  },
  {
   "cell_type": "code",
   "execution_count": 144,
   "metadata": {},
   "outputs": [
    {
     "data": {
      "text/html": [
       "\n",
       "        <iframe\n",
       "            width=\"1366\"\n",
       "            height=\"600\"\n",
       "            src=\"https://doc.arcgis.com/en/arcgis-online/analyze/interpolate-points.htm\"\n",
       "            frameborder=\"0\"\n",
       "            allowfullscreen\n",
       "        ></iframe>\n",
       "        "
      ],
      "text/plain": [
       "<IPython.lib.display.IFrame at 0x7f58e64646a0>"
      ]
     },
     "execution_count": 144,
     "metadata": {},
     "output_type": "execute_result"
    }
   ],
   "source": [
    "IFrame(\"https://doc.arcgis.com/en/arcgis-online/analyze/interpolate-points.htm\", width=1366, height=600)"
   ]
  },
  {
   "cell_type": "markdown",
   "metadata": {},
   "source": [
    "To get started with _Interpolate Points_, let's create a map of our stations, then use the \"Analysis\" GUI option at the top (or navigate the ArcGIS API for Python) to run the tool."
   ]
  },
  {
   "cell_type": "code",
   "execution_count": 175,
   "metadata": {},
   "outputs": [
    {
     "data": {
      "application/vnd.jupyter.widget-view+json": {
       "model_id": "34a48c8c0e2f49729f1edb8ec6d919f6",
       "version_major": 2,
       "version_minor": 0
      },
      "text/plain": [
       "MapView(layout=Layout(height='400px', width='100%'), zoom=4.0)"
      ]
     },
     "metadata": {},
     "output_type": "display_data"
    },
    {
     "data": {
      "text/html": [
       "<div class=\"map-static-img-preview-8796d7c3-7219-4615-bb8b-b9fb7622c615\"><img src=\"data:image/jpeg;base64,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\"></img></div>"
      ],
      "text/plain": [
       "<IPython.core.display.HTML object>"
      ]
     },
     "metadata": {},
     "output_type": "display_data"
    }
   ],
   "source": [
    "airnow_map = gis.map(\"usa\", zoomlevel=4)\n",
    "airnow_map.add_layer(airnow_fl)\n",
    "airnow_map"
   ]
  },
  {
   "cell_type": "code",
   "execution_count": 145,
   "metadata": {
    "scrolled": true
   },
   "outputs": [
    {
     "data": {
      "text/plain": [
       "{'result_layer': <FeatureCollection>,\n",
       " 'prediction_error': <FeatureCollection>,\n",
       " 'predicted_point_layer': <FeatureCollection>}"
      ]
     },
     "execution_count": 145,
     "metadata": {},
     "output_type": "execute_result"
    }
   ],
   "source": [
    "# Added from the GUI\n",
    "from arcgis import features\n",
    "inter = features.analyze_patterns.interpolate_points(airnow_fl, \"PM25_AQI\")\n",
    "inter"
   ]
  },
  {
   "cell_type": "code",
   "execution_count": 158,
   "metadata": {},
   "outputs": [
    {
     "data": {
      "text/plain": [
       "<FeatureCollection>"
      ]
     },
     "execution_count": 158,
     "metadata": {},
     "output_type": "execute_result"
    }
   ],
   "source": [
    "inter['result_layer']"
   ]
  },
  {
   "cell_type": "code",
   "execution_count": 169,
   "metadata": {},
   "outputs": [],
   "source": [
    "# Add the resulting layer to the map\n",
    "airnow_map.add_layer(inter['result_layer'])"
   ]
  },
  {
   "cell_type": "code",
   "execution_count": 177,
   "metadata": {},
   "outputs": [
    {
     "data": {
      "text/html": [
       "<img src=data:image/jpeg;base64,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></img>"
      ],
      "text/plain": [
       "<IPython.core.display.HTML object>"
      ]
     },
     "metadata": {},
     "output_type": "display_data"
    }
   ],
   "source": [
    "# Take a screenshot of the rough-looking map\n",
    "airnow_map.take_screenshot()"
   ]
  },
  {
   "cell_type": "markdown",
   "metadata": {},
   "source": [
    "The interpolation map looks rough! People (generally) don't live in the open sea, so we're not immediately conconcerned with a surface that shows the interpolated values beyond the continental United States. To correct this, we'll use the _Interpolate Points_ tool's \"bounding_polygon_layer\" parameter, passing it a boundary layer for the United States. "
   ]
  },
  {
   "cell_type": "code",
   "execution_count": 178,
   "metadata": {},
   "outputs": [
    {
     "data": {
      "text/html": [
       "<div class=\"item_container\" style=\"height: auto; overflow: hidden; border: 1px solid #cfcfcf; border-radius: 2px; background: #f6fafa; line-height: 1.21429em; padding: 10px;\">\n",
       "                    <div class=\"item_left\" style=\"width: 210px; float: left;\">\n",
       "                       <a href='https://datasciencedemo.esri.com/portal/home/item.html?id=99fd67933e754a1181cc755146be21ca' target='_blank'>\n",
       "                        <img src='data:image/png;base64,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' width='200' height='133' class=\"itemThumbnail\">\n",
       "                       </a>\n",
       "                    </div>\n",
       "\n",
       "                    <div class=\"item_right\"     style=\"float: none; width: auto; overflow: hidden;\">\n",
       "                        <a href='https://datasciencedemo.esri.com/portal/home/item.html?id=99fd67933e754a1181cc755146be21ca' target='_blank'><b>USA States (Generalized)</b>\n",
       "                        </a>\n",
       "                        <br/>USA States (Generalized) provides 2017 boundaries for the States of the United States in the 50 states and the District of Columbia.<img src='https://datasciencedemo.esri.com/portal/home/js/jsapi/esri/css/images/item_type_icons/featureshosted16.png' style=\"vertical-align:middle;\">Feature Layer Collection by esri_livingatlas\n",
       "                        <br/>Last Modified: January 27, 2019\n",
       "                        <br/>0 comments, 0 views\n",
       "                    </div>\n",
       "                </div>\n",
       "                "
      ],
      "text/plain": [
       "<Item title:\"USA States (Generalized)\" type:Feature Layer Collection owner:esri_livingatlas>"
      ]
     },
     "execution_count": 178,
     "metadata": {},
     "output_type": "execute_result"
    }
   ],
   "source": [
    "# Item Added From Toolbar\n",
    "# Title: USA States (Generalized) | Type: Feature Service | Owner: esri_livingatlas\n",
    "states = gis.content.get(\"99fd67933e754a1181cc755146be21ca\")\n",
    "states"
   ]
  },
  {
   "cell_type": "code",
   "execution_count": 180,
   "metadata": {
    "scrolled": true
   },
   "outputs": [
    {
     "data": {
      "text/plain": [
       "{'result_layer': <FeatureCollection>,\n",
       " 'prediction_error': <FeatureCollection>,\n",
       " 'predicted_point_layer': <FeatureCollection>}"
      ]
     },
     "execution_count": 180,
     "metadata": {},
     "output_type": "execute_result"
    }
   ],
   "source": [
    "from arcgis import features\n",
    "new_inter = features.analyze_patterns.interpolate_points(airnow_fl, \"PM25_AQI\", bounding_polygon_layer=states)\n",
    "new_inter"
   ]
  },
  {
   "cell_type": "code",
   "execution_count": 195,
   "metadata": {},
   "outputs": [
    {
     "data": {
      "application/vnd.jupyter.widget-view+json": {
       "model_id": "ab9b399936e34fa7b43a99eeb173a414",
       "version_major": 2,
       "version_minor": 0
      },
      "text/plain": [
       "MapView(layout=Layout(height='400px', width='100%'), zoom=4.0)"
      ]
     },
     "metadata": {},
     "output_type": "display_data"
    },
    {
     "data": {
      "text/html": [
       "<div class=\"map-static-img-preview-b39a0f69-85f7-4903-b4da-87200a028195\"><img src=\"\"></img></div>"
      ],
      "text/plain": [
       "<IPython.core.display.HTML object>"
      ]
     },
     "metadata": {},
     "output_type": "display_data"
    }
   ],
   "source": [
    "airnow_basicinter_map = gis.map(\"usa\", zoomlevel=4)\n",
    "airnow_basicinter_map"
   ]
  },
  {
   "cell_type": "code",
   "execution_count": 197,
   "metadata": {},
   "outputs": [],
   "source": [
    "airnow_basicinter_map.add_layer(new_inter['result_layer'], {'opacity':0.75})\n",
    "airnow_basicinter_map.legend = True"
   ]
  },
  {
   "cell_type": "markdown",
   "metadata": {},
   "source": [
    "The _Interpolate Points_ tool also has configurable options to favor speed or accuracy. The following table expresses what each option actually does."
   ]
  },
  {
   "cell_type": "markdown",
   "metadata": {},
   "source": [
    "<img align=\"left\" src=\"data:image/jpeg;base64,/9j/4AAQSkZJRgABAQEAYABgAAD/4RD0RXhpZgAATU0AKgAAAAgABAE7AAIAAAAOAAAISodpAAQAAAABAAAIWJydAAEAAAAcAAAQ0OocAAcAAAgMAAAAPgAAAAAc6gAAAAgAAAAAAAAAAAAAAAAAAAAAAAAAAAAAAAAAAAAAAAAAAAAAAAAAAAAAAAAAAAAAAAAAAAAAAAAAAAAAAAAAAAAAAAAAAAAAAAAAAAAAAAAAAAAAAAAAAAAAAAAAAAAAAAAAAAAAAAAAAAAAAAAAAAAAAAAAAAAAAAAAAAAAAAAAAAAAAAAAAAAAAAAAAAAAAAAAAAAAAAAAAAAAAAAAAAAAAAAAAAAAAAAAAAAAAAAAAAAAAAAAAAAAAAAAAAAAAAAAAAAAAAAAAAAAAAAAAAAAAAAAAAAAAAAAAAAAAAAAAAAAAAAAAAAAAAAAAAAAAAAAAAAAAAAAAAAAAAAAAAAAAAAAAAAAAAAAAAAAAAAAAAAAAAAAAAAAAAAAAAAAAAAAAAAAAAAAAAAAAAAAAAAAAAAAAAAAAAAAAAAAAAAAAAAAAAAAAAAAAAAAAAAAAAAAAAAAAAAAAAAAAAAAAAAAAAAAAAAAAAAAAAAAAAAAAAAAAAAAAAAAAAAAAAAAAAAAAAAAAAAAAAAAAAAAAAAAAAAAAAAAAAAAAAAAAAAAAAAAAAAAAAAAAAAAAAAAAAAAAAAAAAAAAAAAAAAAAAAAAAAAAAAAAAAAAAAAAAAAAAAAAAAAAAAAAAAAAAAAAAAAAAAAAAAAAAAAAAAAAAAAAAAAAAAAAAAAAAAAAAAAAAAAAAAAAAAAAAAAAAAAAAAAAAAAAAAAAAAAAAAAAAAAAAAAAAAAAAAAAAAAAAAAAAAAAAAAAAAAAAAAAAAAAAAAAAAAAAAAAAAAAAAAAAAAAAAAAAAAAAAAAAAAAAAAAAAAAAAAAAAAAAAAAAAAAAAAAAAAAAAAAAAAAAAAAAAAAAAAAAAAAAAAAAAAAAAAAAAAAAAAAAAAAAAAAAAAAAAAAAAAAAAAAAAAAAAAAAAAAAAAAAAAAAAAAAAAAAAAAAAAAAAAAAAAAAAAAAAAAAAAAAAAAAAAAAAAAAAAAAAAAAAAAAAAAAAAAAAAAAAAAAAAAAAAAAAAAAAAAAAAAAAAAAAAAAAAAAAAAAAAAAAAAAAAAAAAAAAAAAAAAAAAAAAAAAAAAAAAAAAAAAAAAAAAAAAAAAAAAAAAAAAAAAAAAAAAAAAAAAAAAAAAAAAAAAAAAAAAAAAAAAAAAAAAAAAAAAAAAAAAAAAAAAAAAAAAAAAAAAAAAAAAAAAAAAAAAAAAAAAAAAAAAAAAAAAAAAAAAAAAAAAAAAAAAAAAAAAAAAAAAAAAAAAAAAAAAAAAAAAAAAAAAAAAAAAAAAAAAAAAAAAAAAAAAAAAAAAAAAAAAAAAAAAAAAAAAAAAAAAAAAAAAAAAAAAAAAAAAAAAAAAAAAAAAAAAAAAAAAAAAAAAAAAAAAAAAAAAAAAAAAAAAAAAAAAAAAAAAAAAAAAAAAAAAAAAAAAAAAAAAAAAAAAAAAAAAAAAAAAAAAAAAAAAAAAAAAAAAAAAAAAAAAAAAAAAAAAAAAAAAAAAAAAAAAAAAAAAAAAAAAAAAAAAAAAAAAAAAAAAAAAAAAAAAAAAAAAAAAAAAAAAAAAAAAAAAAAAAAAAAAAAAAAAAAAAAAAAAAAAAAAAAAAAAAAAAAAAAAAAAAAAAAAAAAAAAAAAAAAAAAAAAAAAAAAAAAAAAAAAAAAAAAAAAAAAAAAAAAAAAAAAAAAAAAAAAAAAAAAAAAAAAAAAAAAAAAAAAAAAAAAAAAAAAAAAAAAAAAAAAAAAAAAAAAAAAAAAAAAAAAAAAAAAAAAAAAAAAAAAAAAAAAAAAAAAAAAAAAAAAAAAAAAAAAAAAAAAAAAAAAAAAAAAAAAAAAAAAAAAAAAAAAAAAAAAAAAAAAAAAAAAAAAAAAAAAAAAAAAAAAAAAAAAAAAAAAAAAAAAAAAAAAAAAAAAAAAAAAAAAAAAAAAAAAAAAAAAAAAAAAAAAAAAAAAAAAAAAAAAAAAAAAAAAAAAAAAAAAAAAAAAAAAAAAAAAAAAAAAAAAAAAAAAAAAAAAAAAAAAAAAAAAAAAAAAAAAAAAAAAAAAAAAAAAAAAAAAAAAAAAAAAAAAAAAAAAAAAAAAAAAAAAAAAAAAAAAAAAAAAAAAAAAAAAAAAAAAAAAAAAAAAAAAAAAAAAAAAAAAAAAAAAAAAAAAAAAAAAAAAAAAAAAAAAAAAAAAAAAAAAAAAAAAAAAAAAAAAAAAAAAAAAAAAAAAAAAAAAAAAAAAAAAAAAAAAAAAAAAAAAAAAAAAAAAAAAAAAAAAAAAAAAAAAAAAAAAAAAAAAAAAAAAAAAAAAAAAAAAAAAAAAAAAAAAAAAAAAAAAAAAAAAAAAAAAAAAAAAAAAAAAAAAAAAAAAAAAAAAAAAAAAAAAAAAAAAAAAAAAAAAAAAAAAAAAAAAAAAAAAAAAAAAAAAAAAAAAAAAAAAAAAAAAAAAAAAAAAAAAAAAAAAAAAAAAAAAAAAAAAAAAAAAAAAAAAAAAAAAAAAAAAAAAAAAAAAAAAAAAAAAAAAAAAAAAAAAAAAAAAAAAAAAAAAAAAAAAAAAAAAAAAAAAAAAAAAAAAAAAAAAAAAAAAAAAAAAAAAAAAAAAAAAAAAAAAAAAAAAAAAAAAAAAAAAAAAAAAAAAAAAAAAAAAAAAAAAAAAAAAAAAAAAAAAAAAAAAAAAAAAAAAAAAAAAAAAAAAAAAAAAAAAAAAAAAAAAAAAAAAAAAAAAAAAAAAAAAAAAAAAAAAAAAAAAAAAAAAAAAAAAAAAAAAAAAAAAAAEFsYmVydG8gTmlldG8AAAWQAwACAAAAFAAAEKaQBAACAAAAFAAAELqSkQACAAAAAzc2AACSkgACAAAAAzc2AADqHAAHAAAIDAAACJoAAAAAHOoAAAAIAAAAAAAAAAAAAAAAAAAAAAAAAAAAAAAAAAAAAAAAAAAAAAAAAAAAAAAAAAAAAAAAAAAAAAAAAAAAAAAAAAAAAAAAAAAAAAAAAAAAAAAAAAAAAAAAAAAAAAAAAAAAAAAAAAAAAAAAAAAAAAAAAAAAAAAAAAAAAAAAAAAAAAAAAAAAAAAAAAAAAAAAAAAAAAAAAAAAAAAAAAAAAAAAAAAAAAAAAAAAAAAAAAAAAAAAAAAAAAAAAAAAAAAAAAAAAAAAAAAAAAAAAAAAAAAAAAAAAAAAAAAAAAAAAAAAAAAAAAAAAAAAAAAAAAAAAAAAAAAAAAAAAAAAAAAAAAAAAAAAAAAAAAAAAAAAAAAAAAAAAAAAAAAAAAAAAAAAAAAAAAAAAAAAAAAAAAAAAAAAAAAAAAAAAAAAAAAAAAAAAAAAAAAAAAAAAAAAAAAAAAAAAAAAAAAAAAAAAAAAAAAAAAAAAAAAAAAAAAAAAAAAAAAAAAAAAAAAAAAAAAAAAAAAAAAAAAAAAAAAAAAAAAAAAAAAAAAAAAAAAAAAAAAAAAAAAAAAAAAAAAAAAAAAAAAAAAAAAAAAAAAAAAAAAAAAAAAAAAAAAAAAAAAAAAAAAAAAAAAAAAAAAAAAAAAAAAAAAAAAAAAAAAAAAAAAAAAAAAAAAAAAAAAAAAAAAAAAAAAAAAAAAAAAAAAAAAAAAAAAAAAAAAAAAAAAAAAAAAAAAAAAAAAAAAAAAAAAAAAAAAAAAAAAAAAAAAAAAAAAAAAAAAAAAAAAAAAAAAAAAAAAAAAAAAAAAAAAAAAAAAAAAAAAAAAAAAAAAAAAAAAAAAAAAAAAAAAAAAAAAAAAAAAAAAAAAAAAAAAAAAAAAAAAAAAAAAAAAAAAAAAAAAAAAAAAAAAAAAAAAAAAAAAAAAAAAAAAAAAAAAAAAAAAAAAAAAAAAAAAAAAAAAAAAAAAAAAAAAAAAAAAAAAAAAAAAAAAAAAAAAAAAAAAAAAAAAAAAAAAAAAAAAAAAAAAAAAAAAAAAAAAAAAAAAAAAAAAAAAAAAAAAAAAAAAAAAAAAAAAAAAAAAAAAAAAAAAAAAAAAAAAAAAAAAAAAAAAAAAAAAAAAAAAAAAAAAAAAAAAAAAAAAAAAAAAAAAAAAAAAAAAAAAAAAAAAAAAAAAAAAAAAAAAAAAAAAAAAAAAAAAAAAAAAAAAAAAAAAAAAAAAAAAAAAAAAAAAAAAAAAAAAAAAAAAAAAAAAAAAAAAAAAAAAAAAAAAAAAAAAAAAAAAAAAAAAAAAAAAAAAAAAAAAAAAAAAAAAAAAAAAAAAAAAAAAAAAAAAAAAAAAAAAAAAAAAAAAAAAAAAAAAAAAAAAAAAAAAAAAAAAAAAAAAAAAAAAAAAAAAAAAAAAAAAAAAAAAAAAAAAAAAAAAAAAAAAAAAAAAAAAAAAAAAAAAAAAAAAAAAAAAAAAAAAAAAAAAAAAAAAAAAAAAAAAAAAAAAAAAAAAAAAAAAAAAAAAAAAAAAAAAAAAAAAAAAAAAAAAAAAAAAAAAAAAAAAAAAAAAAAAAAAAAAAAAAAAAAAAAAAAAAAAAAAAAAAAAAAAAAAAAAAAAAAAAAAAAAAAAAAAAAAAAAAAAAAAAAAAAAAAAAAAAAAAAAAAAAAAAAAAAAAAAAAAAAAAAAAAAAAAAAAAAAAAAAAAAAAAAAAAAAAAAAAAAAAAAAAAAAAAAAAAAAAAAAAAAAAAAAAAAAAAAAAAAAAAAAAAAAAAAAAAAAAAAAAAAAAAAAAAAAAAAAAAAAAAAAAAAAAAAAAAAAAAAAAAAAAAAAAAAAAAAAAAAAAAAAAAAAAAAAAAAAAAAAAAAAAAAAAAAAAAAAAAAAAAAAAAAAAAAAAAAAAAAAAAAAAAAAAAAAAAAAAAAAAAAAAAAAAAAAAAAAAAAAAAAAAAAAAAAAAAAAAAAAAAAAAAAAAAAAAAAAAAAAAAAAAAAAAAAAAAAAAAAAAAAAAAAAAAAAAAAAAAAAAAAAAAAAAAAAAAAAAAAAAAAAAAAAAAAAAAAAAAAAAAAAAAAAAAAAAAAAAAAAAAAAAAAAAAAAAAAAAAAAAAAAAAAAAAAAAAAAAAAAAAAAAAAAAAAAAAAAAAAAAAAAAAAAAAAAAAAAAAAAAAAAAAAAAAAAAAAAAAAAAAAAAAAAAAAAAAAAAAAAAAAAAAAAAAAAAAAAAAAAAAAAAAAAAAAAAAAAAAAAAAAAAAAAAAAAAAAAAAAAAAAAAAAAAAAAAAAAAAAAAAAAAAAAAAAAAAAAAAAAAAAAAAAAAAAAAAAAAAAAAAAAAAAAAAAAAAAAAAAAAAAAAAAAAAAAAAAAAAAAAAAAAAAAAAAAAAAAAAAAAAAAAAAAAAAAAAAAAAAAAAAAAAAAAAAAAAAAAAAAAAAAAAAAAAAAAAAAAAAAAAAAAAAAAAAAAAAAAAAAAAAAAAAAAAAAAAAAAAAAAAAAAAAAAAAAAAAAAAAAAAAAAAAAAAAAAAAAAAAAAAAAAAAAAAAAAAAAAAAAAAAAAAAAAAAAAAAAAAAAAAAAAAAAAAAAAAAAAAAAAAAAAAAAAAAAAAAAAAAAAAAAAAAAAAAAAAAAAAAAAAAAAAAAAAAAAAAAAAAAAAAAAAAAAAAAAAAAAAAAAAAAAAAAAAAAAAAAAAAAAAAAAAAAAAAAAAAAAAAAAAAAAAAAAAAAAAAAAAAAAAAAAAAAAAAAAAAAAAAAAAAAAAAAAAAAAAAAAAAAAAAAAAyMDE5OjA0OjI0IDE2OjMwOjMwADIwMTk6MDQ6MjQgMTY6MzA6MzAAAABBAGwAYgBlAHIAdABvACAATgBpAGUAdABvAAAA/+ELIGh0dHA6Ly9ucy5hZG9iZS5jb20veGFwLzEuMC8APD94cGFja2V0IGJlZ2luPSfvu78nIGlkPSdXNU0wTXBDZWhpSHpyZVN6TlRjemtjOWQnPz4NCjx4OnhtcG1ldGEgeG1sbnM6eD0iYWRvYmU6bnM6bWV0YS8iPjxyZGY6UkRGIHhtbG5zOnJkZj0iaHR0cDovL3d3dy53My5vcmcvMTk5OS8wMi8yMi1yZGYtc3ludGF4LW5zIyI+PHJkZjpEZXNjcmlwdGlvbiByZGY6YWJvdXQ9InV1aWQ6ZmFmNWJkZDUtYmEzZC0xMWRhLWFkMzEtZDMzZDc1MTgyZjFiIiB4bWxuczpkYz0iaHR0cDovL3B1cmwub3JnL2RjL2VsZW1lbnRzLzEuMS8iLz48cmRmOkRlc2NyaXB0aW9uIHJkZjphYm91dD0idXVpZDpmYWY1YmRkNS1iYTNkLTExZGEtYWQzMS1kMzNkNzUxODJmMWIiIHhtbG5zOnhtcD0iaHR0cDovL25zLmFkb2JlLmNvbS94YXAvMS4wLyI+PHhtcDpDcmVhdGVEYXRlPjIwMTktMDQtMjRUMTY6MzA6MzAuNzYwPC94bXA6Q3JlYXRlRGF0ZT48L3JkZjpEZXNjcmlwdGlvbj48cmRmOkRlc2NyaXB0aW9uIHJkZjphYm91dD0idXVpZDpmYWY1YmRkNS1iYTNkLTExZGEtYWQzMS1kMzNkNzUxODJmMWIiIHhtbG5zOmRjPSJodHRwOi8vcHVybC5vcmcvZGMvZWxlbWVudHMvMS4xLyI+PGRjOmNyZWF0b3I+PHJkZjpTZXEgeG1sbnM6cmRmPSJodHRwOi8vd3d3LnczLm9yZy8xOTk5LzAyLzIyLXJkZi1zeW50YXgtbnMjIj48cmRmOmxpPkFsYmVydG8gTmlldG88L3JkZjpsaT48L3JkZjpTZXE+DQoJCQk8L2RjOmNyZWF0b3I+PC9yZGY6RGVzY3JpcHRpb24+PC9yZGY6UkRGPjwveDp4bXBtZXRhPg0KICAgICAgICAgICAgICAgICAgICAgICAgICAgICAgICAgICAgICAgICAgICAgICAgICAgICAgICAgICAgICAgICAgICAgICAgICAgICAgICAgICAgICAgICAgICAgICAgICAgIAogICAgICAgICAgICAgICAgICAgICAgICAgICAgICAgICAgICAgICAgICAgICAgICAgICAgICAgICAgICAgICAgICAgICAgICAgICAgICAgICAgICAgICAgICAgICAgICAgICAgCiAgICAgICAgICAgICAgICAgICAgICAgICAgICAgICAgICAgICAgICAgICAgICAgICAgICAgICAgICAgICAgICAgICAgICAgICAgICAgICAgICAgICAgICAgICAgICAgICAgICAKICAgICAgICAgICAgICAgICAgICAgICAgICAgICAgICAgICAgICAgICAgICAgICAgICAgICAgICAgICAgICAgICAgICAgICAgICAgICAgICAgICAgICAgICAgICAgICAgICAgIAogICAgICAgICAgICAgICAgICAgICAgICAgICAgICAgICAgICAgICAgICAgICAgICAgICAgICAgICAgICAgICAgICAgICAgICAgICAgICAgICAgICAgICAgICAgICAgICAgICAgCiAgICAgICAgICAgICAgICAgICAgICAgICAgICAgICAgICAgICAgICAgICAgICAgICAgICAgICAgICAgICAgICAgICAgICAgICAgICAgICAgICAgICAgICAgICAgICAgICAgICAKICAgICAgICAgICAgICAgICAgICAgICAgICAgICAgICAgICAgICAgICAgICAgICAgICAgICAgICAgICAgICAgICAgICAgICAgICAgICAgICAgICAgICAgICAgICAgICAgICAgIAogICAgICAgICAgICAgICAgICAgICAgICAgICAgICAgICAgICAgICAgICAgICAgICAgICAgICAgICAgICAgICAgICAgICAgICAgICAgICAgICAgICAgICAgICAgICAgICAgICAgCiAgICAgICAgICAgICAgICAgICAgICAgICAgICAgICAgICAgICAgICAgICAgICAgICAgICAgICAgICAgICAgICAgICAgICAgICAgICAgICAgICAgICAgICAgICAgICAgICAgICAKICAgICAgICAgICAgICAgICAgICAgICAgICAgICAgICAgICAgICAgICAgICAgICAgICAgICAgICAgICAgICAgICAgICAgICAgICAgICAgICAgICAgICAgICAgICAgICAgICAgIAogICAgICAgICAgICAgICAgICAgICAgICAgICAgICAgICAgICAgICAgICAgICAgICAgICAgICAgICAgICAgICAgICAgICAgICAgICAgICAgICAgICAgICAgICAgICAgICAgICAgCiAgICAgICAgICAgICAgICAgICAgICAgICAgICAgICAgICAgICAgICAgICAgICAgICAgICAgICAgICAgICAgICAgICAgICAgICAgICAgICAgICAgICAgICAgICAgICAgICAgICAKICAgICAgICAgICAgICAgICAgICAgICAgICAgICAgICAgICAgICAgICAgICAgICAgICAgICAgICAgICAgICAgICAgICAgICAgICAgICAgICAgICAgICAgICAgICAgICAgICAgIAogICAgICAgICAgICAgICAgICAgICAgICAgICAgICAgICAgICAgICAgICAgICAgICAgICAgICAgICAgICAgICAgICAgICAgICAgICAgICAgICAgICAgICAgICAgICAgICAgICAgCiAgICAgICAgICAgICAgICAgICAgICAgICAgICAgICAgICAgICAgICAgICAgICAgICAgICAgICAgICAgICAgICAgICAgICAgICAgICAgICAgICAgICAgICAgICAgICAgICAgICAKICAgICAgICAgICAgICAgICAgICAgICAgICAgICAgICAgICAgICAgICAgICAgICAgICAgICAgICAgICAgICAgICAgICAgICAgICAgICAgICAgICAgICAgICAgICAgICAgICAgIAogICAgICAgICAgICAgICAgICAgICAgICAgICAgICAgICAgICAgICAgICAgICAgICAgICAgICAgICAgICAgICAgICAgICAgICAgICAgICAgICAgICAgICAgICAgICAgICAgICAgCiAgICAgICAgICAgICAgICAgICAgICAgICAgICAgICAgICAgICAgICAgICAgICAgICAgICAgICAgICAgICAgICAgICAgICAgICAgICAgICAgICAgICAgICAgICAgICAgICAgICAKICAgICAgICAgICAgICAgICAgICAgICAgICAgICAgICAgICAgICAgICAgICAgICAgICAgICAgICAgICAgICAgICAgICAgICAgICAgICAgICAgICAgICAgICAgICAgICAgICAgIAogICAgICAgICAgICAgICAgICAgICAgICAgICAgICAgICAgICAgICAgICAgICAgICAgICAgICAgICAgICAgICAgICAgICAgICAgICAgICAgICAgICAgICAgICAgICAgICAgICAgCiAgICAgICAgICAgICAgICAgICAgICAgICAgICA8P3hwYWNrZXQgZW5kPSd3Jz8+/9sAQwAHBQUGBQQHBgUGCAcHCAoRCwoJCQoVDxAMERgVGhkYFRgXGx4nIRsdJR0XGCIuIiUoKSssKxogLzMvKjInKisq/9sAQwEHCAgKCQoUCwsUKhwYHCoqKioqKioqKioqKioqKioqKioqKioqKioqKioqKioqKioqKioqKioqKioqKioqKioq/8AAEQgBbALEAwEiAAIRAQMRAf/EAB8AAAEFAQEBAQEBAAAAAAAAAAABAgMEBQYHCAkKC//EALUQAAIBAwMCBAMFBQQEAAABfQECAwAEEQUSITFBBhNRYQcicRQygZGhCCNCscEVUtHwJDNicoIJChYXGBkaJSYnKCkqNDU2Nzg5OkNERUZHSElKU1RVVldYWVpjZGVmZ2hpanN0dXZ3eHl6g4SFhoeIiYqSk5SVlpeYmZqio6Slpqeoqaqys7S1tre4ubrCw8TFxsfIycrS09TV1tfY2drh4uPk5ebn6Onq8fLz9PX29/j5+v/EAB8BAAMBAQEBAQEBAQEAAAAAAAABAgMEBQYHCAkKC//EALURAAIBAgQEAwQHBQQEAAECdwABAgMRBAUhMQYSQVEHYXETIjKBCBRCkaGxwQkjM1LwFWJy0QoWJDThJfEXGBkaJicoKSo1Njc4OTpDREVGR0hJSlNUVVZXWFlaY2RlZmdoaWpzdHV2d3h5eoKDhIWGh4iJipKTlJWWl5iZmqKjpKWmp6ipqrKztLW2t7i5usLDxMXGx8jJytLT1NXW19jZ2uLj5OXm5+jp6vLz9PX29/j5+v/aAAwDAQACEQMRAD8A+kaKKzrvLXzL5kiqIlICyFe7eh9qANGisry/+ms3/f5/8aPL/wCms3/f5/8AGgDVorK8v/prN/3+f/Gjy/8AprN/3+f/ABoA1aKyvL/6azf9/n/xo8v/AKazf9/n/wAaANWisry/+ms3/f5/8aPL/wCms3/f5/8AGgDVorK8v/prN/3+f/Gjy/8AprN/3+f/ABoA1aKyvL/6azf9/n/xo8v/AKazf9/n/wAaANWisry/+ms3/f5/8aPL/wCms3/f5/8AGgDVorK8v/prN/3+f/Gjy/8AprN/3+f/ABoA1aKyvL/6azf9/n/xo8v/AKazf9/n/wAaANWisry/+ms3/f5/8aPL/wCms3/f5/8AGgDVorK8v/prN/3+f/Gjy/8AprN/3+f/ABoA1aKyvL/6azf9/n/xo8v/AKazf9/n/wAaANWisry/+ms3/f5/8aPL/wCms3/f5/8AGgDVorK8v/prN/3+f/Gjy/8AprN/3+f/ABoA1aKyvL/6azf9/n/xo8v/AKazf9/n/wAaANWisry/+ms3/f5/8aPL/wCms3/f5/8AGgDVorK8v/prN/3+f/Gjy/8AprN/3+f/ABoA1aKyvL/6azf9/n/xo8v/AKazf9/n/wAaANWisry/+ms3/f5/8aPL/wCms3/f5/8AGgDVorK8v/prN/3+f/Gjy/8AprN/3+f/ABoA1aKyvL/6azf9/n/xo8v/AKazf9/n/wAaANWisry/+ms3/f5/8aPL/wCms3/f5/8AGgDVorK8v/prN/3+f/Gjy/8AprN/3+f/ABoA1aKyvL/6azf9/n/xo8v/AKazf9/n/wAaANWisry/+ms3/f5/8ajmVkjBWWYHeo/1zd2A9aANmisry/8AprN/3+f/ABo8v/prN/3+f/GgDVorK8v/AKazf9/n/wAaPL/6azf9/n/xoA1aKyvL/wCms3/f5/8AGjy/+ms3/f5/8aANWisry/8AprN/3+f/ABo8v/prN/3+f/GgDVorK8v/AKazf9/n/wAajnVkt5GWWYMqEg+c3p9aANmisry/+ms3/f5/8aPL/wCms3/f5/8AGgDVorK8v/prN/3+f/Gjy/8AprN/3+f/ABoA1aKyvL/6azf9/n/xo8v/AKazf9/n/wAaANWisry/+ms3/f5/8aPL/wCms3/f5/8AGgDVorK8v/prN/3+f/Gjy/8AprN/3+f/ABoA1aKyvL/6azf9/n/xqOBWe3jZpZizICT5zen1oA2aKyvL/wCms3/f5/8AGjy/+ms3/f5/8aANWisry/8AprN/3+f/ABo8v/prN/3+f/GgDVorK8v/AKazf9/n/wAaPL/6azf9/n/xoA1aKyvL/wCms3/f5/8AGjy/+ms3/f5/8aANWisry/8AprN/3+f/ABo8v/prN/3+f/GgDVorK8v/AKazf9/n/wAaPL/6azf9/n/xoA1aKxp1ZLeRllmDKhIPnN6fWtmgAooooAKz7n/kIv8A9ck/m1aFZ9z/AMhF/wDrkn82oAbRWP4pmWDQmeW5a1i8+FZZVmMRVDKob5wQV4zzkVQ0y8sY9UJ0LUZ9Sslt3e6C3T3gRgRswxLEMfm+UHnGcUAdPRWbb6x5plW60+7spUjMqxz+WTIo6lSjsPTgkHkU2DW/tOnfbINNvnjbaYFCpunDDOQN3yj3fbQBqUVlnXYYtNuLu6tri2NqwE0DqpkTOMH5WIIwQeCfz4qH/hIyJRA2kagt043Q25EW6ZO7A79oA77ip5HGSKANqis1Nbgk01LpIZy7uYltdg80yAkFMZxkYPOduBnOOar3OvzR6XeSppd3HeW8Rk+yy+XuK84bIfaV4OcNnjp0oA2qKyl1qQWMMkmmXYupgSlmpjMjAYy2Q+wDnqWHYdSBSvr0EOnS3Vzb3MBhkWOWBkBkQsQBwpIP3gflJ/PigDUoqG1ne4t1kltpbVjn91MVLD/vkkfrU1ABRRRQAUUUUAFFFFABRRRQAUUUUAFFFFABRRRQAUUUUAFFFFABRRRQAUUUUAFFFFABRRRQAUUUUAFFFFABRRRQAUUUUAFFFFABUVx/qh/10T/0IVLUVx/qh/10T/0IUAS0UVzECWz6js1XVL211Vp2MSNdPEjgNlRHHny5Btxnhjzzg0AdPRWXda2Ib+SytrC8vbiJVd0gCABWzg7nZV7dM59utOXW7aTT1uYo5ndnMQtgmJTIM5TBOARg8k4xznHNAGlRWbBrMbRzG9triwkgUO8VwFLbTwCNhYNkjGASc9uRRa6uZrpYLrT7uxMmfKa48srLjkgbHbBxzhsH8jgA0qK5nWdeW40HUTBp969m1vIovQieUflIyBu3kZ/i2475xzXRW/8Ax6xf7g/lQBJUV1/x5zf9c2/lUtRXX/HnN/1zb+VAEtFFc9DpkWqavqr3dxf/ALq5WNFh1CeJVXykOAqOB1J7UAdDRWLaXkmm3V5Z6jdPcRW8STx3EijfsYsNhCj5iCvBAycjqeTPBrLST+VcaZe2jsCYfO8vE5AzhSrnBxzhtv6HABp0VzOhXIjs7zUDoV0l5LcOrMFiaW4/eMAu4OeFHHzEAY4rTXW4hYy3FxbXFu8MixywSBS6FiAPusVI+YHIJ/MYoA06Kge6RL6K1IbfKjOpA4AUqD/6EK5+z1a6sbbSba30u4u451bdJE0QxjJwNzqcjqeOnTmgDp6KKKACorX/AI84f+ua/wAqlqK1/wCPOH/rmv8AKgCWisrW2lufI0u1mkgluyS0sTbXjjXlmB7HJVf+BU6z1VV0P7XqB2Pb5juAqknep2kADk5PQdTkUAadFZkGs5jmkv8AT7zTo4ozKXuVQhlHXlGbB9jg+gPNNj10mGaa50u/tYo4mmV5kTEiqMnAViVOOzhT+tAGrRVZr6NPsmVf/Sm2pwODtLc/gDVaHWkuLm4jis7tktmdJZgilQy/wgA7mJHIwD74PFAGlRWdaav9omaK6sbnT32GRRcmP51GMkFGYDGRwcHmorfXTckPFpWofZnUtFcFE2y4GRgbty5xwWVR055FAGtRVJdUt5IrKSIPIt6R5W0dBtLZPoAB+eKu0AFFFFAEV1/x5zf9c2/lWvWRdf8AHnN/1zb+Va9ABRRRQAVn3P8AyEX/AOuSfzatCs+5/wCQi/8A1yT+bUAUNVs5L6zSKEqGWeKQljxhJFY/jgUuq2s19pU9vbTGGWRcK4Yr3zjI5APTI55q5RQBzOneHJLa+kuk03StMD2skBisedxJUhmbYueh4xx754t6lpFxc6PZWyJb3P2fb5trPIyw3AC7drEA8ZOeVIOBx6bdFAHN2Ph2W1sL+KO3sLP7VLHIsFou2OPbtyMhRk/L1wM+1a72cja5Degr5cdu8RGecsykfh8pq7RQBz+o+HPt1kyyxWdzJHePcxxXSb4nByNrAjjgnnBwcHB6UWGgeTZ3yDS9J0p7mExBbCPceQeWfamRz93bxjqc8dBRQBzV/oNxqcNlcX+m6Vc3VqrRm1uWMsLqcchzHlW4BztPcd8ie10JodLaGKx0zTnkuI5TDYptQBXU8ttG44B52jrjtmt6igAooooAKKKKACiiigAooooAKKKKACiiigAooooAKKKKACiiigAooooAKKKKACiiigAooooAKKKKACiiigAooooAKKKKACiiigAooooAKiuP9UP+uif+hCpaiuP9UP8Aron/AKEKAJaw7611vUIZbCZLBLaU4a7SV/MC5zxEVwG7Z3nB5x2rcooAwGOqx+Ir99NS0uI/LhVobiVoiDhvmDhWz6Y2++e1RXXhhrvTc3cdldXhujdvFPHugdiu3Zg5ONuAGxnIzjtXRCNFkZ1RQ743MBycdM06gDmoPC8Uum31tNpOkaYLpAgSxiD5wcguxVNwzj5dvY8nPDtJ8Pi1vkmk0HQbAxqR51lHukckY4+Rdn5t1x710dFAHNyabr0eiy6NZmw8gQtDDeSSPvC4wAYguM44zu98fw10MSlIUQ9VUA4p9FABUV1/x5zf9c2/lUtRXX/HnN/1zb+VAEtYYg1qy1K/ksbOwuIbqYSq0168TL8irgqImH8PrW5RQBhP4da9sL9dVnjnu75FV3WL93Gq8qoQk5UHJOT82T06CLSNA+yahHO+g6DYGIH99ZR7pHJGOPkXZ+bdce9dFRQBgXmiXM2lRwBbe52XUk0lrPIyxXCMzEK5CnpuBwVIyPxqC18Myw6VqVvFFY6e126SxRWkf7qJlC4B+Vd3K8nAJ9q6aigDHtbbVptYhvdSSzgjihki8m3laTlip3bii/3cYxx6nPDf7Nv7a0037KtvNNaM29JJWRWVgQcMFJyMjtz7VtUUAFFFFABUVr/x5w/9c1/lUtRWv/HnD/1zX+VAGVLoC3+rXF7qMs6nCxW4tbyaHbGOTu2MuSWJ9eAKg/4RkwfbIbGd0guPLnVriZ52S4RgQx3EllIVcjd/Dx1roaKAMd7XVdUs57bVI7O0jePaptpXmYv1DfMqYAx05z6jHKrDrF9BNa6pHYwQSQtG0lvK8jSEjGcFVCeuMt6Z71r0UAYNvZa3JNpwvvsMcVi+WMMjM0/yMu7BUbOudvzdevHNmXTLh9Jv7aKfyZbmSR45EZht3HI5GCPw/CtWigDl9P8ADHl37zS6XpemxSWslvJFYcs+4r8xfYhPQ8Y465OeNKwTW4WhtrpbE28I2m5SRzJKAMD93tAQ9Mnc3TpzxrU10SWNo5FV0YFWVhkEHsRQBh6Pa51m+lB3W9rI0Nt14LEPIPwbA9sEVvVFbW0Fnbpb2kMcEMYwkcSBVUewHAqWgAooooAiuv8Ajzm/65t/Ktesi6/485v+ubfyrXoAKKKKACqFxHLJqL+SqHESZ3sR3b2NX6gT/kIzf9co/wCb0AVvs13/AHIf+/p/+Jo+zXf9yH/v6f8A4mtCigDP+zXf9yH/AL+n/wCJo+zXf9yH/v6f/ia0KKAM/wCzXf8Ach/7+n/4mj7Nd/3If+/p/wDia0KKAM/7Nd/3If8Av6f/AImj7Nd/3If+/p/+JrQooAz/ALNd/wByH/v6f/iaPs13/ch/7+n/AOJrQooAz/s13/ch/wC/p/8AiaPs13/ch/7+n/4mtCigDP8As13/AHIf+/p/+Jo+zXf9yH/v6f8A4mtCigDP+zXf9yH/AL+n/wCJo+zXf9yH/v6f/ia0KKAM/wCzXf8Ach/7+n/4mj7Nd/3If+/p/wDia0KKAM/7Nd/3If8Av6f/AImj7Nd/3If+/p/+JrQooAz/ALNd/wByH/v6f/iaPs13/ch/7+n/AOJrQooAz/s13/ch/wC/p/8AiaPs13/ch/7+n/4mtCigDP8As13/AHIf+/p/+Jo+zXf9yH/v6f8A4mtCigDP+zXf9yH/AL+n/wCJo+zXf9yH/v6f/ia0KKAM/wCzXf8Ach/7+n/4mj7Nd/3If+/p/wDia0KKAM/7Nd/3If8Av6f/AImj7Nd/3If+/p/+JrQooAz/ALNd/wByH/v6f/iaPs13/ch/7+n/AOJrQooAz/s13/ch/wC/p/8AiaPs13/ch/7+n/4mtCigDP8As13/AHIf+/p/+Jo+zXf9yH/v6f8A4mtCigDP+zXf9yH/AL+n/wCJo+zXf9yH/v6f/ia0KKAM/wCzXf8Ach/7+n/4mj7Nd/3If+/p/wDia0KKAM/7Nd/3If8Av6f/AImj7Nd/3If+/p/+JrQooAz/ALNd/wByH/v6f/iaPs13/ch/7+n/AOJrQooAz/s13/ch/wC/p/8AiaPs13/ch/7+n/4mtCigDP8As13/AHIf+/p/+JqG5t7oRDckOPMQcSH+8P8AZrWqC8/1C/8AXWP/ANDWgCt9mu/7kP8A39P/AMTR9mu/7kP/AH9P/wATWhRQBn/Zrv8AuQ/9/T/8TR9mu/7kP/f0/wDxNaFFAGf9mu/7kP8A39P/AMTR9mu/7kP/AH9P/wATWhRQBn/Zrv8AuQ/9/T/8TR9mu/7kP/f0/wDxNaFFAGf9mu/7kP8A39P/AMTUN1b3S2cxZIdojYnEhPb/AHa1qgvv+Qdc/wDXJv5GgCt9mu/7kP8A39P/AMTR9mu/7kP/AH9P/wATWhRQBn/Zrv8AuQ/9/T/8TR9mu/7kP/f0/wDxNaFFAGf9mu/7kP8A39P/AMTR9mu/7kP/AH9P/wATWhRQBn/Zrv8AuQ/9/T/8TR9mu/7kP/f0/wDxNaFFAGf9mu/7kP8A39P/AMTR9mu/7kP/AH9P/wATWhRQBn/Zrv8AuQ/9/T/8TUNrb3TWcJVIdpjUjMhHb/drWqCx/wCQdbf9cl/kKAK32a7/ALkP/f0//E0fZrv+5D/39P8A8TWhRQBn/Zrv+5D/AN/T/wDE0fZrv+5D/wB/T/8AE1oUUAZ/2a7/ALkP/f0//E0fZrv+5D/39P8A8TWhRQBn/Zrv+5D/AN/T/wDE0fZrv+5D/wB/T/8AE1oUUAZ/2a7/ALkP/f0//E0fZrv+5D/39P8A8TWhRQBn/Zrv+5D/AN/T/wDE0fZrv+5D/wB/T/8AE1oUUAZN1b3S2cxZIdojYnEhPb/drWqC+/5B1z/1yb+RqegAooooAKgT/kIzf9co/wCb1PUCf8hGb/rlH/N6AIdWvZ7CyWS0gjuJnlSJI5ZTGpLMBywViOvoarQarfQ3cVvrenxWv2htsM1tcmeMtjO1iUQqTg44IPrnALvELmLT4ZvKmlWK6hkdYIWlbaHBJCqCT+AqrLeHX5re3srS7S3jnSae4urV4Auw7gqrIAzEkDkDAGec4BAN6o7e4iuozJA25Q7ITgjlSVI59wa4draW58Vx3CaakUxvCtwf7Km8zyuVO66ZtjoRj5QCACBj5ch5sLKw0C5sbXQ44la+cXP/ABKZZI9u5yjGKMAzrjaOCQMjPTFAHc1HBcRXMbPA25VdkJwR8ykgjn3BrD8IQSxaNPBcwCKL7Q/kx/ZWt08sgEbYmZiq8n5SeOeB0GZbaFYJp8un2ukm1xqga4WG0aFZI/NJX5goDrtwOCQAcH0oA7OiuC8UWP8ApEkGn6TFHJawBbIppEtwRgZBilRlSAg5GOvAPPArTu/D1tf3Os3l9Ym4uNi/ZWkQkowiHzR/3W3fxLzkD0oA6qqNpez3eoXUYt41tbd/LWXzSXdwAT8m3AHPXcfpXM38IHiKzuX0qS6uysKhpLGQuOmWS5U7YgMsWVgN2COhqY6FBZWd+bLSViikvw1zHawiN54BjIGMFhkk7e43AZzggHXUVxT2EE1jqa+HtNuLHT5LJo2hW1e28yYkYKREKQQM5YKM5Xk4407rwzps2q6fbtp0bWEUU7PD5eYnclOXHRieT82ckZ6igDoqK5G18O29nZwXlvYMl/DqGEm2EypD5xXYCeRGIzwv3QKom3mn8WRXMemrFN9sK3BGlTeb5XKnddMwR0Ix8oBABAx8uQAdot4ksQktY3uF80xNswNpDFWJ3EcAg9M+2asVyOm6XaWMDW2naV9klj1QPL5VmYlZPMYqQ20BgFI5BIHTiq91ZQH7Sk2k3MniJpJDbXwtWbbknYy3AG1EAx8pYcAjBzyAdtUdxcRWlu89w2yNBlmwTj8q5i88PQXb65eXll9ovBzayMhJRhCuGi/uncOq85A9K0fEVhFqXhWaK8s1vGWMSCN4fMO4dwuDz16c0AbVFctdRRQCG30qBra21iJbdIhCYvJKjk7CAU/d7uoH3AKp3EGijWtUj1fRbi+VZUW32WT3KLiFOFCg+W3T5jtzxzxwAdrRXB6rp2otb6b/AGxHDc26WoVo7rS5dSCS5/iSNwd23A34I4bkZ56rw9DcW+g20d27tIAfvxmMhckqNpZiMDAwWJ9eeKANKiiigAooooAKKKKACiiigAooooAKKKKACiiigAooooAKKKKACiiigAooooAKKKKACiiigAqC8/1C/wDXWP8A9DWp6gvP9Qv/AF1j/wDQ1oAnJwCaw9P8W2GpaZBewR3CpNdLahHVQ6uTwSM9CMHr0Irbb7p+lee2elX1rpugKtncBZ5oftKCE5hdHOHYYyAVJGT/AHRQB00fiu1kuIv9DvFspp/s8WoFF8l5M4AHzbwCwwGKhSe/IotfF1hd2Fxdxx3Crb3gs3RlUNuMgQMBn7uT19jx2rEgjubjw3YeGm0+7jvLWeFZnaBlhEcUit5gkI2NkKMKCTlsEcHFMaXf2+k2zx2VwWuNRKTxiE7gBeGRJCMZ2hd3PTDCgDq7XxA97qE1ta6PfyRQXDW8l1uhEasOpwZN+Of7tbNcXo0Npb+ItQ+2xa1HdSanI8WxLwW7KcbWO390R7n8a7SgAooooAKgvv8AkHXP/XJv5Gp6gvv+Qdc/9cm/kaAJ6wo/FthJBqkojuB/ZkpimUqu5ucbl55GQRzjoa3a88v9Lv4tH1GeCzuGknvriF4lhJZ42kDI4GMkAjr6MTQB0934rtbSa4zZ3k1paSCO6vYkUxQNxkHLBjjIyVUgd+hwo8WWHm6xH5c4bSF3TDav7wbdxKc89QOccmsS4F1Do2teHv7Ou3u7ya4+zSR27GGRJiSGMoGxdu45DEH5eAcjNLUNHvrfTNfmtrSeSXz5IVRISWnie3jTKjGSA4U8f3TQB1LeI2bVJrKy0e/vGgWMyyQtAqrvGR9+RSePQVtVw4t7WHxZfy6pDrSeYlt5LWSXgjbCYO7yflOD/eruKACiiigAooooAKgsf+Qdbf8AXJf5Cp6gsf8AkHW3/XJf5CgDOu/EDW+sSabaaTfX80USTSG3aFVVWJA/1ki8/KelNl8U2MN5qdrJHOJdNt1nlXaDvBGcJzyw4BHqR61i6rBap44urjU4tZEL2UKxSact3tZg0m4EwdcZHDetWY9EfUtbv7iQzQRx3iMu+Ij7RH5MZ25OON6qc8/dIoAsjxhFN5X2HSdRvd9ml63kiIGON84BDSAlvlPC5qW98VQ21tYXNrp17qFtqBRYJrYxAFn+6pEjqQePTHvXPaBoWoT3dus9xqGmxro1vDIYYkXzCHkyhLoxBAI+6QRn6VpeI/s2l2+iWFlZXhhs7yGQJa2U0yxxJkfeRTyPTOaANG+8S/Yrz7KukahczLai6lWHyf3SZIwd0gyeDwuaNR8Tw2GnWl/BYXl/a3ezy5bbygAXICAh3U8lh2474rH1zQ5df166li+2Qq+kqIJFaWFGfex2OMgNkYBVh0PSn+Ib8TeF9NWLTb+OSSa2l+zRWErmFUkQsCEUhcAHA744zQBtXevLZi0iNhdy312pZLGLyzKoH3ixLhABkDO7GSAM0aj4hg0rR47+8tLpd7bTbhFMikAlsjdggBWJIJGBxnis66uGtPE9trn2W9msLmxNuxitZGkhbfvG6ILvAIyPu8Ec4qLUTqesa5bPY6UktlDaOSuoSPbBmlJXj92xyEU5BAID84PFAHQT6pBb3tjbMHZr4sImUAqNq7uefQVcrhLV72wtPDLapZXhfTZZre4MFtLPjahRWG1SSp4w2O9draXUd7apPCsqo/QTQvE34q4DD8RQBNRRRQBBff8AIOuf+uTfyNT1Bff8g65/65N/I1PQAUUUUAFQJ/yEZv8ArlH/ADep6qNPFDqMvnSpHmJMb2Azy9AFuioPt1p/z9Q/9/BR9utP+fqH/v4KAJ6Kg+3Wn/P1D/38FH260/5+of8Av4KAJ6Kg+3Wn/P1D/wB/BR9utP8An6h/7+CgCeioPt1p/wA/UP8A38FH260/5+of+/goAnoqD7daf8/UP/fwUfbrT/n6h/7+CgCeioPt1p/z9Q/9/BR9utP+fqH/AL+CgCeioPt1p/z9Q/8AfwUfbrT/AJ+of+/goAnoqD7daf8AP1D/AN/BR9utP+fqH/v4KAJ6Kg+3Wn/P1D/38FH260/5+of+/goAj/s5W1YX8s8sjImyKJtuyLP3iuBnJwOST7YyakgtEt57mVCxa4kEjgngEKF4/BRR9utP+fqH/v4KPt1p/wA/UP8A38FAE9FQfbrT/n6h/wC/go+3Wn/P1D/38FAE9FQfbrT/AJ+of+/go+3Wn/P1D/38FAE9FQfbrT/n6h/7+Cj7daf8/UP/AH8FAE9FQfbrT/n6h/7+Cj7daf8AP1D/AN/BQBPRUH260/5+of8Av4KPt1p/z9Q/9/BQBPRUH260/wCfqH/v4KPt1p/z9Q/9/BQBPRUH260/5+of+/go+3Wn/P1D/wB/BQBPRUH260/5+of+/go+3Wn/AD9Q/wDfwUAT0VB9utP+fqH/AL+Cj7daf8/UP/fwUAT0VB9utP8An6h/7+Cj7daf8/UP/fwUAT0VB9utP+fqH/v4KPt1p/z9Q/8AfwUAT0VB9utP+fqH/v4KPt1p/wA/UP8A38FAE9FQfbrT/n6h/wC/go+3Wn/P1D/38FAE9FQfbrT/AJ+of+/go+3Wn/P1D/38FAE9QXn+oX/rrH/6GtH260/5+of+/gqC6vLVoVC3MJPmxniQf3xQBeoqD7daf8/UP/fwUfbrT/n6h/7+CgCeioPt1p/z9Q/9/BR9utP+fqH/AL+CgCeioPt1p/z9Q/8AfwUfbrT/AJ+of+/goAnoqD7daf8AP1D/AN/BR9utP+fqH/v4KAJ6gvv+Qdc/9cm/kaPt1p/z9Q/9/BUF5eWrWM6rcwljEwAEg54oAvUVB9utP+fqH/v4KPt1p/z9Q/8AfwUAT0VB9utP+fqH/v4KPt1p/wA/UP8A38FAE9FQfbrT/n6h/wC/go+3Wn/P1D/38FAE9FQfbrT/AJ+of+/go+3Wn/P1D/38FAE9FQfbrT/n6h/7+Cj7daf8/UP/AH8FAE9QWP8AyDrb/rkv8hR9utP+fqH/AL+CoLO8tVsYFa5hDCJQQZBxxQBeoqD7daf8/UP/AH8FH260/wCfqH/v4KAJ6Kg+3Wn/AD9Q/wDfwUfbrT/n6h/7+CgCeioPt1p/z9Q/9/BR9utP+fqH/v4KAJ6Kg+3Wn/P1D/38FH260/5+of8Av4KAJ6Kg+3Wn/P1D/wB/BR9utP8An6h/7+CgCeioPt1p/wA/UP8A38FH260/5+of+/goAL7/AJB1z/1yb+RqeqN5eWrWM6rcwljEwAEg54q9QAUUUUAFQJ/yEZv+uUf83qeoE/5CM3/XKP8Am9AE9FMnnitoHnuZUhijUs8kjBVUDqST0FRWOoWWp2/2jTbuC7hyV8y3lEi5HUZBxQBYooooAKKKKACiiigAooooAKKKKACiiigAooooAKKKb5iGQxhl3gBiueQD0OPwP5UAOopHdY42eRgiKMszHAA9TSg5GRQAUUUUAFFFFABRRRQAUUUUAFFFFABRRRQAUUUUAFFFFABRRRQAUUUUAFFFFABRRRQAUUUUAFFFFABUF5/qF/66x/8Aoa1PUF5/qF/66x/+hrQBPRRRQAUUUUAFFFFABRRRQAVBff8AIOuf+uTfyNT1Bff8g65/65N/I0AT0UUUAFFFFABRRRQAUUUUAFFFFABUFj/yDrb/AK5L/IVPUFj/AMg62/65L/IUAT0UUUAFFFFABRRRQAUUUUAFFFFABRRRQBBff8g65/65N/I1PUF9/wAg65/65N/I1PQAUUUUAFQJ/wAhGb/rlH/N6nqBP+QjN/1yj/m9AEGrWBv7RFRY3khlWaNJvuOynIDcHH1wcHBwcYrKuteOn2t5LNpot9TVoUkWNTOJN52owMY3uo+bgqG4PAyDW3e2NvqFv5N0hZc7lKuUZD6qykFT7gg1Wg0HToLKe1WFpI7g5laeZ5XkPYl3JYkYGOeMcYoAxYfEmpjTdRdoPtM1tCJYZX064so5GJxsKy5OenIJ69Bjmz5/iY6g1gLjShJ5In882shVBkjy9nmfN679w6fdrQt9A0+3gmiWOaUTgCR7i5kmdgOg3uxbA54zjk+tXvs8X2o3O396U8stk/dznGPqaAMGLU7i6WK7t7K3+2tpxlAZctkMMxhuu0n9cGp5dcMkVxPZyQC2igQrJIrNmV+QoC8thSvygZYsACK0rfT7W1ZGgi2GOMxr8xOFJzjk+tQDQ9OGnSWKwFIJJDKwSRlYPnO4MDuUggYwRjAxjFAGJbeJNRk0+8wkc91bzQIjy2U1mriRwvMcmWGOeQSD+Yq3Pfz6ZPcSXcNpc3cVnGfOiiMPmFpGUKSSxVc47nHJ9qvW3h/TrVJFiikYysjyPLPJI7lDlSWZiTg+p6cdKtS2NrPJK88KyGaLyZA4yrpz8pB4xyfzoAzEvtU06+gi1iS0uY7kPsa1geJo2VS2CGdtwIB5+XBA454gi1HW/strqMrae1rdyRAW6oweJHYAHzNxDnB6bV69TjB0rHQ7HTrgz26TPLt2q9xcyTFF7qpdjtBwOFwOB6CsCPRmm1KFI9CurIR3CzPLLfCS2Ta24mGLzDgk8A+WmAW6dCAaC6pqX2fULuaSyht4JZIIEMTszMH2qxwcn02KuWOMEZwKcHiXUn0292Rx3F3bywJG0lnNZrIJHC4KSZYY55BI/UVvzaVZz2ctrJE3lSyGVtsjKwctu3Bgcqc85BGO1Q23h/TrVJFiikYysjyPLPJI7lDlSWZiTg+p6cdKAM37T4mN5c2ST6UZLeFZ/PNrIBJu3AR7PM+X7h+fceo+WtGbVH/4RZ9Vt4gJPsZuEjc5Gdm4A1eFtCLiScJ+9lRUdsnlRnA/8eP50z7Bbf2b9g8v/RvK8ny9x+5jGM9elAGGLrxKb6C0aXS0e6hacSfZ5GFuFKgoV8weYTvHzZTGCcHOKkh1fU7+O1tbQWlteuspnllRpI18t9h2oGUtk/7QwOua2/s0JuY7jZ+9jQxq2TwpIJH/AI6PyqpcaHp9zbrFJFIgR2kR4ZnjkRmJLYdSGGSeQDigDO/tnUCn2ALajUhdfZfOKt5P+r8zftzn7v8ABuznjdjmoJdRv9Hn1K41MQXc0NrDsa1idRIWkcDMfzsME9ixPUDtWx/Yen/2b9gEBEO7fkSuJN/Xf5md+/8A2s596S20DTbWOdEt2l+0oI52uJXmaVRnAZnJJxk9T04oAxIdavb2y1K1vFeZfsUki3A0q4slUgY2ES53HnIIPY8d61fELXieFbt9OuEt50gLCR0LYAHOMMpB9Dnj0NS2ugafaLMqJPKZ4zG7XF1LM2w9VDOxKj2BFXp7eK5tZLaZN0UiFGXJ5UjBFAGO+p32nw3EV95E9wsCvbvFG0azOTt27SzY+Yr3/iFN+067eXt5BYzadALN1QvNA8hlJjViMB12DJ6/N16ccvOltJq9hCtvOtppoMi3E8/mGZiMBQSxcgdTu7hcZ7MPhq2vNU1G5vop0M0q7WgupIfNQRqMN5bDcAQ3DZ6n1oAo3Xiu4ljs1ska2kmtxPI/9nXF8FySu0LFjuD8xI6DAOeN/SL2XUdKhuZ4Ht5GyGR43Q5BIztcBgDjIyM4NMu9DsLyOFHikhEC7ImtZ3t2Rf7oaMqdvA4zjgelW7a2hs7ZLe1jEcUYwqj/ADyffvQBLRRRQAUUUUAFFFFABRRRQAUUUUAFFFFABRRRQAUUUUAFFFFABRRRQAUUUUAFFFFABUF5/qF/66x/+hrU9QXn+oX/AK6x/wDoa0AT15x4b0lrmKxutN0UWNxDeyyz6riJTPGJHyg2MXbPAw4A4z1Ar0eoLKxt9OtVtrOPy4lZmC7ieSSTyfcmgDhY7G2XwnpfiCJEOtTXUDyXmMSyNJKFeMt1K4Yrs6AAelVI9XkXwyuiGNPs/l+QJAcN5wnxs9PuYNdvB4a0q3v/ALZDbMJPMMqoZnMSOerrETsVjk/MADyfU1GPCWhiAQiwUIL37eAJH/1+c785/Tp7UAYGg6UJ/EWp3h0HSLgJqsv+nzP/AKRHjH3R5R6dvnH4Vm2Nhv8AEazf2fZ23ma5PjVYz/pBKknyiNowrAFc7iMduldrH4b0+HUHvYftkUskxmdUv51jZz1JjD7D9MYqVtD057SS2a3/AHUtx9pYCRgfN3btwOcg5GeKANCiiigAqC+/5B1z/wBcm/kanqC+/wCQdc/9cm/kaAJ685GkHU9U1pbHRQNQ/tTMWsnyl+zgBCfmDeZ0zwFwc4PBNejVBa2NvZtO1tHsNxKZpfmJ3OQATz06DpQBxF5YWt54b1/WrtFfVrWe4MN0RiS2MRPlqjdVGADgcHcfWoF12bTLfUrN4ozFJPdNcscgxl4wyd8csSK7Cbw1pVxqDXstsxlkZXkQTOIpWXozxg7GYYHJBPA9BTLnwpol4uorcWKuNTZGu/nYGUp93kHjGO2KAOT03RvtXiK7B0HSdT8i3slMuoSYeL91/D+6fPr1FQ65YfaPEusyf2fZ4N1aRf2o5/f2OVXDoNvQHHO8YJ6EZrtJvDWmzX73n+mRTuFDm3v54Q4UYXKo4BwPUVYl0awmW+WW3DrqAC3ILH94Au0d+OPTFAF4DAA60U2ONYokjTO1FCjcxY4HqTyfqadQAUUUUAFQWP8AyDrb/rkv8hU9QWP/ACDrb/rkv8hQBxmpyef42vdMu90Om3ht0uJ88OdrbYOuRv8AXoQNvVhXcRxpFGscSKiIAqqowFA6ACqdzo1hdreLc24kF6ipcAsfnC9O/GM9Rg1Wkk163k8mw03T5raMBY5LjU5VkYAdWHktz/wI/WgDmfEmmNqfjG/WPR9N1J00mPab59phJeXlPkbn8V6Dn0ha1TWtc0p4dLsdcT+xEdf7Xfafv/e/1cnzHv8AzrqZfD1tqsi3ur27w3rRCKVbTUJhGyAkhTt2Bxyeq9zUt34b0y8uIpmjngkhh8hDaXctviPOQuI2XigDF1zQ5jf219LolnrOnw2qwtpjMv8Ao5B5eJXGxjjjnacKMHnFM1OxGtLpmsWGl2ut6SLUBdMuMJtyQRIisNhYLkYbb7Hmt+78PWN9s+0SX+FjEe1NRuEVlH94K4DH1JyT3ouvD9hdpEjfaoI4oxGkVpezW6BR22xuo/SgDldTS017VPDbabo+n31q9lcNHaX48qOMAxjGAj4K9MY9ea1ngFr4m8Nwi1t7TZbXI8i2OY4+E4X5V4/AfStK58NaXcraKYZYBZoY7f7JcyW5jU4yoMbLx8o/KluvDmn3kdqs/wBrLWgZYZUvp0kAOM5dXDNnA6k0AalFRW1ulpbJBE0jIgwDLK0jH6sxJP4mpaACiiigCC+/5B1z/wBcm/kanqC+/wCQdc/9cm/kanoAKKKKACoE/wCQjN/1yj/m9T1UaNpNRl2zPFiJPuBeeX9QaALdFQfZ5f8An8m/JP8A4mj7PL/z+Tfkn/xNAE9FQfZ5f+fyb8k/+Jo+zy/8/k35J/8AE0AT0VB9nl/5/JvyT/4mj7PL/wA/k35J/wDE0AT0VB9nl/5/JvyT/wCJo+zy/wDP5N+Sf/E0AT0VB9nl/wCfyb8k/wDiaPs8v/P5N+Sf/E0AT0VB9nl/5/JvyT/4mj7PL/z+Tfkn/wATQBPRUH2eX/n8m/JP/iaPs8v/AD+Tfkn/AMTQBPRUH2eX/n8m/JP/AImj7PL/AM/k35J/8TQBPRUH2eX/AJ/JvyT/AOJo+zy/8/k35J/8TQBPRUH2eX/n8m/JP/iaPs8v/P5N+Sf/ABNAE9FQfZ5f+fyb8k/+Jo+zy/8AP5N+Sf8AxNAE9FQfZ5f+fyb8k/8AiaPs8v8Az+Tfkn/xNAE9FQfZ5f8An8m/JP8A4mj7PL/z+Tfkn/xNAE9FQfZ5f+fyb8k/+Jo+zy/8/k35J/8AE0AT0VB9nl/5/JvyT/4mj7PL/wA/k35J/wDE0AT0VB9nl/5/JvyT/wCJo+zy/wDP5N+Sf/E0AT0VB9nl/wCfyb8k/wDiaPs8v/P5N+Sf/E0AT0VB9nl/5/JvyT/4mj7PL/z+Tfkn/wATQBPRUH2eX/n8m/JP/iaPs8v/AD+Tfkn/AMTQBPRUH2eX/n8m/JP/AImj7PL/AM/k35J/8TQBPRUH2eX/AJ/JvyT/AOJo+zy/8/k35J/8TQBPRUH2eX/n8m/JP/iaPs8v/P5N+Sf/ABNAE9FQfZ5f+fyb8k/+Jo+zy/8AP5N+Sf8AxNAE9FQfZ5f+fyb8k/8AiaPs8v8Az+Tfkn/xNAE9QXn+oX/rrH/6GtH2eX/n8m/JP/iaguoJBCubqY/vY+CE/vj/AGaAL1FQfZ5f+fyb8k/+Jo+zy/8AP5N+Sf8AxNAE9FQfZ5f+fyb8k/8AiaPs8v8Az+Tfkn/xNAE9FQfZ5f8An8m/JP8A4mj7PL/z+Tfkn/xNAE9FQfZ5f+fyb8k/+Jo+zy/8/k35J/8AE0AT1Bff8g65/wCuTfyNH2eX/n8m/JP/AImoLyCQWM5N1MwETcEJzx/u0AXqKg+zy/8AP5N+Sf8AxNH2eX/n8m/JP/iaAJ6Kg+zy/wDP5N+Sf/E0fZ5f+fyb8k/+JoAnoqD7PL/z+Tfkn/xNH2eX/n8m/JP/AImgCeioPs8v/P5N+Sf/ABNH2eX/AJ/JvyT/AOJoAnoqD7PL/wA/k35J/wDE0fZ5f+fyb8k/+JoAnqCx/wCQdbf9cl/kKPs8v/P5N+Sf/E1BZwSGxgIuplBiXgBOOP8AdoAvUVB9nl/5/JvyT/4mj7PL/wA/k35J/wDE0AT0VB9nl/5/JvyT/wCJo+zy/wDP5N+Sf/E0AT0VB9nl/wCfyb8k/wDiaPs8v/P5N+Sf/E0AT0VB9nl/5/JvyT/4mj7PL/z+Tfkn/wATQBPRUH2eX/n8m/JP/iaPs8v/AD+Tfkn/AMTQBPRUH2eX/n8m/JP/AImj7PL/AM/k35J/8TQAX3/IOuf+uTfyNT1RvIJBYzk3UzARNwQnPH+7V6gAooooAKgT/kIzf9co/wCb1PUCf8hGb/rlH/N6AJ6KyvEc97BpanS5RFctPEikqGBy4BBz69M+9Vdc1if/AIRcXOkv5V1cxFoWZQfLwpZiQRjgA9e+KAN+isu416x08QpfSSh3jV3ZLeR1jB/idlUqg68sQOD6GrEurWULzpLKVeAKXXy2JO7hdox82Tx8ueeOtAFyisybWrSwjnl1C8QRrceQgSBwQxUEJ33Me2AM5AAz1gHi7RiwXz5wdwWQNaTAwEnA83Kfus5437cjnpQBtUVCLqEyzRh/ngUNIMH5QckfyNULnxNpVq0ayTyu8sKzrHDbSSsYz0faikheOSenGcZFAGrRWZY+IdM1G6WCyuGlZ1LRv5LiOUDqUkI2vjP8JNS6jrNjpTxR3kjiSYExRRQvK8mMZ2qgJOM5wB0yegNAF6iqlvqlndx27wTbhclhHlGBJX7wIIypGDkHBBGKju9c06xheS6uNipN5B+RiTIRkKABkkjpjqeBzQBforFHi7RiwXz5wdwWQNaTAwEnA83Kfus5437cjnpRN4htbDU7y3vJZnMZQrHb20kzRqVzuYRqSoJzyeOD6UAbVFZ91rmn2kEEzSvMtwu6EWsL3DSL/eCxhiV5HOMcj1ps3iDTIIbaVrhnF0CYFiieRpMdQFUE5GeRjIwfQ0AaVFV72/ttOtvPu5CiEhVCoWZ2PRVUAlj7AE1kan4ntU8PXV5ZNceZH+72/Y5TLEx6Foyu5fUFhg8etAG/RVGG7hstEW6vLud4Y4973F1F5b49WUKuD7bRTLLXtP1C7NtbySiXaWQS28kQlUdWQuoDjkcrkcj1FAGjRWZB4i0y4vFtoppCzsVjlaCRYZG9ElK7GPXgEng+hpsmvWdjbrJf3auZZ5IohDbybnZSfkCDcWYYPTrgkCgDVorEvPFVjbWVtdRx3U8c8/k4jtJmaM5wQyhCykf3SATVqLXbCbUjYpJL52duWt5FjLYztEhXaWx/DnPB44NAGjRVWa58q/iiM6KrRO7RmMlmC7eQ2cADPTBznjpVXT/Eel6pOkVlO7mVd0TtBIkco6nY7KFfHcKTjn0oA1KKqahqlrpiIbppC0hwkcMLzSNjrhEBYgdzjioZNe0+OxiuxJLLHMSEWC3klkJHUeWqlhjocjg8HFAGjRWdPr2nQWMF20zSR3P+pEELyvJxnhEBY478cd6qy+I7SO6glEsr280LFY4raSSQuGAI8tVL5HORjjvigDboqCG7iu7Fbq0kEkUibkcd/wDPpVBddt7PS7GS/klkuLiBX8uC3eaR/lBZtkak4yeTjAyPWgDWorOl17TYtPivDcF4pm2RiKJ5JHbnKhFBYsMHIxkYOcYNMk8R6bHaxXBe4dZSwCRWkski7fvbo1UsuOh3AYyKANSiqMd6J9SthbyrJbTWryqVwQ3zJgg/Rj+dR3/iDTtNuvs11LKZ9gk8qG3kmYJkjdhFJ25HJ6DjPUUAaVFZlj4h0zUbpYLK4aVnUtG/kuI5QOpSQja+M/wk0ReItMmvRbRzSbmfy0lMEghdv7qyldjHqMBicgjtQBp0Vh6t4msLOG9iSeRZ4I2BlW3kaKJ9uQGk2lFPTgnuPWrV5rtjpzxxXTzNKyB2WC2km2L/AHm2Kdg68tgcH0NAGlRVKC6M2qyJHIr2/wBmjlQrgg7mfkHvkAVdoAKKKKACiiigAooooAKgvP8AUL/11j/9DWp6gvP9Qv8A11j/APQ1oAnoorl9A8QXGranNFLrOkExTTI2nRQn7Qqo5UEnzT6A/c70AdRRXHDxfdx3GnXVw1p9h1G48qK1WJvtEcZbaszNuI2ltuRtGNwGSevY0AFFFFABRRRQAVBff8g65/65N/I1PUF9/wAg65/65N/I0AT0UVzet3uvabPB9lvdOkF3dJBBbNYSbyCcnLibHChiTt7dKAOkorl11+4m8W3Wmf2xpFp5E6Rx2c8Ra4nUorEqfNX1IHynp3rqKACiiigAooooAKKKKACoLH/kHW3/AFyX+QqeoLH/AJB1t/1yX+QoAnorC8R6hquk2k+pWr2Is7WMO8MsbtJNzyoYMAhxgDhsk9qp6z4jv4JL1tPazgi0+NN4u4ndrmVxuESbWG04wM4bJbpxyAdTRXI3Hiu5vLc3OkSWlrBFZxXLvexM/mPLykShWXB46/NyQADXQ6NqSaxotpqMcbRrcxLJsbqhI5B+h4oAu0UUUAFFFFABRRRQAUUUUAQX3/IOuf8Ark38jU9QX3/IOuf+uTfyNT0AFFFFABUCf8hGb/rlH/N6nqBP+QjN/wBco/5vQBHqNo95FCsRUGO4ilO49lYE/jxWY2gTmXVP30bRTxSJZocjyjIMyZ+rYP0zW9RQByuu6Bq2pGSGGRGhe38uN/7RntxCduDmOMYlBPPzMPTHrdu9HvLi6hvEa3WexUC0UnKvwN+87cjPQYzjryeBu0UAY/8AZEzXIkcxEf2gLvGScL5W3HTrmluNJlmtNaiBi3ahny85wP3Sp83HqD68Vr0UAYd5Y6ul3cNpf2MpdwLG8k7sGgZQRuChSHHPQlenXniXTdJls5FeUxMwsIbXK5zuTdnt0+YVr0UAZFvpMsNposRMW7T8eZjOD+6ZPl49SPTirc1k0mtWt58myCGWM5+9limMf98mrlFAGFJpeoW6xz2ItpriK7mmEU0jIjpIW43hSVIyD909Me9Ja6NfkrJqD2zy/wBo/bGEedqr5e0KMjkg454zjPHSt6igDIuNJlmtNaiBi3ahny85wP3Sp83HqD68UyS31mzvribTYbC5juNmVnneIoVXGchG3fTjp1542qKAOUvPCtysdpJaObiaGIxSoNQnsVbLFtwaHPcn5SDwRyMc6GmaHJYtp7Hy/wDR0n8webJId0jBuGclm6HJJGfQdBt0UAZ+q2dzOba5sDEbm0kMiRzkhJMqVKlgCV4P3gDj0NUG0jUL2G/nvvs0N3dxJCsMMjPHGqMSMuVBYncf4Rjp7nfooAyvE6s/hm+WNlV2iwrMu4A56kd/pUAsdV1K+t31iOztobXcyfZJ3kaVmUpk7kXYAGJx83JHPHO1JGk0ZjlRXRuqsMg/hTqAOdj0rVpLa10u6FktjatGRcxSN5sojYFR5e0BCcDJ3N0OBzxat9HliuLSSQxMILq4mPJJxIWxjjrhufxrYooAxLrS70Q3L2ggkma+W6iSWRkVgAowWCkg/KegPaootN1hfEQugbeC2Zy0zRXUreau04XyGXYpzjLqwJx05xXQUUAUbuxkn1KK4RlCJbyxEEnOXKY/D5TUEOlSw2ujRAxj7BjzAucHETJ8vHqfbitWigDB8Q6HPqN1b3lnueWFGjMP9oT2YZWIOd8XOQV6EEH2qk/h7U4tNtoLba675JJ4Bqt1Cd7EEHzxukfAyMHaDnOBgCurooA5uz0TUtLsrGS0Ntc3lqksTxzzOqSK77s+YQ7AjA6g55ye9alta3TX0N5ffZ/NWBo2EWSFJYHAJ6gAYzxnGcDoNCigClp1nJaaabeQqX3yNlTx8zsw/Q1n/wBnanYG1uNNS0uZktEtZobiVolO3kMrhGI5J4285HIxzu0UAc+mj6ja+Xf25tZ9Q82WSSGRmjiIk25VW2sVxtX5tpzg8DPDNS03XNQ+ztL5DLtPmQQajcWoibPUPGu6XjjB2DjOBnjo6KAMjR9Jn0+DTknkjc2tmYHKljubKHIzzj5T1OasixYaxc3nybZbZIV/vAqzk/h8wq9RQBjw6PIljo0DGPNgAJCpPP7pk+Xj1I9KqR6TqzWdvpE4shp9u0eLqORvNkWMgqPL2hVPABbefXHOB0dFAHOXGma0lleaZYJYNa3PmlbmaVw8fmEsQYwmG5JGd469OOYtW8OXc2pvd2WZhOirIh1a5sxGVGMgRZD5HYgHjrzx1FFAGdpumHT3RVKeVHaRQKFLdVLZ+8SccjqSa0aKKACiiigAooooAKKKKACoLz/UL/11j/8AQ1qeoLz/AFC/9dY//Q1oAnrAudN1PVtXspdQhs7W10+4M8bQzNNJKdpUA5RQgw2Tgtnp71v0UAcfp/hK8szHp5FmNPjvBcm6WRzcTBG3RxspGAFOBnceFwFGeOwoooAKKKKACiiigAqC+/5B1z/1yb+RqeoL7/kHXP8A1yb+RoAnrLOmzzeKBqNy6G3t4PKtY1JJDMfnc8cHAUDGeM+talFAGDrum6nritpzRWcGntIjm585nmwrBuI9gAORjO8464PSt6iigAooooAKKKKACiiigAqCx/5B1t/1yX+QqeoLH/kHW3/XJf5CgDA13TNb1DXbeSO2sLvS7UCSO2nvHhLzA5DuBEwIXsPXn0xHe+H9SGuXOp6dHYNNewLG5uZX/wBEfbtLx4UhsrgEfITtHPp1VFAHJN4VutM1KG70RLO4KWSWo+2yuvkMgKiVcBgSVJBHyn/a5NdFpOnrpWkWthG5kW3iWPeerYHX8at0UAFFFFABRRRQAUUUUAFFFFAEF9/yDrn/AK5N/I1PUF9/yDrn/rk38jU9ABRRRQAVUaRo9Rl2wvLmJPuFeOX9SKt1An/IRm/65R/zegA+0S/8+c35p/8AFUfaJf8Anzm/NP8A4qp6KAIPtEv/AD5zfmn/AMVR9ol/585vzT/4qp6KAIPtEv8Az5zfmn/xVH2iX/nzm/NP/iqnooAg+0S/8+c35p/8VR9ol/585vzT/wCKqeigCD7RL/z5zfmn/wAVR9ol/wCfOb80/wDiqnooAg+0S/8APnN+af8AxVH2iX/nzm/NP/iqnooAg+0S/wDPnN+af/FUfaJf+fOb80/+KqeigCD7RL/z5zfmn/xVH2iX/nzm/NP/AIqp6KAIPtEv/PnN+af/ABVH2iX/AJ85vzT/AOKqeigCD7RL/wA+c35p/wDFUfaJf+fOb80/+KqeigCD7RL/AM+c35p/8VR9ol/585vzT/4qp6KAIPtEv/PnN+af/FUfaJf+fOb80/8AiqnooAg+0S/8+c35p/8AFUfaJf8Anzm/NP8A4qp6KAIPtEv/AD5zfmn/AMVR9ol/585vzT/4qp6KAIPtEv8Az5zfmn/xVH2iX/nzm/NP/iqnooAg+0S/8+c35p/8VR9ol/585vzT/wCKqeigCD7RL/z5zfmn/wAVR9ol/wCfOb80/wDiqnooAg+0S/8APnN+af8AxVH2iX/nzm/NP/iqnooAg+0S/wDPnN+af/FUfaJf+fOb80/+KqeigCD7RL/z5zfmn/xVH2iX/nzm/NP/AIqp6KAIPtEv/PnN+af/ABVH2iX/AJ85vzT/AOKqeigCD7RL/wA+c35p/wDFUfaJf+fOb80/+KqeigCD7RL/AM+c35p/8VR9ol/585vzT/4qp6KAIPtEv/PnN+af/FUfaJf+fOb80/8AiqnooAg+0S/8+c35p/8AFVBdTyGFc2sw/ex8kp/fH+1V6oLz/UL/ANdY/wD0NaAD7RL/AM+c35p/8VR9ol/585vzT/4qp6KAIPtEv/PnN+af/FUfaJf+fOb80/8AiqnooAg+0S/8+c35p/8AFUfaJf8Anzm/NP8A4qp6KAIPtEv/AD5zfmn/AMVR9ol/585vzT/4qp6KAIPtEv8Az5zfmn/xVQXk8hsZwbWZQYm5JTjj/eq9UF9/yDrn/rk38jQAfaJf+fOb80/+Ko+0S/8APnN+af8AxVT0UAQfaJf+fOb80/8AiqPtEv8Az5zfmn/xVT0UAQfaJf8Anzm/NP8A4qj7RL/z5zfmn/xVT0UAQfaJf+fOb80/+Ko+0S/8+c35p/8AFVPRQBB9ol/585vzT/4qj7RL/wA+c35p/wDFVPRQBB9ol/585vzT/wCKqCznkFjABazMBEvIKc8f71Xqgsf+Qdbf9cl/kKAD7RL/AM+c35p/8VR9ol/585vzT/4qp6KAIPtEv/PnN+af/FUfaJf+fOb80/8AiqnooAg+0S/8+c35p/8AFUfaJf8Anzm/NP8A4qp6KAIPtEv/AD5zfmn/AMVR9ol/585vzT/4qp6KAIPtEv8Az5zfmn/xVH2iX/nzm/NP/iqnooAg+0S/8+c35p/8VR9ol/585vzT/wCKqeigCjeTyGxnBtZlBibklOOP96r1QX3/ACDrn/rk38jU9ABRRRQAVAn/ACEZv+uUf83qeoE/5CM3/XKP+b0AF1dpZpG0oYiSVIhtHdiAPw5qesjxJcwWmnQXF3NHBDHeQM8krBVUeYOSTwKoanrul6jHbmDWojpYkK3lzZXYAjO3KK8iHMak5+bI5AGeeQDpqK5BLx/7Lv8A+yr+4n0lZIgl6JTMyIT++KSHJcKOd2WxluflwI7vUdHtdFk/svWJbq1mmVDNLq8ggjbBJBuzuZM4xhWJztGBuOQDrprlIJIEcMTNJ5a47HaW5/BTUtcj4fu5buxtPNkEixamyRMty9wNnlMRiV1VnHPDEcjHJ61q65byXmoaZai7uLeGSSTzhbymNpFCE7dykEc4OQQeKANmiuPWxlt7O4vl1LUHls73yoBJduyCMSAbGXOJMgn5ny3PXgU2/vLQXN6dT1i6tNWjkcWdrHcvGSo/1flwg4mz15VskkdsAA7Kora4S6txLGGCkkYbrwSP6Vy95dWx1ADxVqcmlkQxm3iS+a1R2I+cgqy+Ywbjac4GOPm5zru9uYdF0oSzqmnuspluLzUJNO3Sb/lDyRoSpIydvy5P0xQB3MtwkVxDEwYtMSFI6DAzz+VS1zWiTXE9tpT3MqTfvphE8czSgx7W2/vGRS/H8WORg5OcmLxffwxXFtay3CwMyl187VpNPSQ5xhXjUs7D+705ycnFAHVUVymmm41htFa8u7pQ2nGaWOKZovMcNHgsV2n144zkgjHFZWn6jqEmuQLLc2qak1wBcW51iZ5Am75h9k8rao29GGOx3HJJAPQKK4Qaz5ni6E2lyu9rzyZYW1WR5VTJUhrQJsReBhsg/dOcnB3/ABHPHE9ouoXctlpjlvtNxHKYsMANitICCinnkEZIAzzggG5RXJ2120VpcXmn3091pVjMkkUzzGUSx7cSqHOTIq53BiTyCM8YqvrF5epptrdSyrFZ3szyzNPqElmkS4HlKZUVigIGeNuW4zzggHaVFFcJLcTRKGDQkBiehyM8fnXI2L3d/plhC9+wt5tQZEks72SXfCImO3z2VWcZB+YZP+1kZq5qtxFptlqSvK8cZkhi817toQo2Dl5uWQHGC/3ueOTQB09FcDa6rL/YFwWv5IraLUYUWe1vJLzbEwUttldAzryTkggc84HGzoNxZvrLxaBqUmpad5Bad2vGukilyNoWRmY5Izlc8YBwM8gGzJqG3VY7GO2mmZk8ySRNuyFTkAtlgeSCBtB6c4q5XM3cEFh4i1bUy96XjsEciO5kYDmQHCFtnGMjIwOT3NZOjandsdTTSriO5AsjLEbbVJNSHmA4yGkUYbB+4CR04GeQDupJEhjMkrqiL1ZjgD8adXD3kWh3mg3w0/W729EcPmXG3U5XCEEcuQ37s9fkyo6/L8vFq8udIE8SanrUtrpP2ZGspxqUkSTk53EzhwXbGOCx45weoAOuorlbRLvU5tMhvbu9SEx3L/LI0DzosiCNn24IO0g8Yz34JFdVQAUUUUAFFFFABRRRQAUUUUAFFFFABRRRQAUUUUAFFFFABRRRQAUUUUAFQXn+oX/rrH/6GtT1Bef6hf8ArrH/AOhrQBPVG21rT7vVJ9OtblZbq3UPKigkKMkfexjOQQRnI71erjLHWNGX4m3FvbajYDOnxwJHHOnMglfKAA/eHp1oA7OiiigAooooAKKKKACoL7/kHXP/AFyb+RqeoL7/AJB1z/1yb+RoAnqida08aymk/aVN86FxCoJwAATkgYBwQcE55q9XGarrGjWnxF0iNtRsIHiiuRMhnRSjv5eAwzwT78mgDs6zJ/ENhBqT2DC7kuEKhxBYzSqm7kZdEKjj1NTTavYwaxb6VLPtvbmNpIotjHcq9TnGB+JrmvEFzFpep3lxo2ut/bM3lkaOhhk89gAACm3zACvUhgAOegoA7KikGSoyMHHIpaACiiigAooooAKgsf8AkHW3/XJf5Cp6gsf+Qdbf9cl/kKAKuoa7Y6XOsd8bmMEAmUWkrRLk4+aQKUX8SMVo1ynjS7sZLOaybWkju/JJXSleNjeE8qjJjzCCRjCFc5NdRAXa3jMqBHKgso6KccigB9FFFABRRRQAUUUUAFFFFABRRRQBBff8g65/65N/I1PUF9/yDrn/AK5N/I1PQAUUUUAFQJ/yEZv+uUf83qeoE/5CM3/XKP8Am9AE9FFFABRRRQAUUUUAFFFFABRRRQAUUUUAFFFFABRRRQAUUUUAFFFFAFa9tPtiwjfs8qZJemc7TnFWaKKACiiigAooooAKKKKACiiigAooooAKKKKACiiigAooooAKKKKACiiigAooooAKKKKACiiigAqC8/1C/wDXWP8A9DWp6gvP9Qv/AF1j/wDQ1oAnooooAKKKKACiiigAooooAKgvv+Qdc/8AXJv5Gp6gvv8AkHXP/XJv5GgCeiiigAooooAKKKKACiiigAooooAKgsf+Qdbf9cl/kKnqCx/5B1t/1yX+QoAnooooAKKKKACiiigAooooAKKKKACiiigCC+/5B1z/ANcm/kanqC+/5B1z/wBcm/kanoAKKKKACqjQRTajL50SSYiTG9QccvVuoE/5CM3/AFyj/m9AB9htP+fWH/v2KPsNp/z6w/8AfsVPRQBB9htP+fWH/v2KPsNp/wA+sP8A37FT0UAQfYbT/n1h/wC/Yo+w2n/PrD/37FT0UAQfYbT/AJ9Yf+/Yo+w2n/PrD/37FT0UAQfYbT/n1h/79ij7Daf8+sP/AH7FT0UAQfYbT/n1h/79ij7Daf8APrD/AN+xU9FAEH2G0/59Yf8Av2KPsNp/z6w/9+xU9FAEH2G0/wCfWH/v2KPsNp/z6w/9+xU9FAEH2G0/59Yf+/Yo+w2n/PrD/wB+xU9FAEH2G0/59Yf+/Yo+w2n/AD6w/wDfsVPRQBB9htP+fWH/AL9ij7Daf8+sP/fsVPRQBB9htP8An1h/79ij7Daf8+sP/fsVPRQBB9htP+fWH/v2KPsNp/z6w/8AfsVPRQBB9htP+fWH/v2KPsNp/wA+sP8A37FT0UAQfYbT/n1h/wC/Yo+w2n/PrD/37FT0UAQfYbT/AJ9Yf+/Yo+w2n/PrD/37FT0UAQfYbT/n1h/79ij7Daf8+sP/AH7FT0UAQfYbT/n1h/79ij7Daf8APrD/AN+xU9FAEH2G0/59Yf8Av2KPsNp/z6w/9+xU9FAEH2G0/wCfWH/v2KPsNp/z6w/9+xU9FAEH2G0/59Yf+/Yo+w2n/PrD/wB+xU9FAEH2G0/59Yf+/Yo+w2n/AD6w/wDfsVPRQBB9htP+fWH/AL9ij7Daf8+sP/fsVPRQBB9htP8An1h/79ij7Daf8+sP/fsVPRQBB9htP+fWH/v2KgurO1WFSttCD5sY4jH98VeqC8/1C/8AXWP/ANDWgA+w2n/PrD/37FH2G0/59Yf+/YqeigCD7Daf8+sP/fsUfYbT/n1h/wC/YqeigCD7Daf8+sP/AH7FH2G0/wCfWH/v2KnooAg+w2n/AD6w/wDfsUfYbT/n1h/79ip6KAIPsNp/z6w/9+xUF5Z2q2M7LbQhhExBEY44q9UF9/yDrn/rk38jQAfYbT/n1h/79ij7Daf8+sP/AH7FT0UAQfYbT/n1h/79ij7Daf8APrD/AN+xU9FAEH2G0/59Yf8Av2KPsNp/z6w/9+xU9FAEH2G0/wCfWH/v2KPsNp/z6w/9+xU9FAEH2G0/59Yf+/Yo+w2n/PrD/wB+xU9FAEH2G0/59Yf+/YqCzs7VrGBmtoSxiUkmMc8VeqCx/wCQdbf9cl/kKAD7Daf8+sP/AH7FH2G0/wCfWH/v2KnooAg+w2n/AD6w/wDfsUfYbT/n1h/79ip6KAIPsNp/z6w/9+xR9htP+fWH/v2KnooAg+w2n/PrD/37FH2G0/59Yf8Av2KnooAg+w2n/PrD/wB+xR9htP8An1h/79ip6KAIPsNp/wA+sP8A37FH2G0/59Yf+/YqeigCjeWdqtjOy20IYRMQRGOOKvVBff8AIOuf+uTfyNT0AFFFFABUCf8AIRm/65R/zep6gT/kIzf9co/5vQBneJ7ZLzS4beUsqyXcALI2GX94OQexFVDdzyfYbPUCpvrW9jWUgYEqlW2yAejY/Ahh2rcurRLxI1lLARypKNp7qQR+HFQXukW99f2d5KZEms3LIUbG4Efdb1HQ/UUARnV8aZJeeR9y5MGzf1xL5ec4/HFULrxHfwSXskWj+dZ2U/kySfaQskhO3mNNuG+8AdzL361PP4YhuJm3316LZpxcC0V1EYkDh92du7qM7S23k8dMXX0qB7a4hLSbbibznIIyDkHjjp8ooAyb3U72TStVtdTsI7e4iszMi285mWRCCOpVcNkdMY5HNW4tWv4ryJNW06O0guCRDLHc+aysAW2yLtAU4B+6WGQRnpm3eaVBfNcGZpB9otzbuFOPlJJ44681BbaGIrxJ7rULy+EOfIiuTHthyMcbUBY4OMsWPX1NAGRp/juyv9St4Um01obqTy4RDqSSXAJ6b4QPlBx2ZiMjI642dJ1K61PzZZLJbe2V3jjYzbncq5UnbtwF4yDnPsKba6H9kukZNSvmtYjmKyLoIo/bIUOQOcBmI9uBi7Z2iWVsIIixUMzZY85Zix/U0AZk+tX++4msdLS4sbVmWWRrnZK5X73lptIbGCPmZckHtgmpZGTUfGb3ctjZS28VpE9rcmUtLGr7+VUx/Lu6HDdAOva9c+Ho55pjFqF7bW1wS1xaQugjlJ+8clS6577GX16kmr8NjDb3bzxZUvEkWwY2qqbsYH/Aj+lAGdf65Naa9Bp0VvbP5qhh5t4IpZeTkRIV+cqBk/MuMiop9Xks962VjJdTzX5tlR7k43bN27JB2rxyAOOSATwbOp6CmqzZmv7yOBtnm2qMhjk2nI+8pK/VCtTjSoBOsu+TctybkDIxuKFcdOmDQBlHxFqka3Mk+jRLHYOFvHW8LY4DZiGz5wFYE7tncDNajangaiRFn7CM/e+/+7D+nHXHenS6VBLb38LNIFviTKQRkZQJxx6KOuaqaj4ci1GS4zfXlvDdR+XcwQOoWYY25JKllOOPlK5wM5oAI7spdX14IwcWUMuwuFH/AC0OCx4A9zWOfF13f6XdnSRpc93bPEWa11Lzodjtj74jzu4IKlRwc5Nb9xolvc20sLSTJ5kcce9SMr5ZJVhkYzk55BHHSq6+HFMV19p1K+uZrqNI2nlMYZdhJUqFQKCCf7uDjnNAFDVPGSaZeCzmbSYbqONXuI7vVVgAJGdseUy/1IUcjnri6NeuL8Qf8I/ZRXfmW6XDvc3JhREfO0ZVHJY4PAGOOvTMs2hvI6yQ6vf20xQJPLD5WbjHQsDGVB68qFP5DD7rRBLJHLZ6heWE6RiJpoGR2kQdA3mq4OCSc4zyeeTQAaDK8umySSwvC5uZy0TEEqfMbjjis+08WBtNvb+/htYre1XLG3vVlMbcfu5QQvlvyOOQOckVsWGnRadY/ZYXldCzsWkkLMSzFj83XqTVCDwzAs0sl5e3l+ZIPs6m4dQY485wGRVYnIB3MSwxnOc5AKFh41gu/tSFtNnmhtnuUTTtRW5DKnUMdqlTyOxHXnip017WpJoIV0KFZbuIzW4e+wFUYz5pEZ2N8wwFDjPcdavRaIwhuI7zVb++E0TQ5naNdikYOAiKCfdgT+tW/sMYu4Ljc2+CJolGRghtuc+/yigDNj1VruOxl+yOtyzTJ5IuGVVkQMCpxw4yCASPfFWItZFx9nNtAZBLam5cFwDGOMKc8ZJyOSB8p9Klh0qCGSF1eQmGWWVckcmQknPHT5jioR4es/I1GItKV1AnzMsPkBycLxwMsx5zyx7cUAZVp41juLXUHCWNzLZ2/wBoCadqC3KsOm0ttXa2e2Me/WtH7fJFdwPqlv8AZnFvPKRFdM6qilPvLgAtg+hxg4JzmkXw4rCc3upX17JPAYGkmMY2pnPARFUHPfGfXOBjRmsYbi7SeXLFIni2HG1lfbnI/wCAj9aAMyLWr9ZLeXUNMS2srp1SKRbnfKhb7vmJtAXPT5WbBI7ZIjbX9Q+zvfRaSkmmgkJJ9qxMwzjf5e3AXv8AezjnGeKsW3h6OCaEy6he3NtbkNb2kzoY4iPunIUO2O29m9eoBrCvLVZJpdNsn11PMm4sWtitsnzZL+ds+71baJMfw7f4aAN9NVu5dUvIIrBTb2ZxJM04VnJQMAq4weuDkqBxyecZtj4yju7fUGxYTy2dsbnbp+oC5VlGflZgoKtkdMEc8E81sz6Rb3FvfwyNJsvzmXBHHyBeOPRR1zVWPw6pFwbzUr69kuLdrZpJjGNqH0CIqg++PrnAwAVhrmtNcxWw0OBZrmIzQ777CqgxkSkRkq3zLgKHGc8jGaS48UTR29g8dpbRyXTOjJeXogAkVtpjRtp3uTnA4yBnNbRs4zfRXWW3xRNEozwQxUnPv8orOu/DiXNqbeLUb61jfzRKsTRsJFkYsylXRh1J5ABx3oA2EYsisVKEjJU4yPbilpkEKW9vHBECEjQIoJzgAYHNPoAKKKKACiiigAooooAKKKKACiiigAooooAKKKKACoLz/UL/ANdY/wD0NanqC8/1C/8AXWP/ANDWgCeuUm36d4wszGupWtvNK6SS3V480NyShKpGnmNsORnJVPukDOcV1dZUehk6hHd32pXt95LmSCGfylSJiCMgIik4BIG4nr680Acda6vdzR6brNnPeTzTXqLes1wwtVSR9ghSMnaWXK8qBgqctk4Po1Ylv4Wtbe8SRbu8a1inNxFYs6+THIedw+XceSSAWKgngcDG3QAUUUUAFFFFABUF9/yDrn/rk38jU9QX3/IOuf8Ark38jQBPXM3Ru4PiDpavfzvDcQXJNuDtjUKE2/KOp5PJz14wOK6asS88Ntea7Dqn9tahDLbhlhjjWDYitjcOYiSDtHUk+hFAHK6rq11LHq+pWVxePf6fcvtSO4dLa2iiP3ZFzsZnAPBBb5h0ABDtX1W6uv7burO4u/7Q09z5EcNw8cFqkaBi0oB2tuOeCGJGMAAEjqLjwta3F9NL9rvI7e5kWa4skdfJmcY5OV3DoMhWAOOQecl54Xtby8uJTd3cMN2VN3axOojuCBj5sqWGQADtK5A5oA17aUz2sUrLtMiKxHpkZqSgDAwKKACiiigAooooAKgsf+Qdbf8AXJf5Cp6gsf8AkHW3/XJf5CgDn/GKC2tDdw317HqUhSHT4ILllVpc5A8tSA4PVtwOFB6Vm6xd3GoavqlpHcXgvbOJFtYbO5eJYmKbzNKQQCuSBhs52kBScit2/wDDRvddXVo9Y1C0uEi8mNYhAyRqeTtEkbYJ7nvj0p194ZivbhpxqF9bvNCsF15Dov2lB/eypweTym089emADl11e48Qskc0t4Lr+zoJILawuHh/eSKWaV2UgBBgfeyOoAJIFdd4Zvp9S8L6deXhU3E1urSFOjNjkj2PWorzwzb3E6y2l3d6c3kC2f7IyjzIh0U7lbGMnBGGGTzWrbW8VnaxW1sgjhhQIiD+FQMAUASUUUUAFFFFABRRRQAUUUUAQX3/ACDrn/rk38jU9QX3/IOuf+uTfyNT0AFFFFABUCf8hGb/AK5R/wA3qeqjCU6jL5Lon7pM70LZ5f3FAFuioNl3/wA94f8Avyf/AIqjZd/894f+/J/+KoAnoqDZd/8APeH/AL8n/wCKo2Xf/PeH/vyf/iqAJ6Kg2Xf/AD3h/wC/J/8AiqNl3/z3h/78n/4qgCeioNl3/wA94f8Avyf/AIqjZd/894f+/J/+KoAnoqDZd/8APeH/AL8n/wCKo2Xf/PeH/vyf/iqAJ6Kg2Xf/AD3h/wC/J/8AiqNl3/z3h/78n/4qgCeioNl3/wA94f8Avyf/AIqjZd/894f+/J/+KoAnoqDZd/8APeH/AL8n/wCKo2Xf/PeH/vyf/iqAJ6Kg2Xf/AD3h/wC/J/8AiqNl3/z3h/78n/4qgCeioNl3/wA94f8Avyf/AIqjZd/894f+/J/+KoAnoqDZd/8APeH/AL8n/wCKo2Xf/PeH/vyf/iqAJ6Kg2Xf/AD3h/wC/J/8AiqNl3/z3h/78n/4qgCeioNl3/wA94f8Avyf/AIqjZd/894f+/J/+KoAnoqDZd/8APeH/AL8n/wCKo2Xf/PeH/vyf/iqAJ6Kg2Xf/AD3h/wC/J/8AiqNl3/z3h/78n/4qgCeioNl3/wA94f8Avyf/AIqjZd/894f+/J/+KoAnoqDZd/8APeH/AL8n/wCKo2Xf/PeH/vyf/iqAJ6Kg2Xf/AD3h/wC/J/8AiqNl3/z3h/78n/4qgCeioNl3/wA94f8Avyf/AIqjZd/894f+/J/+KoAnoqDZd/8APeH/AL8n/wCKo2Xf/PeH/vyf/iqAJ6Kg2Xf/AD3h/wC/J/8AiqNl3/z3h/78n/4qgCeioNl3/wA94f8Avyf/AIqjZd/894f+/J/+KoAnoqDZd/8APeH/AL8n/wCKo2Xf/PeH/vyf/iqAJ6Kg2Xf/AD3h/wC/J/8AiqNl3/z3h/78n/4qgCeoLz/UL/11j/8AQ1o2Xf8Az3h/78n/AOKqC6W68ld00JHmx9IiP4x/tUAXqKg2Xf8Az3h/78n/AOKo2Xf/AD3h/wC/J/8AiqAJ6Kg2Xf8Az3h/78n/AOKo2Xf/AD3h/wC/J/8AiqAJ6Kg2Xf8Az3h/78n/AOKo2Xf/AD3h/wC/J/8AiqAJ6Kg2Xf8Az3h/78n/AOKo2Xf/AD3h/wC/J/8AiqAJ6gvv+Qdc/wDXJv5GjZd/894f+/J/+KqC8W6+wz7poSvlNkCIjPH+9QBeoqDZd/8APeH/AL8n/wCKo2Xf/PeH/vyf/iqAJ6Kg2Xf/AD3h/wC/J/8AiqNl3/z3h/78n/4qgCeioNl3/wA94f8Avyf/AIqjZd/894f+/J/+KoAnoqDZd/8APeH/AL8n/wCKo2Xf/PeH/vyf/iqAJ6Kg2Xf/AD3h/wC/J/8AiqNl3/z3h/78n/4qgCeoLH/kHW3/AFyX+Qo2Xf8Az3h/78n/AOKqCzW6+wwbZoQvlLgGInHH+9QBeoqDZd/894f+/J/+Ko2Xf/PeH/vyf/iqAJ6Kg2Xf/PeH/vyf/iqNl3/z3h/78n/4qgCeioNl3/z3h/78n/4qjZd/894f+/J/+KoAnoqDZd/894f+/J/+Ko2Xf/PeH/vyf/iqAJ6Kg2Xf/PeH/vyf/iqNl3/z3h/78n/4qgCeioNl3/z3h/78n/4qjZd/894f+/J/+KoAL7/kHXP/AFyb+RqeqN4t19hn3TQlfKbIERGeP96r1ABRRRQAVAn/ACEZv+uUf83qeoE/5CM3/XKP+b0AT0Vma/f3enaWJ9PjjlnM0aBJAcMCwBHB64zj3qHW9bez8OG/0xUmmmTNssg+Vjt3ZOCOAoJPPagDZoqpFe/M5uGt440iRy3nfMC2fvKR8o44OTnnpio49Zsbu0updLvrK7NsDv23K7EYDo7Lnb09PwoAv0VSudY06w2LqOoWdq7kALLcKuSegGcZzg4p0Gq6fdXU9tbX9tNPb/66KOZWaL/eAOR+NAFuioxcQlYiJYyJv9UQw+fjPHrwM8VUOu6Qtw8B1SyE0cZkeM3CblQdWIzkAetAF+ioLO+tNRtVudPuobqBiQssEgdTjryOKiOsaYt+li2o2gu5CQluZ18xsZzhc5OMH8jQBcoqpc6tp1leQ2l5f2tvcz/6qGWZVeTnHyqTk8+lPW6AkufOaBIoMZcS5KjbklxgbfzPHNAFiis5dbsLvTp7nSr+0vPLjdlMMyyKSoyR8p9xn6ipbHVrG/d4bW9tp7iEDz4opVZoiezAHI/GgC5RWXp2vWN59mtpb60GoywrI1osy+YMjP3M5xirEur6bBqMenzahax3sgBS2edRI30XOT0NAFyiq0uo2UFylvPeW8c8hwkTyqGY4zwCcngE0ljqdhqkLS6Ze295GrbWe3lWQA+hIJ5oAtUUUUAFFFFABRRRQAUUUUAFFFFABRRRQAUUUUAFFFFABRRRQAUUUUAFFFFABRRRQAUUUUAFFFFABRRRQAVBef6hf+usf/oa1PUF5/qF/wCusf8A6GtAE9FFczaeLZbq9tQLGH7Hd3T2sbJdbp0dQ2d8WwBQNvPzEgEcUAdNRRRQAUUUUAFFFFABUF9/yDrn/rk38jU9QX3/ACDrn/rk38jQBPRRWM+vuvim20j7BIsc6SsLl225Kbc7Vxkj5upx04yOaANmiua1Hxc1gbm6+xRtpVncLb3F01ztcOSASibcMFLAH5geDgHHPSg5AI6GgAooooAKKKKACiiigAqCx/5B1t/1yX+QqeoLH/kHW3/XJf5CgCeisbVNffTtWsLNbCSWO7uFga4ZtioSrMMcEsfl56Dnrnii71bU/wC3ZNO0vT7S48qBJnkubxofvMwAAWN8/d9qANmigZwM8Hvg0UAFFFFABRRRQAUUUUAFFFFAEF9/yDrn/rk38jU9QX3/ACDrn/rk38jU9ABRRRQAVAn/ACEZv+uUf83qeoE/5CM3/XKP+b0AQarby3MNusK7il1FI3IGFVwSfyFZD6Net/aULIrW0cMq6eoYZJlBJB9Np+UexrpaKAOdv9HuLu01SBrcSJdWkMIUsPnxu3Dr71Nq2lzTST/Y7ddraZLbLtIXLEjYv06+wrcooAxTpO7UtSuXtkZriyjt0c4JYDflfpkimQ6M0EOjRwW6Qi0tmgfbgeWDGBjjqNwHT0rdooA5qyj1aSbRrebS2todPO2eaSaNg+ImQGMKxJUk/wAQU8jjrh0Ph9V0qwt3sYsxagbqVTtODvdt/ueRXR0UAULG0e31TUpTHsjuJEdSCPmIQKTj8B+VZ39iuuk6hHHaoJ7m/Nx1XL/vQVbPrtA/KugooA43V9F1V9R1FIG1Ka31Ej/j2azESjYF2yGVC4Ax1XdweBnitC60e7ktb9FiWfM0EqRyuMXAjVMqT7lSORjPtXRVDdWsN7avb3Kb43HIBII7ggjkEHkEcg0Ac67XGo607PpEljLJp08Y894zLJymM7GZQvPGWzkngdTpx6b5F5pRt7dUitYHiO3A2AhcD6ZX9Kn0/RrPTHkktVmaWQAPLcXEk7kDou6RmOOTxnHJ9avUAclb2F7/AGPa6L/YRtTG6SG7EkXkowYMXGG37+v8ONxPJHJkuLG/Wwv9HXSDcfbZJHF95kYi+diQ0gLb9y8dFP3VwR26migDGGlMt5qk7W0dw9xaxwK0jBfOCq2VJGSBlvTvUXhyPUUmuDqFrNDGERInvBB57Y3ZUmE7SgyNucHls1vUUAFFFFABRRRQAUUUUAFFFFABRRRQAUUUUAFFFFABRRRQAUUUUAFFFFABRRRQAUUUUAFFFFABRRRQAUUUUAFQXn+oX/rrH/6GtT1Bef6hf+usf/oa0AT1w2n6Hqser2c0mnzRahHdu97qxuE2XUOT8gUMWII24VlAXHHv3NFABRRRQAUUUUAFFFFABUF9/wAg65/65N/I1PUF9/yDrn/rk38jQBPXL6p/aTeNdOvINDvZ7WzjmieZJYAG8zZgqGkBwMHOQD6A11FFAHCXvhq/e41OyNhJdpfTO1tevMnlWkcv+s+QncH5bkK2QQNwGcd0qhECjoBgUtFABRRRQAUUUUAFFFFABUFj/wAg62/65L/IVPUFj/yDrb/rkv8AIUAc/wCKV1GfUtJ+waNd3kdneLcySxSQKpXa67QHkU55HbHvSeJtMTV4yi+FxdX0tvthv5vIH2VjnGX3+YCp5+QH2rqKKAIbSKSCyginlM0scaq8h/jIGCfxqaiigAooooAKKKKACiiigAooooAgvv8AkHXP/XJv5Gp6gvv+Qdc/9cm/kanoAKKKKACqjTLFqMu8OcxJ9yNm7v6CrdQJ/wAhGb/rlH/N6AD7ZF/dm/78P/hR9si/uzf9+H/wqeigCD7ZF/dm/wC/D/4UfbIv7s3/AH4f/Cp6KAIPtkX92b/vw/8AhR9si/uzf9+H/wAKnooAg+2Rf3Zv+/D/AOFH2yL+7N/34f8AwqeigCD7ZF/dm/78P/hR9si/uzf9+H/wqeigCD7ZF/dm/wC/D/4UfbIv7s3/AH4f/Cp6KAIPtkX92b/vw/8AhR9si/uzf9+H/wAKnooAg+2Rf3Zv+/D/AOFH2yL+7N/34f8AwqeigCD7ZF/dm/78P/hR9si/uzf9+H/wqeigCD7ZF/dm/wC/D/4UfbIv7s3/AH4f/Cp6KAIPtkX92b/vw/8AhR9si/uzf9+H/wAKnooAg+2Rf3Zv+/D/AOFH2yL+7N/34f8AwqeigCD7ZF/dm/78P/hR9si/uzf9+H/wqeigCD7ZF/dm/wC/D/4UfbIv7s3/AH4f/Cp6KAIPtkX92b/vw/8AhR9si/uzf9+H/wAKnooAg+2Rf3Zv+/D/AOFH2yL+7N/34f8AwqeigCD7ZF/dm/78P/hR9si/uzf9+H/wqeigCD7ZF/dm/wC/D/4UfbIv7s3/AH4f/Cp6KAIPtkX92b/vw/8AhR9si/uzf9+H/wAKnooAg+2Rf3Zv+/D/AOFH2yL+7N/34f8AwqeigCD7ZF/dm/78P/hR9si/uzf9+H/wqeigCD7ZF/dm/wC/D/4UfbIv7s3/AH4f/Cp6KAIPtkX92b/vw/8AhR9si/uzf9+H/wAKnooAg+2Rf3Zv+/D/AOFH2yL+7N/34f8AwqeigCD7ZF/dm/78P/hUF1dxtCoCzf62M8wuP4x7VeqC8/1C/wDXWP8A9DWgA+2Rf3Zv+/D/AOFH2yL+7N/34f8AwqeigCD7ZF/dm/78P/hR9si/uzf9+H/wqeigCD7ZF/dm/wC/D/4UfbIv7s3/AH4f/Cp6KAIPtkX92b/vw/8AhR9si/uzf9+H/wAKnooAg+2Rf3Zv+/D/AOFQXl3G1jOoWbJiYcwuO3rir1QX3/IOuf8Ark38jQAfbIv7s3/fh/8ACj7ZF/dm/wC/D/4VPRQBB9si/uzf9+H/AMKPtkX92b/vw/8AhU9FAEH2yL+7N/34f/Cj7ZF/dm/78P8A4VPRQBB9si/uzf8Afh/8KPtkX92b/vw/+FT0UAQfbIv7s3/fh/8ACj7ZF/dm/wC/D/4VPRQBB9si/uzf9+H/AMKgs7uNbGBSs2REo4hc9vXFXqgsf+Qdbf8AXJf5CgA+2Rf3Zv8Avw/+FH2yL+7N/wB+H/wqeigCD7ZF/dm/78P/AIUfbIv7s3/fh/8ACp6KAIPtkX92b/vw/wDhR9si/uzf9+H/AMKnooAg+2Rf3Zv+/D/4UfbIv7s3/fh/8KnooAg+2Rf3Zv8Avw/+FH2yL+7N/wB+H/wqeigCD7ZF/dm/78P/AIUfbIv7s3/fh/8ACp6KAKN5dxtYzqFmyYmHMLjt64q9UF9/yDrn/rk38jU9ABRRRQAVAn/IRm/65R/zep6gT/kIzf8AXKP+b0ANv9RtdLtftN9L5UO9U3bSeWIA6e5HNLf39tplhNe30nlW8K7pHwTgfQcn8KpeIYknsIIpVDJJdwqynuC4BFYd9K1/pdxpU53vpcErXRYfeKqRET/vA7/+A0AdgrB0DKchhkGlrkNf1a9tIHm06a+22FsrzLbpbCJW27h5pmYMQRjiPBAzzkirt/qV3DqUUEd3shvFjLybATZZOBj5cHeeBuzg5PI4ABvRXEMzSLDKkjRNskCMCUbAOD6HBBx71JXOXl5qUrNb2d4Ld21QWwkMasUi8rccAjGepBOeeuRxVWX+2oINUlGuTONLbMStBCDcAIshEpCe+Bs2YHXJoA62ish9V8i41Q3NwkUNrbxzDdgeWCrEk+3H6VnQy6tqs0Kx6tJZxDTYLhmhhjLvI27++pAXjkYz0wRzkA6iiua0u41VW0i8vtRNyupLiW3EKJHETGXBjwN38OPmZs57Vc1b7fPrFlZWV+1jFLFK8zxxoz/KUxt3ggH5u4PGeM4IANmo5biGFo1mlSNpW2Rh2ALtgnA9TgE49q5W71bVUtbSyia7nmkuZ4HubRbdZmEZOMCUiMMQMng9Gwo6izpmqajIlpFd+Yjfb2t3MxhMjoImb5/KZlDZx0x06DOKAOlpkc8csksaNlomCuMdCQD/ACIrlnvr86PLrR1zyT5pj+xtFH5MZ37fL5Xf5nb72N38OOKnvo9QW41q8tNRe1W1IlWJIkYSsIVJD7gTt4A+UqevPTAB0SzRvNJCrZeMAsMdM5x/I0+ucaO51DXrqO31d9O/0aGUrbxxtIxO7kmRWG36LnPftUcGpX2qrp9p/aAsmuElY3dvGu6fy22jyw4ZQCPm5B46etAHT0Vy4vtTm2WEGo/MmoG0a+ESFpEERY8Y27weMgYyOnVac15eWuvqJ9TuWtBLHbqwjgeEuQBsk24kWQkk5GEGV47EA6aiiigAooooAKKKKACiiigAooooAKKKKACiiigAooooAKKKKACiiigAooooAKKKKACiiigAooooAKKKKACoLz/UL/11j/8AQ1qeoLz/AFC/9dY//Q1oAnqlHrOmS6k2nRalaPfJndbLOplXHJyuc1drznTXkB0OeQq+kSarKLO2LATxOS4BZsfMAd5K8EZ5ZulAHo1FFFABRRRQAUUUUAFQX3/IOuf+uTfyNT1Bff8AIOuf+uTfyNAE9QteWyXiWj3ES3Mil0hLgOyjqQvUgetTVy17aQW/xG0eSGMLJPBdPK/UucRgZPsOAO1AG9Lq2nQahHYT39rHeSjMds8yiRx7KTk9DVuvNdUNzdaP4lh3R2zxagzPIxVpppcqYFQfwjHl4J5PIAH3q9JTd5a7/vYGfrQAtFFFABRRRQAUUUUAFQWP/IOtv+uS/wAhU9QWP/IOtv8Arkv8hQAs15bW0sMdxcRRSTtsiSRwpkbGcKD1OOwqtfa9o+lzrDqeq2NnKy7ljuLlI2I9QCRxWL4otIE1vQLpYx58mpxo0h5O0RyYHsO+B3qXX4r/AEm4vfENje2caR2arLBdQMwcRlmGHDjaTux91u1AHSAhgCDkHkEd6KhtJzdWUE7RtEZY1cxt1XIzg/SpqACiiigAooooAKKKKACiiigCC+/5B1z/ANcm/kanqC+/5B1z/wBcm/kanoAKKKKACoE/5CM3/XKP+b1PUCf8hGb/AK5R/wA3oAleNJQBKiuFYMAwzgjkH60020DebuhjPnDbLlB84xjB9ePWpKKAKVzoulXl1Hc3emWc88a7Ullt1ZkX0BIyByamaxtGimja1hMdx/rlMYxJxj5h34AHPYVPRQBELW3UgiCMEP5gwg4bGN31xxn0pTbwMsqtDGVm/wBaCoxJxjn14GOakooAq3Ol6feXEM95Y21xNb/6mSWFWaP/AHSRkfhU0dvDF/qoY0+QR/KoHyjov0GTx71JRQBGLeBViVYYwsP+qAUYj4xx6cHHFOMaGVZCimRQVVyOQDjIz+A/KnUUAVrjTbG7tXtbuzt57eRtzwyxKyMc5yQRgnPNOgsbS2ghgtrWGGKA5hjjjCrH1+6B06np6mp6KAOZutBurzVnlk0vRYzI4D6mmftLR/3duzgkfLnzD64/hro2giZZFaJCJf8AWAqPn4xz68cU+igCle6LpepKq6jptndquCBPArgY4HUVJd6dZahafZb+zt7m34/czRK6cdPlIxVmigCGKztYIYYYLaGOK3/1KJGAsfGPlA6cEjion0nTpNSXUZLC1a+QYW5MKmVR0wGxnuat0UAFFFFABRRRQAUUUUAFFFFABRRRQAUUUUAFFFFABRRRQAUUUUAFFFFABRRRQAUUUUAFFFFABRRRQAUUUUAFQXn+oX/rrH/6GtT1Bef6hf8ArrH/AOhrQBPVKLRtMg1F9Qg020jvZM77lIFEjZ65YDJq7RQAUUUUAFFFFABRRRQAVBff8g65/wCuTfyNT1Bff8g65/65N/I0AT1mT+G9Durxru60XT5rlmDNPJaozkjodxGc8Vp0UAVJNK0+bUY7+awtZL2IYjuWhUyIOeA2Mjqfzq3RRQAUUUUAFFFFABRRRQAVBY/8g62/65L/ACFT1BY/8g62/wCuS/yFAFW+8PaLqdx5+paRYXk20L5lxbJI2PTJGcU99D0mW7hupNMs3uLdQsMzW6F4wOgU4yAO2KvUUAFFFFABRRRQAUUUUAFFFFABRRRQBBff8g65/wCuTfyNT1Bff8g65/65N/I1PQAUUUUAFRSW0csm9t4bABKSMuQPofc1LRQBB9ji/vTf9/3/AMaPscX96b/v+/8AjU9FAEH2OL+9N/3/AH/xo+xxf3pv+/7/AONT0UAQfY4v703/AH/f/Gj7HF/em/7/AL/41PRQBB9ji/vTf9/3/wAaPscX96b/AL/v/jU9FAEH2OL+9N/3/f8Axo+xxf3pv+/7/wCNT0UAQfY4v703/f8Af/Gj7HF/em/7/v8A41PRQBB9ji/vTf8Af9/8aPscX96b/v8Av/jU9FAEH2OL+9N/3/f/ABo+xxf3pv8Av+/+NT0UAQfY4v703/f9/wDGj7HF/em/7/v/AI1PRQBB9ji/vTf9/wB/8aPscX96b/v+/wDjU9FAEH2OL+9N/wB/3/xo+xxf3pv+/wC/+NT0UAQfY4v703/f9/8AGj7HF/em/wC/7/41PRQBB9ji/vTf9/3/AMaPscX96b/v+/8AjU9FAEH2OL+9N/3/AH/xo+xxf3pv+/7/AONT0UAQfY4v703/AH/f/Gj7HF/em/7/AL/41PRQBB9ji/vTf9/3/wAaPscX96b/AL/v/jU9FAEH2OL+9N/3/f8Axo+xxf3pv+/7/wCNT0UAQfY4v703/f8Af/Gj7HF/em/7/v8A41PRQBB9ji/vTf8Af9/8aPscX96b/v8Av/jU9FAEH2OL+9N/3/f/ABo+xxf3pv8Av+/+NT0UAQfY4v703/f9/wDGj7HF/em/7/v/AI1PRQBB9ji/vTf9/wB/8aPscX96b/v+/wDjU9FAEH2OL+9N/wB/3/xo+xxf3pv+/wC/+NT0UAQfY4v703/f9/8AGj7HF/em/wC/7/41PRQBB9ji/vTf9/3/AMaQ2MLDDGYjIPM7/wCNWKKAIPscX96b/v8Av/jR9ji/vTf9/wB/8anooAg+xxf3pv8Av+/+NH2OL+9N/wB/3/xqeigCD7HF/em/7/v/AI0fY4v703/f9/8AGp6KAIPscX96b/v+/wDjR9ji/vTf9/3/AManooAg+xxf3pv+/wC/+NI1jCylWMxUjBBnfn9asUUAQfY4v703/f8Af/Gj7HF/em/7/v8A41PRQBB9ji/vTf8Af9/8aPscX96b/v8Av/jU9FAEH2OL+9N/3/f/ABo+xxf3pv8Av+/+NT0UAQfY4v703/f9/wDGj7HF/em/7/v/AI1PRQBB9ji/vTf9/wB/8aPscX96b/v+/wDjU9FAEH2OL+9N/wB/3/xpFsYVUKpmCgYAE78frViigCD7HF/em/7/AL/40fY4v703/f8Af/Gp6KAIPscX96b/AL/v/jR9ji/vTf8Af9/8anooAg+xxf3pv+/7/wCNH2OL+9N/3/f/ABqeigCD7HF/em/7/v8A40fY4v703/f9/wDGp6KAIPscX96b/v8Av/jR9ji/vTf9/wB/8anooAg+xxf3pv8Av+/+NH2OL+9N/wB/3/xqeigCu1jCylWMxUjBBnfn9asUUUAFFFFAH//Z\">"
   ]
  },
  {
   "cell_type": "markdown",
   "metadata": {},
   "source": [
    "Let's test out interpolation for each option and evaluate results. Reference documentation can be found here: https://esri.github.io/arcgis-python-api/apidoc/html/arcgis.features.analyze_patterns.html#interpolate-points"
   ]
  },
  {
   "cell_type": "code",
   "execution_count": 228,
   "metadata": {
    "scrolled": true
   },
   "outputs": [
    {
     "name": "stdout",
     "output_type": "stream",
     "text": [
      "Speed option time: 0.03926199999999369\n",
      "Medium option time: 0.03707099999999741\n",
      "Accuracy option time: 0.05480200000000224\n"
     ]
    }
   ],
   "source": [
    "start = time.clock()\n",
    "inter_speed = features.analyze_patterns.interpolate_points(airnow_fl, \"PM25_AQI\", bounding_polygon_layer=states, interpolate_option=1, output_prediction_error=True)\n",
    "print(f\"Speed option time: {time.clock() - start}\")\n",
    "\n",
    "start = time.clock()\n",
    "inter_medium = features.analyze_patterns.interpolate_points(airnow_fl, \"PM25_AQI\", bounding_polygon_layer=states, interpolate_option=5, output_prediction_error=True)\n",
    "print(f\"Medium option time: {time.clock() - start}\")\n",
    "      \n",
    "start = time.clock()\n",
    "inter_accuracy = features.analyze_patterns.interpolate_points(airnow_fl, \"PM25_AQI\", bounding_polygon_layer=states, interpolate_option=9, output_prediction_error=True)\n",
    "print(f\"Accuracy option time: {time.clock() - start}\")"
   ]
  },
  {
   "cell_type": "code",
   "execution_count": 229,
   "metadata": {},
   "outputs": [
    {
     "data": {
      "application/vnd.jupyter.widget-view+json": {
       "model_id": "ec8d3f5fa93d4362b324da889c2df9b7",
       "version_major": 2,
       "version_minor": 0
      },
      "text/plain": [
       "HBox(children=(MapView(layout=Layout(height='400px', width='100%'), zoom=3.0), MapView(layout=Layout(height='4…"
      ]
     },
     "metadata": {},
     "output_type": "display_data"
    }
   ],
   "source": [
    "inter_speed_map = gis.map(\"USA\", 3)\n",
    "inter_speed_map.add_layer(inter_speed['result_layer'])\n",
    "inter_medium_map = gis.map(\"USA\", 3)\n",
    "inter_medium_map.add_layer(inter_medium['result_layer'])\n",
    "inter_accuracy_map = gis.map(\"USA\", 3)\n",
    "inter_accuracy_map.add_layer(inter_accuracy['result_layer'])\n",
    "\n",
    "box = HBox([inter_speed_map, inter_medium_map, inter_accuracy_map])\n",
    "box"
   ]
  },
  {
   "cell_type": "markdown",
   "metadata": {},
   "source": [
    "According to the tool documentation:\n",
    "\n",
    "_A layer of standard errors can be created by checking the Output prediction errors box. A 95 percent confidence interval can be calculated for the interpolated layer by taking the interpolation value and adding two standard errors for the upper limit and subtracting two standard errors from the lower limit._\n",
    "\n",
    "Let's load these standard error layers for each interpolation approach."
   ]
  },
  {
   "cell_type": "code",
   "execution_count": 231,
   "metadata": {},
   "outputs": [
    {
     "data": {
      "application/vnd.jupyter.widget-view+json": {
       "model_id": "97837c2b56cc4309a8a4966386588a40",
       "version_major": 2,
       "version_minor": 0
      },
      "text/plain": [
       "HBox(children=(MapView(layout=Layout(height='400px', width='100%'), zoom=3.0), MapView(layout=Layout(height='4…"
      ]
     },
     "metadata": {},
     "output_type": "display_data"
    }
   ],
   "source": [
    "inter_speed_map = gis.map(\"USA\", 3)\n",
    "inter_speed_map.add_layer(inter_speed['prediction_error'])\n",
    "inter_medium_map = gis.map(\"USA\", 3)\n",
    "inter_medium_map.add_layer(inter_medium['prediction_error'])\n",
    "inter_accuracy_map = gis.map(\"USA\", 3)\n",
    "inter_accuracy_map.add_layer(inter_accuracy['prediction_error'])\n",
    "\n",
    "box = HBox([inter_speed_map, inter_medium_map, inter_accuracy_map])\n",
    "box"
   ]
  },
  {
   "cell_type": "markdown",
   "metadata": {},
   "source": [
    "## ArcPy Interpolation - EBK Regression Prediction; Forest-based Classification and Regression"
   ]
  },
  {
   "cell_type": "markdown",
   "metadata": {},
   "source": [
    "Placeholder description"
   ]
  },
  {
   "cell_type": "code",
   "execution_count": null,
   "metadata": {},
   "outputs": [],
   "source": []
  }
 ],
 "metadata": {
  "kernelspec": {
   "display_name": "Python 3",
   "language": "python",
   "name": "python3"
  },
  "language_info": {
   "codemirror_mode": {
    "name": "ipython",
    "version": 3
   },
   "file_extension": ".py",
   "mimetype": "text/x-python",
   "name": "python",
   "nbconvert_exporter": "python",
   "pygments_lexer": "ipython3",
   "version": "3.6.8"
  }
 },
 "nbformat": 4,
 "nbformat_minor": 2
}
