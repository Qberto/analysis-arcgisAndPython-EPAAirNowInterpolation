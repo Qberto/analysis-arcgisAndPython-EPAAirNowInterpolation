{
 "cells": [
  {
   "cell_type": "markdown",
   "metadata": {},
   "source": [
    "# AirNow Interpolation Process Test 01\n"
   ]
  },
  {
   "cell_type": "code",
   "execution_count": 5,
   "metadata": {},
   "outputs": [],
   "source": [
    "from arcgis.gis import GIS\n",
    "from arcgis.features import GeoAccessor, GeoSeriesAccessor\n",
    "import pandas as pd\n",
    "import arcpy\n",
    "import numpy\n",
    "import os\n",
    "import requests"
   ]
  },
  {
   "cell_type": "code",
   "execution_count": 4,
   "metadata": {},
   "outputs": [
    {
     "name": "stdout",
     "output_type": "stream",
     "text": [
      "Enter password: ········\n"
     ]
    }
   ],
   "source": [
    "gis = GIS(\"https://datasciencedemo.esri.com/portal/home\", username=\"anieto\")"
   ]
  },
  {
   "cell_type": "markdown",
   "metadata": {},
   "source": [
    "### Retrieve Data"
   ]
  },
  {
   "cell_type": "markdown",
   "metadata": {},
   "source": [
    "Sample AirNow REST Request: https://www.airnowapi.org/airnowsitedata_2019030104?API_KEY=E7481512-D56F-E511-A1314CE18CD4A2B0"
   ]
  },
  {
   "cell_type": "code",
   "execution_count": 6,
   "metadata": {},
   "outputs": [],
   "source": [
    "date_string = \"2019032604\"\n",
    "api_key = \"E7481512-D56F-E511-A1314CE18CD4A2B0\"\n",
    "url = \"https://www.airnowapi.org/airnowsitedata_{0}?API_KEY={1}\".format(date_string, api_key)"
   ]
  },
  {
   "cell_type": "code",
   "execution_count": 7,
   "metadata": {
    "scrolled": true
   },
   "outputs": [
    {
     "data": {
      "text/html": [
       "<div>\n",
       "<style scoped>\n",
       "    .dataframe tbody tr th:only-of-type {\n",
       "        vertical-align: middle;\n",
       "    }\n",
       "\n",
       "    .dataframe tbody tr th {\n",
       "        vertical-align: top;\n",
       "    }\n",
       "\n",
       "    .dataframe thead th {\n",
       "        text-align: right;\n",
       "    }\n",
       "</style>\n",
       "<table border=\"1\" class=\"dataframe\">\n",
       "  <thead>\n",
       "    <tr style=\"text-align: right;\">\n",
       "      <th></th>\n",
       "      <th>AQSID</th>\n",
       "      <th>SiteName</th>\n",
       "      <th>Status</th>\n",
       "      <th>EPARegion</th>\n",
       "      <th>Latitude</th>\n",
       "      <th>Longitude</th>\n",
       "      <th>Elevation</th>\n",
       "      <th>GMTOffset</th>\n",
       "      <th>CountryCode</th>\n",
       "      <th>StateName</th>\n",
       "      <th>...</th>\n",
       "      <th>OZONE</th>\n",
       "      <th>OZONE_Unit</th>\n",
       "      <th>NO2</th>\n",
       "      <th>NO2_Unit</th>\n",
       "      <th>CO</th>\n",
       "      <th>CO_Unit</th>\n",
       "      <th>SO2</th>\n",
       "      <th>SO2_Unit</th>\n",
       "      <th>PM10</th>\n",
       "      <th>PM10_Unit</th>\n",
       "    </tr>\n",
       "  </thead>\n",
       "  <tbody>\n",
       "    <tr>\n",
       "      <th>0</th>\n",
       "      <td>483951076</td>\n",
       "      <td>Franklin Oak Grove</td>\n",
       "      <td>Active</td>\n",
       "      <td>R6</td>\n",
       "      <td>31.168889</td>\n",
       "      <td>-96.481944</td>\n",
       "      <td>136.9</td>\n",
       "      <td>0.0</td>\n",
       "      <td>US</td>\n",
       "      <td>TX</td>\n",
       "      <td>...</td>\n",
       "      <td>NaN</td>\n",
       "      <td>NaN</td>\n",
       "      <td>NaN</td>\n",
       "      <td>NaN</td>\n",
       "      <td>NaN</td>\n",
       "      <td>NaN</td>\n",
       "      <td>NaN</td>\n",
       "      <td>NaN</td>\n",
       "      <td>NaN</td>\n",
       "      <td>NaN</td>\n",
       "    </tr>\n",
       "    <tr>\n",
       "      <th>1</th>\n",
       "      <td>080699991</td>\n",
       "      <td>Rocky Mtn NP Collocated</td>\n",
       "      <td>Active</td>\n",
       "      <td>R3</td>\n",
       "      <td>40.277800</td>\n",
       "      <td>-105.545300</td>\n",
       "      <td>2744.7</td>\n",
       "      <td>0.0</td>\n",
       "      <td>US</td>\n",
       "      <td>CO</td>\n",
       "      <td>...</td>\n",
       "      <td>NaN</td>\n",
       "      <td>NaN</td>\n",
       "      <td>NaN</td>\n",
       "      <td>NaN</td>\n",
       "      <td>NaN</td>\n",
       "      <td>NaN</td>\n",
       "      <td>NaN</td>\n",
       "      <td>NaN</td>\n",
       "      <td>NaN</td>\n",
       "      <td>NaN</td>\n",
       "    </tr>\n",
       "    <tr>\n",
       "      <th>2</th>\n",
       "      <td>530639995</td>\n",
       "      <td>Colbert-Greenbluff</td>\n",
       "      <td>Active</td>\n",
       "      <td>R10</td>\n",
       "      <td>47.808226</td>\n",
       "      <td>-117.343270</td>\n",
       "      <td>577.4</td>\n",
       "      <td>-8.0</td>\n",
       "      <td>US</td>\n",
       "      <td>WA</td>\n",
       "      <td>...</td>\n",
       "      <td>NaN</td>\n",
       "      <td>NaN</td>\n",
       "      <td>NaN</td>\n",
       "      <td>NaN</td>\n",
       "      <td>NaN</td>\n",
       "      <td>NaN</td>\n",
       "      <td>NaN</td>\n",
       "      <td>NaN</td>\n",
       "      <td>NaN</td>\n",
       "      <td>NaN</td>\n",
       "    </tr>\n",
       "    <tr>\n",
       "      <th>3</th>\n",
       "      <td>530639997</td>\n",
       "      <td>Spokane-E Broadway Ave (US)</td>\n",
       "      <td>Active</td>\n",
       "      <td>R10</td>\n",
       "      <td>47.663963</td>\n",
       "      <td>-117.257652</td>\n",
       "      <td>611.2</td>\n",
       "      <td>-8.0</td>\n",
       "      <td>US</td>\n",
       "      <td>WA</td>\n",
       "      <td>...</td>\n",
       "      <td>NaN</td>\n",
       "      <td>NaN</td>\n",
       "      <td>NaN</td>\n",
       "      <td>NaN</td>\n",
       "      <td>NaN</td>\n",
       "      <td>NaN</td>\n",
       "      <td>NaN</td>\n",
       "      <td>NaN</td>\n",
       "      <td>NaN</td>\n",
       "      <td>NaN</td>\n",
       "    </tr>\n",
       "    <tr>\n",
       "      <th>4</th>\n",
       "      <td>530639996</td>\n",
       "      <td>Liberty Lake-E Valeyway (US)</td>\n",
       "      <td>Inactive</td>\n",
       "      <td>R10</td>\n",
       "      <td>47.660568</td>\n",
       "      <td>-117.084503</td>\n",
       "      <td>650.3</td>\n",
       "      <td>-8.0</td>\n",
       "      <td>US</td>\n",
       "      <td>WA</td>\n",
       "      <td>...</td>\n",
       "      <td>NaN</td>\n",
       "      <td>NaN</td>\n",
       "      <td>NaN</td>\n",
       "      <td>NaN</td>\n",
       "      <td>NaN</td>\n",
       "      <td>NaN</td>\n",
       "      <td>NaN</td>\n",
       "      <td>NaN</td>\n",
       "      <td>NaN</td>\n",
       "      <td>NaN</td>\n",
       "    </tr>\n",
       "  </tbody>\n",
       "</table>\n",
       "<p>5 rows × 34 columns</p>\n",
       "</div>"
      ],
      "text/plain": [
       "       AQSID                      SiteName    Status EPARegion   Latitude  \\\n",
       "0  483951076            Franklin Oak Grove    Active        R6  31.168889   \n",
       "1  080699991       Rocky Mtn NP Collocated    Active        R3  40.277800   \n",
       "2  530639995            Colbert-Greenbluff    Active       R10  47.808226   \n",
       "3  530639997   Spokane-E Broadway Ave (US)    Active       R10  47.663963   \n",
       "4  530639996  Liberty Lake-E Valeyway (US)  Inactive       R10  47.660568   \n",
       "\n",
       "    Longitude  Elevation  GMTOffset CountryCode StateName    ...     OZONE  \\\n",
       "0  -96.481944      136.9        0.0          US        TX    ...       NaN   \n",
       "1 -105.545300     2744.7        0.0          US        CO    ...       NaN   \n",
       "2 -117.343270      577.4       -8.0          US        WA    ...       NaN   \n",
       "3 -117.257652      611.2       -8.0          US        WA    ...       NaN   \n",
       "4 -117.084503      650.3       -8.0          US        WA    ...       NaN   \n",
       "\n",
       "  OZONE_Unit NO2 NO2_Unit  CO  CO_Unit  SO2  SO2_Unit  PM10  PM10_Unit  \n",
       "0        NaN NaN      NaN NaN      NaN  NaN       NaN   NaN        NaN  \n",
       "1        NaN NaN      NaN NaN      NaN  NaN       NaN   NaN        NaN  \n",
       "2        NaN NaN      NaN NaN      NaN  NaN       NaN   NaN        NaN  \n",
       "3        NaN NaN      NaN NaN      NaN  NaN       NaN   NaN        NaN  \n",
       "4        NaN NaN      NaN NaN      NaN  NaN       NaN   NaN        NaN  \n",
       "\n",
       "[5 rows x 34 columns]"
      ]
     },
     "execution_count": 7,
     "metadata": {},
     "output_type": "execute_result"
    }
   ],
   "source": [
    "airnow_df = pd.read_csv(url)\n",
    "airnow_df.head()"
   ]
  },
  {
   "cell_type": "code",
   "execution_count": 8,
   "metadata": {},
   "outputs": [
    {
     "ename": "FileNotFoundError",
     "evalue": "[Errno 2] No such file or directory: '/arcgis/home/anieto/workspace/airnow_testdata.csv'",
     "output_type": "error",
     "traceback": [
      "\u001b[1;31m---------------------------------------------------------------------------\u001b[0m",
      "\u001b[1;31mFileNotFoundError\u001b[0m                         Traceback (most recent call last)",
      "\u001b[1;32m<ipython-input-8-bff74ee0b92c>\u001b[0m in \u001b[0;36m<module>\u001b[1;34m()\u001b[0m\n\u001b[1;32m----> 1\u001b[1;33m \u001b[0mairnow_df\u001b[0m\u001b[1;33m.\u001b[0m\u001b[0mto_csv\u001b[0m\u001b[1;33m(\u001b[0m\u001b[1;34mr\"/arcgis/home/anieto/workspace/airnow_testdata.csv\"\u001b[0m\u001b[1;33m)\u001b[0m\u001b[1;33m\u001b[0m\u001b[0m\n\u001b[0m",
      "\u001b[1;32mC:\\ProgramData\\Anaconda3\\lib\\site-packages\\pandas\\core\\frame.py\u001b[0m in \u001b[0;36mto_csv\u001b[1;34m(self, path_or_buf, sep, na_rep, float_format, columns, header, index, index_label, mode, encoding, compression, quoting, quotechar, line_terminator, chunksize, tupleize_cols, date_format, doublequote, escapechar, decimal)\u001b[0m\n\u001b[0;32m   1743\u001b[0m                                  \u001b[0mdoublequote\u001b[0m\u001b[1;33m=\u001b[0m\u001b[0mdoublequote\u001b[0m\u001b[1;33m,\u001b[0m\u001b[1;33m\u001b[0m\u001b[0m\n\u001b[0;32m   1744\u001b[0m                                  escapechar=escapechar, decimal=decimal)\n\u001b[1;32m-> 1745\u001b[1;33m         \u001b[0mformatter\u001b[0m\u001b[1;33m.\u001b[0m\u001b[0msave\u001b[0m\u001b[1;33m(\u001b[0m\u001b[1;33m)\u001b[0m\u001b[1;33m\u001b[0m\u001b[0m\n\u001b[0m\u001b[0;32m   1746\u001b[0m \u001b[1;33m\u001b[0m\u001b[0m\n\u001b[0;32m   1747\u001b[0m         \u001b[1;32mif\u001b[0m \u001b[0mpath_or_buf\u001b[0m \u001b[1;32mis\u001b[0m \u001b[1;32mNone\u001b[0m\u001b[1;33m:\u001b[0m\u001b[1;33m\u001b[0m\u001b[0m\n",
      "\u001b[1;32mC:\\ProgramData\\Anaconda3\\lib\\site-packages\\pandas\\io\\formats\\csvs.py\u001b[0m in \u001b[0;36msave\u001b[1;34m(self)\u001b[0m\n\u001b[0;32m    154\u001b[0m             f, handles = _get_handle(self.path_or_buf, self.mode,\n\u001b[0;32m    155\u001b[0m                                      \u001b[0mencoding\u001b[0m\u001b[1;33m=\u001b[0m\u001b[0mencoding\u001b[0m\u001b[1;33m,\u001b[0m\u001b[1;33m\u001b[0m\u001b[0m\n\u001b[1;32m--> 156\u001b[1;33m                                      compression=self.compression)\n\u001b[0m\u001b[0;32m    157\u001b[0m             \u001b[0mclose\u001b[0m \u001b[1;33m=\u001b[0m \u001b[1;32mTrue\u001b[0m\u001b[1;33m\u001b[0m\u001b[0m\n\u001b[0;32m    158\u001b[0m \u001b[1;33m\u001b[0m\u001b[0m\n",
      "\u001b[1;32mC:\\ProgramData\\Anaconda3\\lib\\site-packages\\pandas\\io\\common.py\u001b[0m in \u001b[0;36m_get_handle\u001b[1;34m(path_or_buf, mode, encoding, compression, memory_map, is_text)\u001b[0m\n\u001b[0;32m    398\u001b[0m         \u001b[1;32melif\u001b[0m \u001b[0mencoding\u001b[0m\u001b[1;33m:\u001b[0m\u001b[1;33m\u001b[0m\u001b[0m\n\u001b[0;32m    399\u001b[0m             \u001b[1;31m# Python 3 and encoding\u001b[0m\u001b[1;33m\u001b[0m\u001b[1;33m\u001b[0m\u001b[0m\n\u001b[1;32m--> 400\u001b[1;33m             \u001b[0mf\u001b[0m \u001b[1;33m=\u001b[0m \u001b[0mopen\u001b[0m\u001b[1;33m(\u001b[0m\u001b[0mpath_or_buf\u001b[0m\u001b[1;33m,\u001b[0m \u001b[0mmode\u001b[0m\u001b[1;33m,\u001b[0m \u001b[0mencoding\u001b[0m\u001b[1;33m=\u001b[0m\u001b[0mencoding\u001b[0m\u001b[1;33m)\u001b[0m\u001b[1;33m\u001b[0m\u001b[0m\n\u001b[0m\u001b[0;32m    401\u001b[0m         \u001b[1;32melif\u001b[0m \u001b[0mis_text\u001b[0m\u001b[1;33m:\u001b[0m\u001b[1;33m\u001b[0m\u001b[0m\n\u001b[0;32m    402\u001b[0m             \u001b[1;31m# Python 3 and no explicit encoding\u001b[0m\u001b[1;33m\u001b[0m\u001b[1;33m\u001b[0m\u001b[0m\n",
      "\u001b[1;31mFileNotFoundError\u001b[0m: [Errno 2] No such file or directory: '/arcgis/home/anieto/workspace/airnow_testdata.csv'"
     ]
    }
   ],
   "source": [
    "airnow_df.to_csv(r\"/arcgis/home/anieto/workspace/airnow_testdata.csv\")"
   ]
  },
  {
   "cell_type": "code",
   "execution_count": 68,
   "metadata": {
    "scrolled": false
   },
   "outputs": [
    {
     "data": {
      "text/plain": [
       "<matplotlib.axes._subplots.AxesSubplot at 0x7f9a5fbcf978>"
      ]
     },
     "execution_count": 68,
     "metadata": {},
     "output_type": "execute_result"
    },
    {
     "data": {
      "image/png": "[encoded data removed]",
      "text/plain": [
       "<Figure size 432x288 with 1 Axes>"
      ]
     },
     "metadata": {
      "needs_background": "light"
     },
     "output_type": "display_data"
    }
   ],
   "source": [
    "airnow_df.plot(x=\"Longitude\", y=\"Latitude\", kind=\"scatter\")"
   ]
  },
  {
   "cell_type": "markdown",
   "metadata": {},
   "source": [
    "### Clean Data"
   ]
  },
  {
   "cell_type": "code",
   "execution_count": 69,
   "metadata": {},
   "outputs": [
    {
     "data": {
      "text/plain": [
       "<matplotlib.axes._subplots.AxesSubplot at 0x7f9a5fb882b0>"
      ]
     },
     "execution_count": 69,
     "metadata": {},
     "output_type": "execute_result"
    },
    {
     "data": {
      "image/png": "[encoded data removed]",
      "text/plain": [
       "<Figure size 432x288 with 1 Axes>"
      ]
     },
     "metadata": {
      "needs_background": "light"
     },
     "output_type": "display_data"
    }
   ],
   "source": [
    "airnow_df['PM25_AQI'].plot(kind='hist')"
   ]
  },
  {
   "cell_type": "code",
   "execution_count": 70,
   "metadata": {},
   "outputs": [
    {
     "name": "stdout",
     "output_type": "stream",
     "text": [
      "Pre-query record count: 2810\n",
      "Post-query record count: 939\n"
     ]
    }
   ],
   "source": [
    "print(\"Pre-query record count: {0}\".format(airnow_df.shape[0]))\n",
    "airnow_df = airnow_df.query(\"PM25_AQI > -999\")\n",
    "print(\"Post-query record count: {0}\".format(airnow_df.shape[0]))"
   ]
  },
  {
   "cell_type": "code",
   "execution_count": 71,
   "metadata": {},
   "outputs": [
    {
     "data": {
      "text/plain": [
       "<matplotlib.axes._subplots.AxesSubplot at 0x7f9a5fb57e80>"
      ]
     },
     "execution_count": 71,
     "metadata": {},
     "output_type": "execute_result"
    },
    {
     "data": {
      "image/png": "[encoded data removed]",
      "text/plain": [
       "<Figure size 432x288 with 1 Axes>"
      ]
     },
     "metadata": {
      "needs_background": "light"
     },
     "output_type": "display_data"
    }
   ],
   "source": [
    "airnow_df['PM25_AQI'].plot(kind='hist')"
   ]
  },
  {
   "cell_type": "code",
   "execution_count": 72,
   "metadata": {},
   "outputs": [
    {
     "data": {
      "text/html": [
       "<div>\n",
       "<style scoped>\n",
       "    .dataframe tbody tr th:only-of-type {\n",
       "        vertical-align: middle;\n",
       "    }\n",
       "\n",
       "    .dataframe tbody tr th {\n",
       "        vertical-align: top;\n",
       "    }\n",
       "\n",
       "    .dataframe thead th {\n",
       "        text-align: right;\n",
       "    }\n",
       "</style>\n",
       "<table border=\"1\" class=\"dataframe\">\n",
       "  <thead>\n",
       "    <tr style=\"text-align: right;\">\n",
       "      <th></th>\n",
       "      <th>AQSID</th>\n",
       "      <th>SiteName</th>\n",
       "      <th>Status</th>\n",
       "      <th>EPARegion</th>\n",
       "      <th>Latitude</th>\n",
       "      <th>Longitude</th>\n",
       "      <th>Elevation</th>\n",
       "      <th>GMTOffset</th>\n",
       "      <th>CountryCode</th>\n",
       "      <th>StateName</th>\n",
       "      <th>...</th>\n",
       "      <th>OZONE_Unit</th>\n",
       "      <th>NO2</th>\n",
       "      <th>NO2_Unit</th>\n",
       "      <th>CO</th>\n",
       "      <th>CO_Unit</th>\n",
       "      <th>SO2</th>\n",
       "      <th>SO2_Unit</th>\n",
       "      <th>PM10</th>\n",
       "      <th>PM10_Unit</th>\n",
       "      <th>SHAPE</th>\n",
       "    </tr>\n",
       "  </thead>\n",
       "  <tbody>\n",
       "    <tr>\n",
       "      <th>2</th>\n",
       "      <td>530639995</td>\n",
       "      <td>Colbert-Greenbluff</td>\n",
       "      <td>Active</td>\n",
       "      <td>R10</td>\n",
       "      <td>47.808226</td>\n",
       "      <td>-117.343270</td>\n",
       "      <td>577.4</td>\n",
       "      <td>-8.0</td>\n",
       "      <td>US</td>\n",
       "      <td>WA</td>\n",
       "      <td>...</td>\n",
       "      <td>NaN</td>\n",
       "      <td>NaN</td>\n",
       "      <td>NaN</td>\n",
       "      <td>NaN</td>\n",
       "      <td>NaN</td>\n",
       "      <td>NaN</td>\n",
       "      <td>NaN</td>\n",
       "      <td>NaN</td>\n",
       "      <td>NaN</td>\n",
       "      <td>{\"x\": -117.34326999999999, \"y\": 47.808226, \"sp...</td>\n",
       "    </tr>\n",
       "    <tr>\n",
       "      <th>3</th>\n",
       "      <td>530639997</td>\n",
       "      <td>Spokane-E Broadway Ave (US)</td>\n",
       "      <td>Active</td>\n",
       "      <td>R10</td>\n",
       "      <td>47.663963</td>\n",
       "      <td>-117.257652</td>\n",
       "      <td>611.2</td>\n",
       "      <td>-8.0</td>\n",
       "      <td>US</td>\n",
       "      <td>WA</td>\n",
       "      <td>...</td>\n",
       "      <td>NaN</td>\n",
       "      <td>NaN</td>\n",
       "      <td>NaN</td>\n",
       "      <td>NaN</td>\n",
       "      <td>NaN</td>\n",
       "      <td>NaN</td>\n",
       "      <td>NaN</td>\n",
       "      <td>NaN</td>\n",
       "      <td>NaN</td>\n",
       "      <td>{\"x\": -117.25765200000001, \"y\": 47.663963, \"sp...</td>\n",
       "    </tr>\n",
       "    <tr>\n",
       "      <th>10</th>\n",
       "      <td>390610048</td>\n",
       "      <td>Cincinnati Near Road</td>\n",
       "      <td>Active</td>\n",
       "      <td>R5</td>\n",
       "      <td>39.146025</td>\n",
       "      <td>-84.538375</td>\n",
       "      <td>0.0</td>\n",
       "      <td>-5.0</td>\n",
       "      <td>US</td>\n",
       "      <td>OH</td>\n",
       "      <td>...</td>\n",
       "      <td>NaN</td>\n",
       "      <td>21.0</td>\n",
       "      <td>PPB</td>\n",
       "      <td>0.27</td>\n",
       "      <td>PPM</td>\n",
       "      <td>NaN</td>\n",
       "      <td>NaN</td>\n",
       "      <td>NaN</td>\n",
       "      <td>NaN</td>\n",
       "      <td>{\"x\": -84.538375, \"y\": 39.146025, \"spatialRefe...</td>\n",
       "    </tr>\n",
       "    <tr>\n",
       "      <th>14</th>\n",
       "      <td>390610040</td>\n",
       "      <td>Taft</td>\n",
       "      <td>Active</td>\n",
       "      <td>R5</td>\n",
       "      <td>39.128860</td>\n",
       "      <td>-84.504040</td>\n",
       "      <td>0.0</td>\n",
       "      <td>-5.0</td>\n",
       "      <td>US</td>\n",
       "      <td>OH</td>\n",
       "      <td>...</td>\n",
       "      <td>PPB</td>\n",
       "      <td>6.0</td>\n",
       "      <td>PPB</td>\n",
       "      <td>0.19</td>\n",
       "      <td>PPM</td>\n",
       "      <td>1.0</td>\n",
       "      <td>PPB</td>\n",
       "      <td>6.0</td>\n",
       "      <td>UG/M3</td>\n",
       "      <td>{\"x\": -84.50404, \"y\": 39.128859999999996, \"spa...</td>\n",
       "    </tr>\n",
       "    <tr>\n",
       "      <th>16</th>\n",
       "      <td>390990014</td>\n",
       "      <td>Youngstown - Head Start</td>\n",
       "      <td>Active</td>\n",
       "      <td>R5</td>\n",
       "      <td>41.095938</td>\n",
       "      <td>-80.658467</td>\n",
       "      <td>0.0</td>\n",
       "      <td>-5.0</td>\n",
       "      <td>US</td>\n",
       "      <td>OH</td>\n",
       "      <td>...</td>\n",
       "      <td>NaN</td>\n",
       "      <td>NaN</td>\n",
       "      <td>NaN</td>\n",
       "      <td>NaN</td>\n",
       "      <td>NaN</td>\n",
       "      <td>NaN</td>\n",
       "      <td>NaN</td>\n",
       "      <td>NaN</td>\n",
       "      <td>NaN</td>\n",
       "      <td>{\"x\": -80.658467, \"y\": 41.095938000000004, \"sp...</td>\n",
       "    </tr>\n",
       "  </tbody>\n",
       "</table>\n",
       "<p>5 rows × 35 columns</p>\n",
       "</div>"
      ],
      "text/plain": [
       "        AQSID                     SiteName  Status EPARegion   Latitude  \\\n",
       "2   530639995           Colbert-Greenbluff  Active       R10  47.808226   \n",
       "3   530639997  Spokane-E Broadway Ave (US)  Active       R10  47.663963   \n",
       "10  390610048         Cincinnati Near Road  Active        R5  39.146025   \n",
       "14  390610040                         Taft  Active        R5  39.128860   \n",
       "16  390990014      Youngstown - Head Start  Active        R5  41.095938   \n",
       "\n",
       "     Longitude  Elevation  GMTOffset CountryCode StateName  \\\n",
       "2  -117.343270      577.4       -8.0          US        WA   \n",
       "3  -117.257652      611.2       -8.0          US        WA   \n",
       "10  -84.538375        0.0       -5.0          US        OH   \n",
       "14  -84.504040        0.0       -5.0          US        OH   \n",
       "16  -80.658467        0.0       -5.0          US        OH   \n",
       "\n",
       "                          ...                         OZONE_Unit   NO2  \\\n",
       "2                         ...                                NaN   NaN   \n",
       "3                         ...                                NaN   NaN   \n",
       "10                        ...                                NaN  21.0   \n",
       "14                        ...                                PPB   6.0   \n",
       "16                        ...                                NaN   NaN   \n",
       "\n",
       "   NO2_Unit    CO  CO_Unit  SO2  SO2_Unit  PM10  PM10_Unit  \\\n",
       "2       NaN   NaN      NaN  NaN       NaN   NaN        NaN   \n",
       "3       NaN   NaN      NaN  NaN       NaN   NaN        NaN   \n",
       "10      PPB  0.27      PPM  NaN       NaN   NaN        NaN   \n",
       "14      PPB  0.19      PPM  1.0       PPB   6.0      UG/M3   \n",
       "16      NaN   NaN      NaN  NaN       NaN   NaN        NaN   \n",
       "\n",
       "                                                SHAPE  \n",
       "2   {\"x\": -117.34326999999999, \"y\": 47.808226, \"sp...  \n",
       "3   {\"x\": -117.25765200000001, \"y\": 47.663963, \"sp...  \n",
       "10  {\"x\": -84.538375, \"y\": 39.146025, \"spatialRefe...  \n",
       "14  {\"x\": -84.50404, \"y\": 39.128859999999996, \"spa...  \n",
       "16  {\"x\": -80.658467, \"y\": 41.095938000000004, \"sp...  \n",
       "\n",
       "[5 rows x 35 columns]"
      ]
     },
     "execution_count": 72,
     "metadata": {},
     "output_type": "execute_result"
    }
   ],
   "source": [
    "airnow_sdf = pd.DataFrame.spatial.from_xy(df=airnow_df, x_column=\"Longitude\", y_column=\"Latitude\", sr=4326)\n",
    "airnow_sdf.head()"
   ]
  },
  {
   "cell_type": "code",
   "execution_count": 73,
   "metadata": {},
   "outputs": [
    {
     "data": {
      "text/plain": [
       "(939, 35)"
      ]
     },
     "execution_count": 73,
     "metadata": {},
     "output_type": "execute_result"
    }
   ],
   "source": [
    "airnow_sdf.shape"
   ]
  },
  {
   "cell_type": "code",
   "execution_count": 74,
   "metadata": {
    "scrolled": true
   },
   "outputs": [
    {
     "data": {
      "text/plain": [
       "2       {\"x\": -117.34326999999999, \"y\": 47.808226, \"sp...\n",
       "3       {\"x\": -117.25765200000001, \"y\": 47.663963, \"sp...\n",
       "10      {\"x\": -84.538375, \"y\": 39.146025, \"spatialRefe...\n",
       "14      {\"x\": -84.50404, \"y\": 39.128859999999996, \"spa...\n",
       "16      {\"x\": -80.658467, \"y\": 41.095938000000004, \"sp...\n",
       "19      {\"x\": -118.13068899999999, \"y\": 34.669589, \"sp...\n",
       "28      {\"x\": -123.34846599999999, \"y\": 42.434149, \"sp...\n",
       "29      {\"x\": -118.22675500000001, \"y\": 34.066429, \"sp...\n",
       "32      {\"x\": -118.1464, \"y\": 35.0506, \"spatialReferen...\n",
       "35      {\"x\": -119.06277800000001, \"y\": 35.356667, \"sp...\n",
       "40      {\"x\": -121.9617, \"y\": 38.3525, \"spatialReferen...\n",
       "41      {\"x\": -120.0341, \"y\": 36.9533, \"spatialReferen...\n",
       "43      {\"x\": -95.425, \"y\": 30.3503, \"spatialReference...\n",
       "48      {\"x\": -113.89299799999999, \"y\": 45.178699, \"sp...\n",
       "50      {\"x\": -89.3819, \"y\": 36.0528, \"spatialReferenc...\n",
       "51      {\"x\": -82.06208199999999, \"y\": 35.912487, \"spa...\n",
       "57      {\"x\": -85.2931, \"y\": 35.0508, \"spatialReferenc...\n",
       "58      {\"x\": -84.36612, \"y\": 39.2787, \"spatialReferen...\n",
       "61      {\"x\": -123.0535, \"y\": 43.7995, \"spatialReferen...\n",
       "65      {\"x\": -90.344494, \"y\": 39.101439, \"spatialRefe...\n",
       "66      {\"x\": -84.69086, \"y\": 39.214940000000006, \"spa...\n",
       "68      {\"x\": -122.7419, \"y\": 53.9147, \"spatialReferen...\n",
       "70      {\"x\": -121.2653, \"y\": 38.7458, \"spatialReferen...\n",
       "72      {\"x\": -120.9528, \"y\": 39.1003, \"spatialReferen...\n",
       "73      {\"x\": -121.103897, \"y\": 38.937801, \"spatialRef...\n",
       "75      {\"x\": -62.5828, \"y\": 46.3864, \"spatialReferenc...\n",
       "76      {\"x\": -97.1933, \"y\": 33.1944, \"spatialReferenc...\n",
       "77      {\"x\": -111.894167, \"y\": 40.598056, \"spatialRef...\n",
       "81      {\"x\": -68.016195, \"y\": 46.682299, \"spatialRefe...\n",
       "83      {\"x\": -67.0786, \"y\": 45.0892, \"spatialReferenc...\n",
       "                              ...                        \n",
       "2728    {\"x\": -116.92948600000001, \"y\": 32.579361, \"sp...\n",
       "2734    {\"x\": -76.958089, \"y\": 38.895683, \"spatialRefe...\n",
       "2742    {\"x\": -122.660004, \"y\": 48.294399, \"spatialRef...\n",
       "2746    {\"x\": -77.013176, \"y\": 38.921848, \"spatialRefe...\n",
       "2748    {\"x\": -76.953427, \"y\": 38.894749, \"spatialRefe...\n",
       "2750    {\"x\": -110.2331, \"y\": 54.4138, \"spatialReferen...\n",
       "2754    {\"x\": -81.373, \"y\": 40.800717, \"spatialReferen...\n",
       "2755    {\"x\": -119.7164, \"y\": 36.819199, \"spatialRefer...\n",
       "2760    {\"x\": -123.36478999999999, \"y\": 43.2266, \"spat...\n",
       "2761    {\"x\": -87.495044, \"y\": 41.594427, \"spatialRefe...\n",
       "2762    {\"x\": -89.287498, \"y\": 31.322778999999997, \"sp...\n",
       "2768    {\"x\": -94.60166, \"y\": 47.38443, \"spatialRefere...\n",
       "2770    {\"x\": -91.0684, \"y\": 41.4014, \"spatialReferenc...\n",
       "2774    {\"x\": -122.559998, \"y\": 48.465401, \"spatialRef...\n",
       "2775    {\"x\": -74.05229200000001, \"y\": 40.725452000000...\n",
       "2777    {\"x\": -86.2564, \"y\": 32.4069, \"spatialReferenc...\n",
       "2779    {\"x\": -94.693298, \"y\": 43.123298999999996, \"sp...\n",
       "2780    {\"x\": -81.1306, \"y\": 32.0903, \"spatialReferenc...\n",
       "2781    {\"x\": -75.6231, \"y\": 41.4428, \"spatialReferenc...\n",
       "2783    {\"x\": -123.00593400000001, \"y\": 44.943114, \"sp...\n",
       "2785    {\"x\": -73.303299, \"y\": 41.833099, \"spatialRefe...\n",
       "2787    {\"x\": -72.0789, \"y\": 41.3536, \"spatialReferenc...\n",
       "2789    {\"x\": -80.2961, \"y\": 43.1403, \"spatialReferenc...\n",
       "2797    {\"x\": -79.9033, \"y\": 40.1469, \"spatialReferenc...\n",
       "2798    {\"x\": -93.8731, \"y\": 30.18, \"spatialReference\"...\n",
       "2799    {\"x\": -102.402199, \"y\": 48.641899, \"spatialRef...\n",
       "2800    {\"x\": -75.6764, \"y\": 45.4322, \"spatialReferenc...\n",
       "2802    {\"x\": -107.81688999999999, \"y\": 50.28583300000...\n",
       "2807    {\"x\": -123.8317, \"y\": 46.9772, \"spatialReferen...\n",
       "2808    {\"x\": -98.39139, \"y\": 29.5294, \"spatialReferen...\n",
       "Name: SHAPE, Length: 939, dtype: geometry"
      ]
     },
     "execution_count": 74,
     "metadata": {},
     "output_type": "execute_result"
    }
   ],
   "source": [
    "airnow_sdf['SHAPE']"
   ]
  },
  {
   "cell_type": "code",
   "execution_count": 75,
   "metadata": {},
   "outputs": [
    {
     "name": "stdout",
     "output_type": "stream",
     "text": [
      "Using existing file geodatabase...\n"
     ]
    }
   ],
   "source": [
    "if arcpy.Exists(r\"/arcgis/home/anieto/workspace/AirNow.gdb\"):\n",
    "    print(\"Using existing file geodatabase...\")\n",
    "    airnow_fgdb = r\"/arcgis/home/anieto/workspace/AirNow.gdb\"\n",
    "    \n",
    "else:    \n",
    "    print(\"Creating new file geodatabase...\")\n",
    "    airnow_fgdb = arcpy.CreateFileGDB_management(r\"/arcgis/home/anieto/workspace\", \"AirNow\").getOutput(0)"
   ]
  },
  {
   "cell_type": "code",
   "execution_count": 76,
   "metadata": {},
   "outputs": [
    {
     "data": {
      "text/plain": [
       "'/arcgis/home/anieto/workspace/AirNow.gdb/AirNow_Test'"
      ]
     },
     "execution_count": 76,
     "metadata": {},
     "output_type": "execute_result"
    }
   ],
   "source": [
    "airnow_fc = airnow_sdf.spatial.to_featureclass(location=os.path.join(airnow_fgdb, \"AirNow_Test\"))\n",
    "airnow_fc"
   ]
  },
  {
   "cell_type": "code",
   "execution_count": 77,
   "metadata": {},
   "outputs": [],
   "source": [
    "airnow_layer = airnow_sdf.spatial.to_featurelayer(\"AirNow_Test_02\", gis=gis)"
   ]
  },
  {
   "cell_type": "code",
   "execution_count": 78,
   "metadata": {},
   "outputs": [
    {
     "data": {
      "text/html": [
       "<div class=\"item_container\" style=\"height: auto; overflow: hidden; border: 1px solid #cfcfcf; border-radius: 2px; background: #f6fafa; line-height: 1.21429em; padding: 10px;\">\n",
       "                    <div class=\"item_left\" style=\"width: 210px; float: left;\">\n",
       "                       <a href='https://datasciencedemo.esri.com/portal/home/item.html?id=7f2cbbd3b9dc44bf83080e4ce2fe514e' target='_blank'>\n",
       "                        <img src='https://datasciencedemo.esri.com/portal/portalimages/desktopapp.png' class=\"itemThumbnail\">\n",
       "                       </a>\n",
       "                    </div>\n",
       "\n",
       "                    <div class=\"item_right\"     style=\"float: none; width: auto; overflow: hidden;\">\n",
       "                        <a href='https://datasciencedemo.esri.com/portal/home/item.html?id=7f2cbbd3b9dc44bf83080e4ce2fe514e' target='_blank'><b>AirNow_Test_02</b>\n",
       "                        </a>\n",
       "                        <br/><img src='https://datasciencedemo.esri.com/portal/home/js/jsapi/esri/css/images/item_type_icons/featureshosted16.png' style=\"vertical-align:middle;\">Feature Layer Collection by anieto\n",
       "                        <br/>Last Modified: March 26, 2019\n",
       "                        <br/>0 comments, 0 views\n",
       "                    </div>\n",
       "                </div>\n",
       "                "
      ],
      "text/plain": [
       "<Item title:\"AirNow_Test_02\" type:Feature Layer Collection owner:anieto>"
      ]
     },
     "execution_count": 78,
     "metadata": {},
     "output_type": "execute_result"
    }
   ],
   "source": [
    "airnow_layer"
   ]
  },
  {
   "cell_type": "code",
   "execution_count": 79,
   "metadata": {},
   "outputs": [
    {
     "data": {
      "text/html": [
       "<div class=\"item_container\" style=\"height: auto; overflow: hidden; border: 1px solid #cfcfcf; border-radius: 2px; background: #f6fafa; line-height: 1.21429em; padding: 10px;\">\n",
       "                    <div class=\"item_left\" style=\"width: 210px; float: left;\">\n",
       "                       <a href='https://datasciencedemo.esri.com/portal/home/item.html?id=99fd67933e754a1181cc755146be21ca' target='_blank'>\n",
       "                        <img src='data:image/png;base64,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' width='200' height='133' class=\"itemThumbnail\">\n",
       "                       </a>\n",
       "                    </div>\n",
       "\n",
       "                    <div class=\"item_right\"     style=\"float: none; width: auto; overflow: hidden;\">\n",
       "                        <a href='https://datasciencedemo.esri.com/portal/home/item.html?id=99fd67933e754a1181cc755146be21ca' target='_blank'><b>USA States (Generalized)</b>\n",
       "                        </a>\n",
       "                        <br/>USA States (Generalized) provides 2017 boundaries for the States of the United States in the 50 states and the District of Columbia.<img src='https://datasciencedemo.esri.com/portal/home/js/jsapi/esri/css/images/item_type_icons/featureshosted16.png' style=\"vertical-align:middle;\">Feature Layer Collection by esri_livingatlas\n",
       "                        <br/>Last Modified: January 27, 2019\n",
       "                        <br/>0 comments, 0 views\n",
       "                    </div>\n",
       "                </div>\n",
       "                "
      ],
      "text/plain": [
       "<Item title:\"USA States (Generalized)\" type:Feature Layer Collection owner:esri_livingatlas>"
      ]
     },
     "execution_count": 79,
     "metadata": {},
     "output_type": "execute_result"
    }
   ],
   "source": [
    "# Item Added From Toolbar\n",
    "# Title: USA States (Generalized) | Type: Feature Service | Owner: esri_livingatlas\n",
    "states = gis.content.get(\"99fd67933e754a1181cc755146be21ca\")\n",
    "states"
   ]
  },
  {
   "cell_type": "code",
   "execution_count": 80,
   "metadata": {},
   "outputs": [
    {
     "data": {
      "application/vnd.jupyter.widget-view+json": {
       "model_id": "ca63d629c1024b2395b3a795b1f1b0ab",
       "version_major": 2,
       "version_minor": 0
      },
      "text/plain": [
       "MapView(layout=Layout(height='400px', width='100%'))"
      ]
     },
     "metadata": {},
     "output_type": "display_data"
    },
    {
     "data": {
      "text/html": [
       "<div class=\"map-static-img-preview-b2591e90-b800-4ccb-813a-abf9a67ea7f5\"><img src=\"\"></img></div>"
      ],
      "text/plain": [
       "<IPython.core.display.HTML object>"
      ]
     },
     "metadata": {},
     "output_type": "display_data"
    }
   ],
   "source": [
    "airnow_map = gis.map(\"usa\")\n",
    "airnow_map.add_layer(airnow_layer)\n",
    "airnow_map"
   ]
  },
  {
   "cell_type": "code",
   "execution_count": 81,
   "metadata": {},
   "outputs": [
    {
     "data": {
      "text/plain": [
       "{'result_layer': <FeatureCollection>,\n",
       " 'prediction_error': <FeatureCollection>,\n",
       " 'predicted_point_layer': <FeatureCollection>}"
      ]
     },
     "execution_count": 81,
     "metadata": {},
     "output_type": "execute_result"
    }
   ],
   "source": [
    "from arcgis import features\n",
    "inter = features.analyze_patterns.interpolate_points(airnow_layer, \"PM25_AQI\", bounding_polygon_layer=states)\n",
    "inter"
   ]
  },
  {
   "cell_type": "code",
   "execution_count": 84,
   "metadata": {},
   "outputs": [],
   "source": [
    "airnow_map.add_layer(inter['result_layer'])"
   ]
  },
  {
   "cell_type": "code",
   "execution_count": 83,
   "metadata": {},
   "outputs": [],
   "source": [
    "airnow_map.legend = True"
   ]
  },
  {
   "cell_type": "markdown",
   "metadata": {},
   "source": [
    "#### >>> Dev Zone: Bug on Spatially-enabled Dataframe Plotting <<<"
   ]
  },
  {
   "cell_type": "code",
   "execution_count": 23,
   "metadata": {},
   "outputs": [
    {
     "data": {
      "application/vnd.jupyter.widget-view+json": {
       "model_id": "",
       "version_major": 2,
       "version_minor": 0
      },
      "text/plain": [
       "MapView(layout=Layout(height='400px', width='100%'))"
      ]
     },
     "metadata": {},
     "output_type": "display_data"
    },
    {
     "data": {
      "text/html": [
       "<div class=\"map-static-img-preview-a01e6341-c801-4d64-96ee-00e5a32a7459\"><img src=\"\"></img></div>"
      ],
      "text/plain": [
       "<IPython.core.display.HTML object>"
      ]
     },
     "metadata": {},
     "output_type": "display_data"
    }
   ],
   "source": [
    "usa_map = gis.map(\"usa\")\n",
    "usa_map"
   ]
  },
  {
   "cell_type": "code",
   "execution_count": 27,
   "metadata": {},
   "outputs": [
    {
     "data": {
      "text/plain": [
       "True"
      ]
     },
     "execution_count": 27,
     "metadata": {},
     "output_type": "execute_result"
    }
   ],
   "source": [
    "airnow_sdf.spatial.plot(usa_map)"
   ]
  },
  {
   "cell_type": "markdown",
   "metadata": {},
   "source": [
    "#### >>> End Dev Zone: Bug on Spatially-enabled Dataframe Plotting <<<"
   ]
  },
  {
   "cell_type": "code",
   "execution_count": null,
   "metadata": {},
   "outputs": [],
   "source": []
  }
 ],
 "metadata": {
  "kernelspec": {
   "display_name": "Python 3",
   "language": "python",
   "name": "python3"
  },
  "language_info": {
   "codemirror_mode": {
    "name": "ipython",
    "version": 3
   },
   "file_extension": ".py",
   "mimetype": "text/x-python",
   "name": "python",
   "nbconvert_exporter": "python",
   "pygments_lexer": "ipython3",
   "version": "3.6.6"
  }
 },
 "nbformat": 4,
 "nbformat_minor": 2
}
